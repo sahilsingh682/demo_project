{
 "cells": [
  {
   "cell_type": "markdown",
   "id": "973501d3-5f7d-4ae1-8bb8-1547ca519088",
   "metadata": {},
   "source": [
    "# Random Module"
   ]
  },
  {
   "cell_type": "code",
   "execution_count": 2,
   "id": "c9d1667b-71ba-4d47-b002-7b822209059b",
   "metadata": {},
   "outputs": [],
   "source": [
    "# numpy offers a random module to generate a random number"
   ]
  },
  {
   "cell_type": "code",
   "execution_count": 8,
   "id": "4de2d37c-5a91-4165-bd44-cb423df4a8ae",
   "metadata": {},
   "outputs": [],
   "source": [
    "import numpy as np\n",
    "from numpy import random"
   ]
  },
  {
   "cell_type": "code",
   "execution_count": 23,
   "id": "83231506-9519-4b22-8369-7fa570a0a7e9",
   "metadata": {},
   "outputs": [],
   "source": [
    "x= np.random.randint(100)"
   ]
  },
  {
   "cell_type": "code",
   "execution_count": 25,
   "id": "d41dc8cc-f2c0-45e3-9d1c-a0d58692f1e7",
   "metadata": {},
   "outputs": [
    {
     "name": "stdout",
     "output_type": "stream",
     "text": [
      "39\n"
     ]
    }
   ],
   "source": [
    "print(x)"
   ]
  },
  {
   "cell_type": "markdown",
   "id": "91ccbc71-50e2-4919-9c7b-b63b8033246f",
   "metadata": {},
   "source": [
    "# Generating arrays of random number"
   ]
  },
  {
   "cell_type": "code",
   "execution_count": 28,
   "id": "ce19c733-0032-4dfc-a412-bb884846e0c6",
   "metadata": {},
   "outputs": [],
   "source": [
    "a = np.random.randint(100,size=5)"
   ]
  },
  {
   "cell_type": "code",
   "execution_count": 30,
   "id": "df01e734-9378-4eef-9578-54c02821daff",
   "metadata": {},
   "outputs": [
    {
     "name": "stdout",
     "output_type": "stream",
     "text": [
      "[53 50 66 94 32]\n"
     ]
    }
   ],
   "source": [
    "print(a)"
   ]
  },
  {
   "cell_type": "markdown",
   "id": "d5d55b04-0f9d-4c75-804d-66b9aae9f5bf",
   "metadata": {},
   "source": [
    "# Generating 2-d array using random module"
   ]
  },
  {
   "cell_type": "code",
   "execution_count": 33,
   "id": "8c9c360e-b56e-4d3a-a743-a6423840ee32",
   "metadata": {},
   "outputs": [],
   "source": [
    "b = np.random.randint(100, size=(3,4))"
   ]
  },
  {
   "cell_type": "code",
   "execution_count": 35,
   "id": "68a948d3-9d1a-420f-8b9e-6ac0e6c412d9",
   "metadata": {},
   "outputs": [
    {
     "name": "stdout",
     "output_type": "stream",
     "text": [
      "[[77 38 87 91]\n",
      " [12 14 29  6]\n",
      " [32 23 79 25]]\n"
     ]
    }
   ],
   "source": [
    "print(b)"
   ]
  },
  {
   "cell_type": "markdown",
   "id": "080a4ed0-fb15-4b35-b5b4-fb3c642fc64a",
   "metadata": {},
   "source": [
    "# Generating random float"
   ]
  },
  {
   "cell_type": "code",
   "execution_count": 42,
   "id": "9b69d7b6-6024-445b-b85b-6a96a8166e8e",
   "metadata": {},
   "outputs": [],
   "source": [
    "c= random.rand()"
   ]
  },
  {
   "cell_type": "code",
   "execution_count": 44,
   "id": "f6cc421d-c33b-433a-939e-402428b0c7a0",
   "metadata": {},
   "outputs": [
    {
     "name": "stdout",
     "output_type": "stream",
     "text": [
      "0.7065961098908645\n"
     ]
    }
   ],
   "source": [
    "print(c)"
   ]
  },
  {
   "cell_type": "markdown",
   "id": "427deb0f-cd74-495d-b9f9-efb5babb0e70",
   "metadata": {},
   "source": [
    "# Generating random float"
   ]
  },
  {
   "cell_type": "code",
   "execution_count": 55,
   "id": "192617b2-481d-489d-ae44-f8ec2e9629d9",
   "metadata": {},
   "outputs": [],
   "source": [
    "d= random.rand(5)"
   ]
  },
  {
   "cell_type": "code",
   "execution_count": 57,
   "id": "e1bd2179-88d2-4797-ad69-50afb5123b66",
   "metadata": {},
   "outputs": [
    {
     "name": "stdout",
     "output_type": "stream",
     "text": [
      "[0.76362068 0.91615104 0.9413121  0.93985477 0.33392311]\n"
     ]
    }
   ],
   "source": [
    "print(d)"
   ]
  },
  {
   "cell_type": "markdown",
   "id": "25d905d1-f63b-4cb5-8d3d-ff20196e5bee",
   "metadata": {},
   "source": [
    "# Generating 2-d float random array"
   ]
  },
  {
   "cell_type": "code",
   "execution_count": 60,
   "id": "19b67acc-7a3d-48d6-bad2-ac66c6588be6",
   "metadata": {},
   "outputs": [],
   "source": [
    "float_array = random.rand(3,4)"
   ]
  },
  {
   "cell_type": "code",
   "execution_count": 62,
   "id": "5de1bd3e-d63f-4f80-8885-735f20a12e4f",
   "metadata": {},
   "outputs": [
    {
     "name": "stdout",
     "output_type": "stream",
     "text": [
      "[[0.82019147 0.75258132 0.40414678 0.03871378]\n",
      " [0.82357105 0.93837439 0.45630798 0.75626633]\n",
      " [0.4836219  0.97425019 0.49147111 0.4162803 ]]\n"
     ]
    }
   ],
   "source": [
    "print(float_array)"
   ]
  },
  {
   "cell_type": "markdown",
   "id": "76d9d79c-a391-4c21-88c8-fd39cdfcb04a",
   "metadata": {},
   "source": [
    "# Selecting a random number from a given array"
   ]
  },
  {
   "cell_type": "code",
   "execution_count": 69,
   "id": "2f35bea9-3033-4e42-aff7-a5b23f593c34",
   "metadata": {},
   "outputs": [],
   "source": [
    "rand_num = random.choice([2,3,4,5,67,87])"
   ]
  },
  {
   "cell_type": "code",
   "execution_count": 71,
   "id": "d07f8c87-192a-48af-8e60-532bcc7b4f45",
   "metadata": {},
   "outputs": [
    {
     "name": "stdout",
     "output_type": "stream",
     "text": [
      "67\n"
     ]
    }
   ],
   "source": [
    "print(rand_num)"
   ]
  },
  {
   "cell_type": "code",
   "execution_count": 91,
   "id": "8a6b37e3-8661-4840-9eb2-04fb730fee73",
   "metadata": {},
   "outputs": [],
   "source": [
    "colors = ['red','green','blue','white','black','pink','yellow']"
   ]
  },
  {
   "cell_type": "code",
   "execution_count": 93,
   "id": "08bb4b44-58b8-44f8-a552-5792a2d69115",
   "metadata": {},
   "outputs": [],
   "source": [
    "select_color= random.choice(colors)"
   ]
  },
  {
   "cell_type": "code",
   "execution_count": 95,
   "id": "fe905e8f-e08f-4056-bb20-92928b228049",
   "metadata": {},
   "outputs": [
    {
     "name": "stdout",
     "output_type": "stream",
     "text": [
      "yellow\n"
     ]
    }
   ],
   "source": [
    "print(select_color)"
   ]
  },
  {
   "cell_type": "code",
   "execution_count": 99,
   "id": "70a8d1d8-b8e2-4f27-b9d9-7b4a6b5904db",
   "metadata": {},
   "outputs": [],
   "source": [
    "security_breaches = np.array([[0,5,1] ,[0,2,0] ,[1,1,2] ,[2,2,1], [0,0,0]])"
   ]
  },
  {
   "cell_type": "code",
   "execution_count": 101,
   "id": "f02692a1-8216-456a-9dbd-3b909d4b48f4",
   "metadata": {},
   "outputs": [
    {
     "name": "stdout",
     "output_type": "stream",
     "text": [
      "[[0 5 1]\n",
      " [0 2 0]\n",
      " [1 1 2]\n",
      " [2 2 1]\n",
      " [0 0 0]]\n"
     ]
    }
   ],
   "source": [
    "print(security_breaches)"
   ]
  },
  {
   "cell_type": "code",
   "execution_count": 107,
   "id": "aa4697d6-0ffa-4176-9fe1-ed315238f79a",
   "metadata": {},
   "outputs": [
    {
     "data": {
      "text/plain": [
       "17"
      ]
     },
     "execution_count": 107,
     "metadata": {},
     "output_type": "execute_result"
    }
   ],
   "source": [
    "print(security_breaches.sum())"
   ]
  },
  {
   "cell_type": "code",
   "execution_count": 109,
   "id": "6da80668-e280-47b4-9c09-2d2401fb5854",
   "metadata": {},
   "outputs": [
    {
     "name": "stdout",
     "output_type": "stream",
     "text": [
      "[6 2 4 5 0]\n"
     ]
    }
   ],
   "source": [
    "print(security_breaches.sum(axis=1)) #aggregrating columns"
   ]
  },
  {
   "cell_type": "code",
   "execution_count": 111,
   "id": "498db29d-1cd2-43c1-af33-e0d69d683aa6",
   "metadata": {},
   "outputs": [
    {
     "name": "stdout",
     "output_type": "stream",
     "text": [
      "[ 3 10  4]\n"
     ]
    }
   ],
   "source": [
    "print(security_breaches.sum(axis=0)) # aggregrating rows"
   ]
  },
  {
   "cell_type": "code",
   "execution_count": 113,
   "id": "33c09820-9528-4c84-93ae-dbe2731d467a",
   "metadata": {},
   "outputs": [
    {
     "name": "stdout",
     "output_type": "stream",
     "text": [
      "0\n"
     ]
    }
   ],
   "source": [
    "print(security_breaches.min())"
   ]
  },
  {
   "cell_type": "code",
   "execution_count": 115,
   "id": "27189c0f-a426-430f-9631-c4469c8a13d7",
   "metadata": {},
   "outputs": [
    {
     "name": "stdout",
     "output_type": "stream",
     "text": [
      "[0 0 0]\n"
     ]
    }
   ],
   "source": [
    "print(security_breaches.min(axis=0))"
   ]
  },
  {
   "cell_type": "code",
   "execution_count": 117,
   "id": "e59e7bbb-206f-43b1-bf6a-d0925ead82d1",
   "metadata": {},
   "outputs": [
    {
     "name": "stdout",
     "output_type": "stream",
     "text": [
      "[0 0 1 1 0]\n"
     ]
    }
   ],
   "source": [
    "print(security_breaches.min(axis=1))"
   ]
  },
  {
   "cell_type": "code",
   "execution_count": 119,
   "id": "52d2195c-7748-4c98-a141-25b6f7822a4d",
   "metadata": {},
   "outputs": [
    {
     "name": "stdout",
     "output_type": "stream",
     "text": [
      "5\n"
     ]
    }
   ],
   "source": [
    "print(security_breaches.max())"
   ]
  },
  {
   "cell_type": "code",
   "execution_count": 121,
   "id": "4b69114b-6a31-4bbb-bd47-12f2f02f0866",
   "metadata": {},
   "outputs": [
    {
     "name": "stdout",
     "output_type": "stream",
     "text": [
      "[2 5 2]\n"
     ]
    }
   ],
   "source": [
    "print(security_breaches.max(axis=0))"
   ]
  },
  {
   "cell_type": "code",
   "execution_count": 125,
   "id": "37d8277b-9404-412c-8a62-b17ed4b6ab26",
   "metadata": {},
   "outputs": [
    {
     "name": "stdout",
     "output_type": "stream",
     "text": [
      "[5 2 2 2 0]\n"
     ]
    }
   ],
   "source": [
    "print(security_breaches.max(axis=1))"
   ]
  },
  {
   "cell_type": "markdown",
   "id": "65ca96b6-59d3-4ee2-867d-21041d15e9a7",
   "metadata": {},
   "source": [
    "# Finding mean"
   ]
  },
  {
   "cell_type": "code",
   "execution_count": 128,
   "id": "e404f4f5-d088-496e-8485-0f5b30972632",
   "metadata": {},
   "outputs": [
    {
     "name": "stdout",
     "output_type": "stream",
     "text": [
      "1.1333333333333333\n"
     ]
    }
   ],
   "source": [
    "print(security_breaches.mean())"
   ]
  },
  {
   "cell_type": "code",
   "execution_count": 130,
   "id": "3af5fb86-c83d-4c64-a01b-b90bdd6c3f79",
   "metadata": {},
   "outputs": [
    {
     "name": "stdout",
     "output_type": "stream",
     "text": [
      "[2.         0.66666667 1.33333333 1.66666667 0.        ]\n"
     ]
    }
   ],
   "source": [
    "print(security_breaches.mean(axis=1))"
   ]
  },
  {
   "cell_type": "code",
   "execution_count": 132,
   "id": "9227ac29-441e-4517-838f-e4c3a96bf9f6",
   "metadata": {},
   "outputs": [
    {
     "name": "stdout",
     "output_type": "stream",
     "text": [
      "[0.6 2.  0.8]\n"
     ]
    }
   ],
   "source": [
    "print(security_breaches.mean(axis=0))"
   ]
  },
  {
   "cell_type": "code",
   "execution_count": 144,
   "id": "ad0f1e13-0e55-49b5-8bda-e2ce2d24ddf0",
   "metadata": {},
   "outputs": [
    {
     "name": "stdout",
     "output_type": "stream",
     "text": [
      "[[6]\n",
      " [2]\n",
      " [4]\n",
      " [5]\n",
      " [0]]\n"
     ]
    }
   ],
   "source": [
    "print(security_breaches.sum(axis=1, keepdims= True))"
   ]
  },
  {
   "cell_type": "code",
   "execution_count": 148,
   "id": "dd0aa150-b9d1-4f8f-8b51-4079d48bf81c",
   "metadata": {},
   "outputs": [],
   "source": [
    "array= np.array([[1,2,3],[4,5,6]])"
   ]
  },
  {
   "cell_type": "code",
   "execution_count": 150,
   "id": "1f486c6c-d6ad-4609-b285-269bf891d3e1",
   "metadata": {},
   "outputs": [
    {
     "data": {
      "text/plain": [
       "array([[ 3,  6,  9],\n",
       "       [12, 15, 18]])"
      ]
     },
     "execution_count": 150,
     "metadata": {},
     "output_type": "execute_result"
    }
   ],
   "source": [
    "array*3"
   ]
  },
  {
   "cell_type": "code",
   "execution_count": 152,
   "id": "9149cd65-6539-4412-9364-18701c547952",
   "metadata": {},
   "outputs": [
    {
     "data": {
      "text/plain": [
       "array([[ 7, 14, 21],\n",
       "       [28, 35, 42]])"
      ]
     },
     "execution_count": 152,
     "metadata": {},
     "output_type": "execute_result"
    }
   ],
   "source": [
    "array*7"
   ]
  },
  {
   "cell_type": "code",
   "execution_count": 154,
   "id": "ba7df3e9-32a0-4aab-9f7e-72c43c1570b1",
   "metadata": {},
   "outputs": [
    {
     "data": {
      "text/plain": [
       "array([[ 4,  8, 12],\n",
       "       [16, 20, 24]])"
      ]
     },
     "execution_count": 154,
     "metadata": {},
     "output_type": "execute_result"
    }
   ],
   "source": [
    "array*4"
   ]
  },
  {
   "cell_type": "code",
   "execution_count": 162,
   "id": "a90287eb-e469-404d-a9a9-9019cbf547fd",
   "metadata": {},
   "outputs": [],
   "source": [
    "array=np.array([[1,2,3],[4,5,6]])"
   ]
  },
  {
   "cell_type": "code",
   "execution_count": 166,
   "id": "69cda9cd-0156-465a-a299-3aaf5e954a58",
   "metadata": {},
   "outputs": [],
   "source": [
    "array1= np.array([[7,8,9],[10,11,12]])"
   ]
  },
  {
   "cell_type": "code",
   "execution_count": 170,
   "id": "1e009da1-7859-4152-befd-07c1b052fffe",
   "metadata": {},
   "outputs": [
    {
     "data": {
      "text/plain": [
       "array([[ 8, 10, 12],\n",
       "       [14, 16, 18]])"
      ]
     },
     "execution_count": 170,
     "metadata": {},
     "output_type": "execute_result"
    }
   ],
   "source": [
    "array+array1"
   ]
  },
  {
   "cell_type": "code",
   "execution_count": 172,
   "id": "61221422-98af-4f82-b729-913e0e409cb3",
   "metadata": {},
   "outputs": [],
   "source": [
    "array=np.array([[1,2,3],[4,5,6]])"
   ]
  },
  {
   "cell_type": "code",
   "execution_count": 174,
   "id": "dc0bdad2-5672-4955-bac7-ac74cbe70d17",
   "metadata": {},
   "outputs": [],
   "source": [
    "array1=np.array([[0,1,0],[1,0,1]])"
   ]
  },
  {
   "cell_type": "code",
   "execution_count": 176,
   "id": "3eb25f50-2e65-43a1-9925-f64457ee590e",
   "metadata": {},
   "outputs": [
    {
     "data": {
      "text/plain": [
       "array([[0, 2, 0],\n",
       "       [4, 0, 6]])"
      ]
     },
     "execution_count": 176,
     "metadata": {},
     "output_type": "execute_result"
    }
   ],
   "source": [
    "array*array1"
   ]
  },
  {
   "cell_type": "markdown",
   "id": "2696f614-30a1-404d-a5f9-6e72a572dc9b",
   "metadata": {},
   "source": [
    "# Not Just for maths"
   ]
  },
  {
   "cell_type": "code",
   "execution_count": 179,
   "id": "20ff4f51-54e9-41f5-97d5-feeb8a10db53",
   "metadata": {},
   "outputs": [],
   "source": [
    "array=np.array([[1,2,3],[4,5,6]])"
   ]
  },
  {
   "cell_type": "code",
   "execution_count": 181,
   "id": "35fb19e7-8a00-454c-bdda-145b545ae045",
   "metadata": {},
   "outputs": [
    {
     "data": {
      "text/plain": [
       "array([[False, False,  True],\n",
       "       [ True,  True,  True]])"
      ]
     },
     "execution_count": 181,
     "metadata": {},
     "output_type": "execute_result"
    }
   ],
   "source": [
    "array>2"
   ]
  },
  {
   "cell_type": "markdown",
   "id": "387c586c-2e5f-4d38-b3f8-06bb882e604e",
   "metadata": {},
   "source": [
    "# Vectorised Python Code"
   ]
  },
  {
   "cell_type": "code",
   "execution_count": 184,
   "id": "ecf74f07-cdd7-4313-ac1f-190b29562ad7",
   "metadata": {},
   "outputs": [],
   "source": [
    "array= np.array([\"NumPy\",\"is\",\"Awesome\"])"
   ]
  },
  {
   "cell_type": "code",
   "execution_count": 186,
   "id": "fad29829-4867-4f8d-90df-2577ed40c478",
   "metadata": {},
   "outputs": [
    {
     "data": {
      "text/plain": [
       "True"
      ]
     },
     "execution_count": 186,
     "metadata": {},
     "output_type": "execute_result"
    }
   ],
   "source": [
    "len(array)>2"
   ]
  },
  {
   "cell_type": "code",
   "execution_count": 188,
   "id": "e0f842d1-edac-4507-a7f2-2e8be1d4cc35",
   "metadata": {},
   "outputs": [],
   "source": [
    "vectorized_len=np.vectorize(len)"
   ]
  },
  {
   "cell_type": "code",
   "execution_count": 190,
   "id": "e1b8cb0d-134b-4fcb-92f5-72c59b334fe0",
   "metadata": {},
   "outputs": [
    {
     "data": {
      "text/plain": [
       "array([ True, False,  True])"
      ]
     },
     "execution_count": 190,
     "metadata": {},
     "output_type": "execute_result"
    }
   ],
   "source": [
    "vectorized_len(array)>2"
   ]
  },
  {
   "cell_type": "code",
   "execution_count": null,
   "id": "4ede3adc-dd8e-40b8-ab7a-5bbbc0514f9b",
   "metadata": {},
   "outputs": [],
   "source": []
  }
 ],
 "metadata": {
  "kernelspec": {
   "display_name": "Python 3 (ipykernel)",
   "language": "python",
   "name": "python3"
  },
  "language_info": {
   "codemirror_mode": {
    "name": "ipython",
    "version": 3
   },
   "file_extension": ".py",
   "mimetype": "text/x-python",
   "name": "python",
   "nbconvert_exporter": "python",
   "pygments_lexer": "ipython3",
   "version": "3.11.7"
  }
 },
 "nbformat": 4,
 "nbformat_minor": 5
}
