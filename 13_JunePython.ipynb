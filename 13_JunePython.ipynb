{
 "cells": [
  {
   "cell_type": "code",
   "execution_count": 1,
   "id": "4a711184-cc71-496d-ae19-7a0a0302e293",
   "metadata": {},
   "outputs": [],
   "source": [
    "\n",
    "a=10\n",
    "b=5\n",
    "c=a/b\n",
    "// integer dicison k lie // y wla operator use krna hota h"
   ]
  },
  {
   "cell_type": "code",
   "execution_count": 3,
   "id": "22c51221-69d8-4f48-bc10-95709633a5c3",
   "metadata": {},
   "outputs": [
    {
     "name": "stdout",
     "output_type": "stream",
     "text": [
      "2.0\n"
     ]
    }
   ],
   "source": [
    "print(c)"
   ]
  },
  {
   "cell_type": "code",
   "execution_count": 5,
   "id": "d032ae4e-dfaa-465a-8950-6ec201c949cb",
   "metadata": {},
   "outputs": [],
   "source": [
    "d=a//b"
   ]
  },
  {
   "cell_type": "code",
   "execution_count": 7,
   "id": "f4db9297-e961-48b6-8a0c-1d14fcb4594d",
   "metadata": {},
   "outputs": [
    {
     "name": "stdout",
     "output_type": "stream",
     "text": [
      "2\n"
     ]
    }
   ],
   "source": [
    "print(d)"
   ]
  },
  {
   "cell_type": "code",
   "execution_count": 9,
   "id": "ca8c5006-ebd0-4b2a-9fa7-62a04f4dd894",
   "metadata": {},
   "outputs": [
    {
     "name": "stdout",
     "output_type": "stream",
     "text": [
      "8\n"
     ]
    }
   ],
   "source": [
    "print(2**3)"
   ]
  },
  {
   "cell_type": "code",
   "execution_count": 11,
   "id": "52ca0c37-4c3e-4e87-b182-2d1a9d192343",
   "metadata": {},
   "outputs": [
    {
     "name": "stdout",
     "output_type": "stream",
     "text": [
      "9\n"
     ]
    }
   ],
   "source": [
    "print(3**2)"
   ]
  },
  {
   "cell_type": "code",
   "execution_count": 13,
   "id": "6046a30e-6d45-478a-bd3c-aae1ff1ac336",
   "metadata": {},
   "outputs": [],
   "source": [
    "a=20\n",
    "b=10\n",
    "c=15\n",
    "d=5\n",
    "e=2\n",
    "f=(a+b)*c/d"
   ]
  },
  {
   "cell_type": "code",
   "execution_count": 15,
   "id": "1a226da2-c054-47e5-a37c-cd215dbbacfb",
   "metadata": {},
   "outputs": [
    {
     "name": "stdout",
     "output_type": "stream",
     "text": [
      "90.0\n"
     ]
    }
   ],
   "source": [
    "print(f)"
   ]
  },
  {
   "cell_type": "code",
   "execution_count": 17,
   "id": "c042e6fd-2789-4943-b276-d3d20a886330",
   "metadata": {},
   "outputs": [],
   "source": [
    "g=a+(b*c)/d-e"
   ]
  },
  {
   "cell_type": "code",
   "execution_count": 19,
   "id": "b0e07a91-0339-4d3a-a958-7d12d2877c7e",
   "metadata": {},
   "outputs": [
    {
     "name": "stdout",
     "output_type": "stream",
     "text": [
      "48.0\n"
     ]
    }
   ],
   "source": [
    "print(g)"
   ]
  },
  {
   "cell_type": "code",
   "execution_count": 21,
   "id": "ff17e0ca-8ff3-4efc-bfcc-eb03b839f6e3",
   "metadata": {},
   "outputs": [],
   "source": [
    "b=a+b*c**e"
   ]
  },
  {
   "cell_type": "code",
   "execution_count": 23,
   "id": "6fd2d1c7-8213-480c-b38e-1926b329ac0d",
   "metadata": {},
   "outputs": [
    {
     "name": "stdout",
     "output_type": "stream",
     "text": [
      "2270\n"
     ]
    }
   ],
   "source": [
    "print(b)"
   ]
  },
  {
   "cell_type": "markdown",
   "id": "6de5b113-d9ae-4910-9211-86784655367e",
   "metadata": {},
   "source": [
    "# Multiple Assignment"
   ]
  },
  {
   "cell_type": "code",
   "execution_count": 43,
   "id": "fa2a44db-1731-4f78-91ca-0a5b3fdd1895",
   "metadata": {},
   "outputs": [
    {
     "name": "stdout",
     "output_type": "stream",
     "text": [
      "it is veryveryveryveryveryhot\n"
     ]
    }
   ],
   "source": [
    "print('it is '+5* 'very' +'hot')"
   ]
  },
  {
   "cell_type": "code",
   "execution_count": 47,
   "id": "df2bd129-047d-4622-9099-4ce072d98fa9",
   "metadata": {},
   "outputs": [
    {
     "name": "stdout",
     "output_type": "stream",
     "text": [
      "Python is awosome\n"
     ]
    }
   ],
   "source": [
    "x = \"Python is \"\n",
    "y = \"awosome\"\n",
    "print(x+y)"
   ]
  },
  {
   "cell_type": "markdown",
   "id": "9a36a3cd-c456-47e8-8669-0b93f79cccd0",
   "metadata": {},
   "source": [
    "# Use of \\\",\\n,\\t\n"
   ]
  },
  {
   "cell_type": "code",
   "execution_count": 52,
   "id": "1efb14d5-f6e7-419d-b04b-d6ec02a90704",
   "metadata": {},
   "outputs": [
    {
     "name": "stdout",
     "output_type": "stream",
     "text": [
      "My father says\"Honesty is the best policy\"\n"
     ]
    }
   ],
   "source": [
    "print(\"My father says\\\"Honesty is the best policy\\\"\")"
   ]
  },
  {
   "cell_type": "code",
   "execution_count": 54,
   "id": "45017ee1-d523-47f1-bd95-398f3d1697bb",
   "metadata": {},
   "outputs": [
    {
     "name": "stdout",
     "output_type": "stream",
     "text": [
      "this is rohan's dog\n"
     ]
    }
   ],
   "source": [
    "print(\"this is rohan's dog\")"
   ]
  },
  {
   "cell_type": "code",
   "execution_count": 56,
   "id": "fc702f02-a8fe-45bc-b384-18b37654f791",
   "metadata": {},
   "outputs": [
    {
     "name": "stdout",
     "output_type": "stream",
     "text": [
      "a\t b\t\n"
     ]
    }
   ],
   "source": [
    "print(\"a\\t b\\t\")"
   ]
  },
  {
   "cell_type": "code",
   "execution_count": 64,
   "id": "1c9cc93c-acc8-48bc-9b47-e75650fd498a",
   "metadata": {},
   "outputs": [
    {
     "name": "stdout",
     "output_type": "stream",
     "text": [
      "Geeta university\n"
     ]
    }
   ],
   "source": [
    "print(\"Geeta university\")"
   ]
  },
  {
   "cell_type": "code",
   "execution_count": 60,
   "id": "35c696d5-9099-419e-b205-2d89b9fd442c",
   "metadata": {},
   "outputs": [
    {
     "name": "stdout",
     "output_type": "stream",
     "text": [
      "Hi ! How Are you\n"
     ]
    }
   ],
   "source": [
    "\n",
    "#This is single line comment\n",
    "print(\"Hi ! How Are you\")"
   ]
  },
  {
   "cell_type": "markdown",
   "id": "474ec38c-47e5-434d-839f-325150081cb9",
   "metadata": {},
   "source": [
    "# Comments "
   ]
  },
  {
   "cell_type": "code",
   "execution_count": 67,
   "id": "15e1c3b9-5d99-4402-a10b-1ac15ac3ebff",
   "metadata": {},
   "outputs": [
    {
     "name": "stdout",
     "output_type": "stream",
     "text": [
      "Geeta University\n"
     ]
    }
   ],
   "source": [
    "\"\"\"This is \n",
    "Multi Line\n",
    "comment\"\"\"\n",
    "print(\"Geeta University\")"
   ]
  },
  {
   "cell_type": "code",
   "execution_count": 69,
   "id": "2bfc8b7d-3797-44c1-ac6f-9494f6091477",
   "metadata": {},
   "outputs": [
    {
     "name": "stdout",
     "output_type": "stream",
     "text": [
      "Hello\n"
     ]
    }
   ],
   "source": [
    "'''THis is \n",
    "Multi Line\n",
    "comment'''\n",
    "print(\"Hello\")"
   ]
  },
  {
   "cell_type": "markdown",
   "id": "13e644bf-0275-4dc7-895d-e55e3073b3de",
   "metadata": {},
   "source": [
    "# id() function, ord() function (Give ASCII value)"
   ]
  },
  {
   "cell_type": "code",
   "execution_count": 74,
   "id": "6dc5d6e6-9648-44ce-a658-5a1c2160ab84",
   "metadata": {},
   "outputs": [
    {
     "data": {
      "text/plain": [
       "140737457931176"
      ]
     },
     "execution_count": 74,
     "metadata": {},
     "output_type": "execute_result"
    }
   ],
   "source": [
    " a=5\n",
    "id(a)"
   ]
  },
  {
   "cell_type": "code",
   "execution_count": 78,
   "id": "edcc408f-5398-41c8-b506-3bbb64cc264e",
   "metadata": {},
   "outputs": [
    {
     "data": {
      "text/plain": [
       "140737457931336"
      ]
     },
     "execution_count": 78,
     "metadata": {},
     "output_type": "execute_result"
    }
   ],
   "source": [
    "b=10\n",
    "id(b)"
   ]
  },
  {
   "cell_type": "code",
   "execution_count": 80,
   "id": "369c4cfe-683d-4436-bae8-20df805432a8",
   "metadata": {},
   "outputs": [
    {
     "data": {
      "text/plain": [
       "65"
      ]
     },
     "execution_count": 80,
     "metadata": {},
     "output_type": "execute_result"
    }
   ],
   "source": [
    ">>> ord('A')\n",
    "#ord function will give the ascii value"
   ]
  },
  {
   "cell_type": "code",
   "execution_count": 86,
   "id": "7abe792b-a27a-4e2b-89a0-759acfdbd381",
   "metadata": {},
   "outputs": [
    {
     "data": {
      "text/plain": [
       "'A'"
      ]
     },
     "execution_count": 86,
     "metadata": {},
     "output_type": "execute_result"
    }
   ],
   "source": [
    "chr(65)\n",
    "#this will give  the alphabet whose value is"
   ]
  },
  {
   "cell_type": "code",
   "execution_count": 88,
   "id": "ff180e15-3a69-4908-97be-cb933a51ac3f",
   "metadata": {},
   "outputs": [],
   "source": [
    "a=5\n",
    "b=10\n"
   ]
  },
  {
   "cell_type": "code",
   "execution_count": 90,
   "id": "c569afbe-da99-455b-abec-8f1db7831466",
   "metadata": {},
   "outputs": [
    {
     "data": {
      "text/plain": [
       "140737457931176"
      ]
     },
     "execution_count": 90,
     "metadata": {},
     "output_type": "execute_result"
    }
   ],
   "source": [
    "id(a)"
   ]
  },
  {
   "cell_type": "code",
   "execution_count": 92,
   "id": "bab7f4fd-a0ae-47dc-8915-fd1fb0c61274",
   "metadata": {},
   "outputs": [
    {
     "data": {
      "text/plain": [
       "140737457931336"
      ]
     },
     "execution_count": 92,
     "metadata": {},
     "output_type": "execute_result"
    }
   ],
   "source": [
    "id(b)"
   ]
  },
  {
   "cell_type": "code",
   "execution_count": 94,
   "id": "c6ef42be-efb2-4f9b-aae6-496672578adf",
   "metadata": {},
   "outputs": [
    {
     "data": {
      "text/plain": [
       "140737457931336"
      ]
     },
     "execution_count": 94,
     "metadata": {},
     "output_type": "execute_result"
    }
   ],
   "source": [
    "id(a)\n",
    "id(b)\n",
    "# varaiables store in stack but the value of a and the address in that varaibale will be in the heap section"
   ]
  },
  {
   "cell_type": "code",
   "execution_count": 96,
   "id": "1e4ef614-0b34-4b04-9c53-75160bdedb2a",
   "metadata": {},
   "outputs": [
    {
     "data": {
      "text/plain": [
       "'\\x14'"
      ]
     },
     "execution_count": 96,
     "metadata": {},
     "output_type": "execute_result"
    }
   ],
   "source": [
    "chr(20)"
   ]
  },
  {
   "cell_type": "markdown",
   "id": "b688281d-d926-40ad-9793-46631495aab3",
   "metadata": {},
   "source": [
    "# Conditional Statement"
   ]
  },
  {
   "cell_type": "code",
   "execution_count": 101,
   "id": "b013b6f2-238d-434e-a6b6-ef1f6c5eed00",
   "metadata": {},
   "outputs": [
    {
     "name": "stdout",
     "output_type": "stream",
     "text": [
      "Even Number\n"
     ]
    }
   ],
   "source": [
    "a=10\n",
    "if a%2 ==0:\n",
    "    print(\"Even Number\")\n",
    "else:\n",
    "    print(\"Odd Number\")"
   ]
  },
  {
   "cell_type": "code",
   "execution_count": 103,
   "id": "3a9b2f8f-172b-4b2d-8bd6-a7b0ed89f9b0",
   "metadata": {},
   "outputs": [
    {
     "name": "stdout",
     "output_type": "stream",
     "text": [
      "Odd Number\n"
     ]
    }
   ],
   "source": [
    "a=17\n",
    "if a%2 ==0:\n",
    "    print(\"Even Number\")\n",
    "else:\n",
    "    print(\"Odd Number\")"
   ]
  },
  {
   "cell_type": "code",
   "execution_count": 105,
   "id": "3e8f8f2a-0796-4843-9185-b4e5e0ab5a09",
   "metadata": {},
   "outputs": [
    {
     "name": "stdin",
     "output_type": "stream",
     "text": [
      "Enter a Number 5\n"
     ]
    },
    {
     "ename": "TypeError",
     "evalue": "not all arguments converted during string formatting",
     "output_type": "error",
     "traceback": [
      "\u001b[1;31m---------------------------------------------------------------------------\u001b[0m",
      "\u001b[1;31mTypeError\u001b[0m                                 Traceback (most recent call last)",
      "Cell \u001b[1;32mIn[105], line 2\u001b[0m\n\u001b[0;32m      1\u001b[0m a \u001b[38;5;241m=\u001b[39m \u001b[38;5;28minput\u001b[39m(\u001b[38;5;124m\"\u001b[39m\u001b[38;5;124mEnter a Number\u001b[39m\u001b[38;5;124m\"\u001b[39m)\n\u001b[1;32m----> 2\u001b[0m \u001b[38;5;28;01mif\u001b[39;00m a\u001b[38;5;241m%\u001b[39m\u001b[38;5;241m2\u001b[39m \u001b[38;5;241m==\u001b[39m\u001b[38;5;241m0\u001b[39m:\n\u001b[0;32m      3\u001b[0m     \u001b[38;5;28mprint\u001b[39m(\u001b[38;5;124m\"\u001b[39m\u001b[38;5;124mEven Number\u001b[39m\u001b[38;5;124m\"\u001b[39m)\n\u001b[0;32m      4\u001b[0m \u001b[38;5;28;01melse\u001b[39;00m:\n",
      "\u001b[1;31mTypeError\u001b[0m: not all arguments converted during string formatting"
     ]
    }
   ],
   "source": [
    "a = input(\"Enter a Number\")\n",
    "if a%2 ==0:\n",
    "    print(\"Even Number\")\n",
    "else:\n",
    "    print(\"Odd Number\")\n",
    "    # this wil give an error bcs input always taken in strng automatically we have to typecaste"
   ]
  },
  {
   "cell_type": "code",
   "execution_count": 107,
   "id": "bda48423-4a47-4c01-bc24-237ecfed3119",
   "metadata": {},
   "outputs": [
    {
     "data": {
      "text/plain": [
       "str"
      ]
     },
     "execution_count": 107,
     "metadata": {},
     "output_type": "execute_result"
    }
   ],
   "source": [
    "type(a)"
   ]
  },
  {
   "cell_type": "code",
   "execution_count": 109,
   "id": "64ebf380-ea46-47c6-a25b-f45a92184157",
   "metadata": {},
   "outputs": [
    {
     "name": "stdin",
     "output_type": "stream",
     "text": [
      "Enter Number 3\n"
     ]
    },
    {
     "name": "stdout",
     "output_type": "stream",
     "text": [
      "Odd Number\n"
     ]
    }
   ],
   "source": [
    "a = input(\"Enter Number\")\n",
    "num = int(a)\n",
    "if num%2 ==0:\n",
    "    print(\"Even Number\")\n",
    "else:\n",
    "    print(\"Odd Number\")"
   ]
  },
  {
   "cell_type": "code",
   "execution_count": 111,
   "id": "06b3932e-7d11-468f-8041-b8bc9741e33e",
   "metadata": {},
   "outputs": [
    {
     "data": {
      "text/plain": [
       "str"
      ]
     },
     "execution_count": 111,
     "metadata": {},
     "output_type": "execute_result"
    }
   ],
   "source": [
    "type(a)"
   ]
  },
  {
   "cell_type": "code",
   "execution_count": 113,
   "id": "483675ce-478a-4ecb-bc2c-6ed3ceaf97d7",
   "metadata": {},
   "outputs": [
    {
     "name": "stdin",
     "output_type": "stream",
     "text": [
      "Enter A Number 5\n"
     ]
    },
    {
     "name": "stdout",
     "output_type": "stream",
     "text": [
      "Odd Number\n"
     ]
    }
   ],
   "source": [
    "a = int(input(\"Enter A Number\"))\n",
    "if a%2 ==0:\n",
    "    print(\"Even Number\")\n",
    "else:\n",
    "    print(\"Odd Number\")"
   ]
  },
  {
   "cell_type": "code",
   "execution_count": 115,
   "id": "1ee3d82b-6b9b-4ba3-b069-96c34030fd12",
   "metadata": {},
   "outputs": [
    {
     "data": {
      "text/plain": [
       "int"
      ]
     },
     "execution_count": 115,
     "metadata": {},
     "output_type": "execute_result"
    }
   ],
   "source": [
    "type(a)"
   ]
  },
  {
   "cell_type": "markdown",
   "id": "4385dc90-6dd3-41d0-b240-d8c295e8278a",
   "metadata": {},
   "source": [
    "# NESTED IF"
   ]
  },
  {
   "cell_type": "code",
   "execution_count": 120,
   "id": "f8d174c2-871a-44db-a9c5-bcdb980552d4",
   "metadata": {},
   "outputs": [
    {
     "name": "stdin",
     "output_type": "stream",
     "text": [
      "Are You Citizen of India Press y or n n\n",
      "Your age 8\n"
     ]
    },
    {
     "name": "stdout",
     "output_type": "stream",
     "text": [
      "You are not a Citizen of India\n"
     ]
    }
   ],
   "source": [
    "citizen = input(\"Are You Citizen of India Press y or n\")\n",
    "age = int(input(\"Your age\"))\n",
    "if citizen =='y':\n",
    "    if age>=10:\n",
    "        print(\"You can caste vote\")\n",
    "    else:\n",
    "        print(\"You can't caste vote\")\n",
    "else:\n",
    "    print(\"You are not a Citizen of India\")\n"
   ]
  },
  {
   "cell_type": "code",
   "execution_count": 143,
   "id": "fb8de86b-bd8d-4226-a2f8-48e3d5cb1678",
   "metadata": {},
   "outputs": [
    {
     "name": "stdin",
     "output_type": "stream",
     "text": [
      "IF leap year Press l or nl l\n",
      "Enter Year 2020\n"
     ]
    },
    {
     "name": "stdout",
     "output_type": "stream",
     "text": [
      "Leap year\n"
     ]
    }
   ],
   "source": [
    "year= input(\"IF leap year Press l or nl\")\n",
    "a= int(input(\"Enter Year\"))\n",
    "if a%4 ==0 :\n",
    "    if a%100 ==0:\n",
    "        if a%400 ==0:\n",
    "                print(\"Leap year\")\n",
    "        else:\n",
    "            print(\"Not Leap year\")\n",
    "    else:\n",
    "        print(\"Leap year\")\n",
    "else:\n",
    "    print(\"Not Leap Year\")"
   ]
  },
  {
   "cell_type": "markdown",
   "id": "775d0baa-f563-4900-8895-ff3eb29c3705",
   "metadata": {},
   "source": [
    "# if elif statement"
   ]
  },
  {
   "cell_type": "code",
   "execution_count": 152,
   "id": "8d56cf79-d18c-468c-a07a-37501d48a0f0",
   "metadata": {},
   "outputs": [
    {
     "name": "stdin",
     "output_type": "stream",
     "text": [
      "Enter a number 9\n"
     ]
    },
    {
     "name": "stdout",
     "output_type": "stream",
     "text": [
      "Number is Positive Number\n"
     ]
    }
   ],
   "source": [
    "num =int(input(\"Enter a number\"))\n",
    "if num>0:\n",
    "    print(\"Number is Positive Number\")\n",
    "elif num==0 :\n",
    "    print(\"Number is Zero\")\n",
    "else:\n",
    "    print(\"Number is Negative Number\")"
   ]
  },
  {
   "cell_type": "markdown",
   "id": "4f49b438-4fa8-4d8c-970c-756c6cf3cc51",
   "metadata": {},
   "source": [
    "# Grading Stystem"
   ]
  },
  {
   "cell_type": "code",
   "execution_count": null,
   "id": "4394d65b-c624-4720-8794-f22cc7d78cc0",
   "metadata": {},
   "outputs": [],
   "source": [
    "marks = int(input(\"Enter Marks\"))\n",
    "if marks>=90:\n",
    "    print(\"A\")\n",
    "elif marks>=80 and marks<90 :\n",
    "    print(\"B\")\n",
    "elif marks>=70 and marks<80 :\n",
    "    print(\"C\")\n",
    "elif marks>=60 and marks<70:\n",
    "    print(\"D\")\n",
    "elif marks<60 and marks>0:\n",
    "    print(\"E\")\n",
    "else:\n",
    "    print(\"Invalid Marks\")"
   ]
  },
  {
   "cell_type": "code",
   "execution_count": null,
   "id": "c56b180e-8052-47d8-afad-df936db08ac6",
   "metadata": {},
   "outputs": [],
   "source": []
  }
 ],
 "metadata": {
  "kernelspec": {
   "display_name": "Python 3 (ipykernel)",
   "language": "python",
   "name": "python3"
  },
  "language_info": {
   "codemirror_mode": {
    "name": "ipython",
    "version": 3
   },
   "file_extension": ".py",
   "mimetype": "text/x-python",
   "name": "python",
   "nbconvert_exporter": "python",
   "pygments_lexer": "ipython3",
   "version": "3.11.7"
  }
 },
 "nbformat": 4,
 "nbformat_minor": 5
}
