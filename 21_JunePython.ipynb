{
 "cells": [
  {
   "cell_type": "markdown",
   "id": "d99c7a5b-1c93-4d68-a8c7-19de3ca65cec",
   "metadata": {},
   "source": [
    "# File Handling "
   ]
  },
  {
   "cell_type": "code",
   "execution_count": 3,
   "id": "66dbf928-8d64-4882-9a98-5b582049d586",
   "metadata": {},
   "outputs": [],
   "source": [
    "# File handling is important for any web application\n",
    "# it is used to read and write data in a file\n",
    "# Opening a file --> open() function is used to open a python file\n",
    "# It takes two parameters- \"name of the file\" and mode"
   ]
  },
  {
   "cell_type": "code",
   "execution_count": 6,
   "id": "cfd5b86d-54ce-4f67-92df-c0936049bc8d",
   "metadata": {},
   "outputs": [],
   "source": [
    "f= open(\"day_8.txt\",\"w\")"
   ]
  },
  {
   "cell_type": "code",
   "execution_count": 8,
   "id": "e17b9ba0-4f03-49ca-84a1-d97885a11e92",
   "metadata": {},
   "outputs": [
    {
     "data": {
      "text/plain": [
       "40"
      ]
     },
     "execution_count": 8,
     "metadata": {},
     "output_type": "execute_result"
    }
   ],
   "source": [
    "f.write(\"Hi! I am doing summer training in python\")"
   ]
  },
  {
   "cell_type": "code",
   "execution_count": 10,
   "id": "934399c4-8a36-46b5-a687-58e52d8f5a3c",
   "metadata": {},
   "outputs": [],
   "source": [
    "f.close()"
   ]
  },
  {
   "cell_type": "markdown",
   "id": "dfbe3f7e-ea1e-4dd7-82a6-e5cc47b1264e",
   "metadata": {},
   "source": [
    "# Checking for the  file whether it is closed or not"
   ]
  },
  {
   "cell_type": "code",
   "execution_count": 17,
   "id": "23a366c6-b551-4b40-bd49-c2f0dcc91898",
   "metadata": {},
   "outputs": [
    {
     "data": {
      "text/plain": [
       "True"
      ]
     },
     "execution_count": 17,
     "metadata": {},
     "output_type": "execute_result"
    }
   ],
   "source": [
    "f.closed"
   ]
  },
  {
   "cell_type": "code",
   "execution_count": 19,
   "id": "8e37286a-d843-468d-9249-28669d0c62c9",
   "metadata": {},
   "outputs": [],
   "source": [
    "f= open(\"day_8.txt\",\"r\")"
   ]
  },
  {
   "cell_type": "code",
   "execution_count": 21,
   "id": "7152c777-4968-453e-99b3-a62bd632af20",
   "metadata": {},
   "outputs": [],
   "source": [
    "data = f.read()"
   ]
  },
  {
   "cell_type": "code",
   "execution_count": 23,
   "id": "04f281fc-5951-46da-83de-41d96ca4beb1",
   "metadata": {},
   "outputs": [
    {
     "name": "stdout",
     "output_type": "stream",
     "text": [
      "Hi! I am doing summer training in python\n"
     ]
    }
   ],
   "source": [
    "print(data)"
   ]
  },
  {
   "cell_type": "code",
   "execution_count": 25,
   "id": "d5ae85a2-973b-4c48-86bc-7417d7358655",
   "metadata": {},
   "outputs": [],
   "source": [
    "f.close()"
   ]
  },
  {
   "cell_type": "code",
   "execution_count": 29,
   "id": "6a762b19-1a7e-4291-83f8-23f8a64a714b",
   "metadata": {},
   "outputs": [
    {
     "name": "stdout",
     "output_type": "stream",
     "text": [
      "Hi! I am doing summer training in python\n"
     ]
    }
   ],
   "source": [
    "with open (\"day_8.txt\") as f:\n",
    "    print(f.read())"
   ]
  },
  {
   "cell_type": "code",
   "execution_count": 31,
   "id": "5f476681-b630-40a3-82f8-164d23341815",
   "metadata": {},
   "outputs": [
    {
     "data": {
      "text/plain": [
       "True"
      ]
     },
     "execution_count": 31,
     "metadata": {},
     "output_type": "execute_result"
    }
   ],
   "source": [
    "f.closed"
   ]
  },
  {
   "cell_type": "code",
   "execution_count": 61,
   "id": "680707ce-1160-4dc6-810d-2a7617b49ce3",
   "metadata": {},
   "outputs": [],
   "source": [
    "with open(\"day_8.txt\",\"a\") as f :\n",
    "    f.write(\" It is a sunny day\")"
   ]
  },
  {
   "cell_type": "code",
   "execution_count": 63,
   "id": "b194c971-d9b9-4ba6-8054-6cf82ac471e1",
   "metadata": {},
   "outputs": [
    {
     "name": "stdout",
     "output_type": "stream",
     "text": [
      "Hi! I am doing summer training in pythonIt is sunny day It is sunny day It is a sunny day\n"
     ]
    }
   ],
   "source": [
    "with open(\"day_8.txt\") as f:\n",
    "    print(f.read())"
   ]
  },
  {
   "cell_type": "markdown",
   "id": "87bcfc48-4749-4116-acb4-2d02e3d5b243",
   "metadata": {},
   "source": [
    "# Opening a file from a specific loaction"
   ]
  },
  {
   "cell_type": "code",
   "execution_count": 65,
   "id": "f8c85f2f-e3c9-4798-9f95-e43d5a01d9ad",
   "metadata": {},
   "outputs": [
    {
     "name": "stdout",
     "output_type": "stream",
     "text": [
      "Hello!!! How are you?\n"
     ]
    }
   ],
   "source": [
    "with open(\"C:\\\\Users\\\\kanik\\\\OneDrive\\\\Desktop\\\\bms\\\\Python\\\\greet.txt\") as f:\n",
    "    print(f.read())"
   ]
  },
  {
   "cell_type": "markdown",
   "id": "165113c3-6d72-4a70-b270-3ff10f2f081c",
   "metadata": {},
   "source": [
    "# Creating a file in a specific location "
   ]
  },
  {
   "cell_type": "code",
   "execution_count": 68,
   "id": "b3a2ca5d-cf60-47ed-8296-5780399ccca3",
   "metadata": {},
   "outputs": [],
   "source": [
    "with open(\"C:\\\\Users\\\\kanik\\\\OneDrive\\\\Desktop\\\\bms\\\\Python\\\\welcome.txt\",\"w\") as f:\n",
    "    f.write(\"welcome in Geeta University\")"
   ]
  },
  {
   "cell_type": "code",
   "execution_count": 70,
   "id": "e749127f-24ba-431e-9ab5-8a2ddec4c49c",
   "metadata": {},
   "outputs": [
    {
     "name": "stdout",
     "output_type": "stream",
     "text": [
      "['She walks in beauty, like the night\\n']\n"
     ]
    }
   ],
   "source": [
    "with open(\"C:\\\\Users\\\\kanik\\\\OneDrive\\\\Desktop\\\\bms\\\\Python\\\\poem.txt\") as f:\n",
    "    print(f.readlines(5))"
   ]
  },
  {
   "cell_type": "code",
   "execution_count": 76,
   "id": "9fd7a20b-f6b3-4829-86fe-f807b8e44e0a",
   "metadata": {},
   "outputs": [],
   "source": [
    "with open(\"C:\\\\Users\\\\kanik\\\\OneDrive\\\\Desktop\\\\bms\\\\Python\\\\poem.txt\") as f:\n",
    "    data = f.read(200)"
   ]
  },
  {
   "cell_type": "code",
   "execution_count": 78,
   "id": "553537f0-6a83-4db1-904d-07584d7a07a4",
   "metadata": {},
   "outputs": [
    {
     "name": "stdout",
     "output_type": "stream",
     "text": [
      "She walks in beauty, like the night\n",
      "Of cloudless climes and starry skies;\n",
      "And all thatâ€™s best of dark and bright\n",
      "\n",
      "\n",
      "\tMeet in her aspect and her eyes;\n",
      "\tThus mellowed to that tender light\n",
      "\tWhich heaven\n"
     ]
    }
   ],
   "source": [
    "print(data)"
   ]
  },
  {
   "cell_type": "code",
   "execution_count": 84,
   "id": "49de4835-93ea-4189-8b95-beb577b64de5",
   "metadata": {},
   "outputs": [],
   "source": [
    "# mode of file -- \"r\" - read only\n",
    "#                 \"rt\"- read text\n",
    "#                 \"w\"- open the file in write mode and write the text. if text is already written in file. it over write on it.\n",
    "#                 \"a\"- append\n",
    "                    "
   ]
  },
  {
   "cell_type": "code",
   "execution_count": null,
   "id": "cacd3df3-4fc2-46d3-a785-aa2d2de980fc",
   "metadata": {},
   "outputs": [],
   "source": []
  }
 ],
 "metadata": {
  "kernelspec": {
   "display_name": "Python 3 (ipykernel)",
   "language": "python",
   "name": "python3"
  },
  "language_info": {
   "codemirror_mode": {
    "name": "ipython",
    "version": 3
   },
   "file_extension": ".py",
   "mimetype": "text/x-python",
   "name": "python",
   "nbconvert_exporter": "python",
   "pygments_lexer": "ipython3",
   "version": "3.11.7"
  }
 },
 "nbformat": 4,
 "nbformat_minor": 5
}
