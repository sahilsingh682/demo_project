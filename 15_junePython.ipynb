{
 "cells": [
  {
   "cell_type": "markdown",
   "id": "5aa9e615-6080-4fca-bec6-49205dfe94bf",
   "metadata": {},
   "source": [
    "# Pattern Printing"
   ]
  },
  {
   "cell_type": "code",
   "execution_count": 20,
   "id": "a70b37fd-a7c0-47d2-8493-38bbcb0ecf6b",
   "metadata": {},
   "outputs": [
    {
     "name": "stdin",
     "output_type": "stream",
     "text": [
      "Enter no.of Stars 5\n"
     ]
    },
    {
     "name": "stdout",
     "output_type": "stream",
     "text": [
      "    * \n",
      "   *** \n",
      "  ***** \n",
      " ******* \n",
      "********* \n"
     ]
    }
   ],
   "source": [
    "num = int(input(\"Enter no.of Stars\"))\n",
    "for i in range (1,num+1):\n",
    "    for j in range(num-i):\n",
    "        print(\" \" , end=\"\")\n",
    "    for k in range(1,2*i):\n",
    "        print(\"*\", end=\"\")\n",
    "    print(\" \")\n"
   ]
  },
  {
   "cell_type": "markdown",
   "id": "9cd24bda-5efd-4d3a-8353-c691a0ab2753",
   "metadata": {},
   "source": [
    "# Tuple"
   ]
  },
  {
   "cell_type": "code",
   "execution_count": 23,
   "id": "3ace1f9e-94ce-4250-9ed1-9d6a7ca9f809",
   "metadata": {},
   "outputs": [],
   "source": [
    "tuple1=(\"mercury\",\"venus\",\"mars\",\"earth\",\"jupiter\",\"saturn\",\"uranaus\",\"neptune\")"
   ]
  },
  {
   "cell_type": "code",
   "execution_count": 25,
   "id": "153cb064-64ae-481f-a9d5-39268ca48389",
   "metadata": {},
   "outputs": [
    {
     "data": {
      "text/plain": [
       "('mercury',\n",
       " 'venus',\n",
       " 'mars',\n",
       " 'earth',\n",
       " 'jupiter',\n",
       " 'saturn',\n",
       " 'uranaus',\n",
       " 'neptune')"
      ]
     },
     "execution_count": 25,
     "metadata": {},
     "output_type": "execute_result"
    }
   ],
   "source": [
    "tuple1"
   ]
  },
  {
   "cell_type": "code",
   "execution_count": 29,
   "id": "b5d18193-05a3-4e4b-977d-96a0b246284b",
   "metadata": {},
   "outputs": [
    {
     "ename": "NameError",
     "evalue": "name 't' is not defined",
     "output_type": "error",
     "traceback": [
      "\u001b[1;31m---------------------------------------------------------------------------\u001b[0m",
      "\u001b[1;31mNameError\u001b[0m                                 Traceback (most recent call last)",
      "Cell \u001b[1;32mIn[29], line 1\u001b[0m\n\u001b[1;32m----> 1\u001b[0m t[\u001b[38;5;241m2\u001b[39m]\u001b[38;5;241m=\u001b[39m\u001b[38;5;124m\"\u001b[39m\u001b[38;5;124mmoon\u001b[39m\u001b[38;5;124m\"\u001b[39m\n",
      "\u001b[1;31mNameError\u001b[0m: name 't' is not defined"
     ]
    }
   ],
   "source": [
    "t[2]=\"moon\""
   ]
  },
  {
   "cell_type": "code",
   "execution_count": 31,
   "id": "ad72b4a8-7f06-4880-96d0-35f9a12dd20b",
   "metadata": {},
   "outputs": [],
   "source": [
    "list1=['mercury','mars','jupiter','saturn','uranaus']"
   ]
  },
  {
   "cell_type": "code",
   "execution_count": 33,
   "id": "316d932c-f276-4f54-af39-cd262592145c",
   "metadata": {},
   "outputs": [
    {
     "data": {
      "text/plain": [
       "['mercury', 'mars', 'jupiter', 'saturn', 'uranaus']"
      ]
     },
     "execution_count": 33,
     "metadata": {},
     "output_type": "execute_result"
    }
   ],
   "source": [
    "list1"
   ]
  },
  {
   "cell_type": "code",
   "execution_count": 39,
   "id": "1033fd9e-8b45-4b18-99d1-8d092353bd10",
   "metadata": {},
   "outputs": [],
   "source": [
    "t1=(5,)"
   ]
  },
  {
   "cell_type": "code",
   "execution_count": 43,
   "id": "e579cdb0-d3fb-4978-90b5-f4dc7688d656",
   "metadata": {},
   "outputs": [
    {
     "data": {
      "text/plain": [
       "\u001b[1;31mType:\u001b[0m        tuple\n",
       "\u001b[1;31mString form:\u001b[0m (5,)\n",
       "\u001b[1;31mLength:\u001b[0m      1\n",
       "\u001b[1;31mDocstring:\u001b[0m  \n",
       "Built-in immutable sequence.\n",
       "\n",
       "If no argument is given, the constructor returns an empty tuple.\n",
       "If iterable is specified the tuple is initialized from iterable's items.\n",
       "\n",
       "If the argument is a tuple, the return value is the same object."
      ]
     },
     "metadata": {},
     "output_type": "display_data"
    }
   ],
   "source": [
    "t1?"
   ]
  },
  {
   "cell_type": "code",
   "execution_count": 49,
   "id": "6a2b08dc-2f73-4e36-aa02-3102d7047dbc",
   "metadata": {},
   "outputs": [],
   "source": [
    "list1[2]=\"moon\""
   ]
  },
  {
   "cell_type": "code",
   "execution_count": 51,
   "id": "81b9bbdb-d0ce-4362-aaee-28d3631ab0ec",
   "metadata": {},
   "outputs": [
    {
     "data": {
      "text/plain": [
       "['mercury', 'mars', 'moon', 'saturn', 'uranaus']"
      ]
     },
     "execution_count": 51,
     "metadata": {},
     "output_type": "execute_result"
    }
   ],
   "source": [
    "list1"
   ]
  },
  {
   "cell_type": "code",
   "execution_count": 53,
   "id": "04f85718-ff94-4c70-957e-08be8483e750",
   "metadata": {},
   "outputs": [
    {
     "data": {
      "text/plain": [
       "tuple"
      ]
     },
     "execution_count": 53,
     "metadata": {},
     "output_type": "execute_result"
    }
   ],
   "source": [
    "type(t1)"
   ]
  },
  {
   "cell_type": "code",
   "execution_count": 55,
   "id": "e220d915-52e2-4b4b-bc0e-b71145f0aec4",
   "metadata": {},
   "outputs": [],
   "source": [
    "t2=()"
   ]
  },
  {
   "cell_type": "code",
   "execution_count": 57,
   "id": "bf673b12-c48e-46ab-bc7a-6e4e90f84375",
   "metadata": {},
   "outputs": [
    {
     "data": {
      "text/plain": [
       "()"
      ]
     },
     "execution_count": 57,
     "metadata": {},
     "output_type": "execute_result"
    }
   ],
   "source": [
    "t2"
   ]
  },
  {
   "cell_type": "markdown",
   "id": "5990a061-16bb-4389-ac2a-b5e4c268addd",
   "metadata": {},
   "source": [
    "# How to make a Tuple mutable (by making list in tuple)"
   ]
  },
  {
   "cell_type": "code",
   "execution_count": 62,
   "id": "bdae43ca-98a4-427f-8390-11fe9e2109b4",
   "metadata": {},
   "outputs": [],
   "source": [
    "fruits = (['orange','mango'],\"banana\",\"papaya\",\"cherry\",\"apple\")"
   ]
  },
  {
   "cell_type": "code",
   "execution_count": 64,
   "id": "5d4e0e29-181c-43d3-8f66-a6b875cc34a3",
   "metadata": {},
   "outputs": [
    {
     "data": {
      "text/plain": [
       "(['orange', 'mango'], 'banana', 'papaya', 'cherry', 'apple')"
      ]
     },
     "execution_count": 64,
     "metadata": {},
     "output_type": "execute_result"
    }
   ],
   "source": [
    "fruits"
   ]
  },
  {
   "cell_type": "markdown",
   "id": "4ceb1ed7-2a4b-4e09-af9e-7118c94dc90a",
   "metadata": {},
   "source": [
    "# List will be treated AS a single element"
   ]
  },
  {
   "cell_type": "code",
   "execution_count": 69,
   "id": "9a00dc3b-c66c-41d0-9fbc-a0b8499683e3",
   "metadata": {},
   "outputs": [
    {
     "data": {
      "text/plain": [
       "['orange', 'mango']"
      ]
     },
     "execution_count": 69,
     "metadata": {},
     "output_type": "execute_result"
    }
   ],
   "source": [
    "fruits[0]"
   ]
  },
  {
   "cell_type": "markdown",
   "id": "5d15f174-6516-4872-87b8-6d54d5fa78b4",
   "metadata": {},
   "source": [
    "# Wants to write other name in the list value"
   ]
  },
  {
   "cell_type": "code",
   "execution_count": 72,
   "id": "774cb6c2-4a7c-42ae-bb12-ad5db02d31db",
   "metadata": {},
   "outputs": [],
   "source": [
    "fruits[0][0]='guvava'"
   ]
  },
  {
   "cell_type": "code",
   "execution_count": 74,
   "id": "c179acc0-3691-45bb-8a31-6791ef17d700",
   "metadata": {},
   "outputs": [
    {
     "data": {
      "text/plain": [
       "(['guvava', 'mango'], 'banana', 'papaya', 'cherry', 'apple')"
      ]
     },
     "execution_count": 74,
     "metadata": {},
     "output_type": "execute_result"
    }
   ],
   "source": [
    "fruits"
   ]
  },
  {
   "cell_type": "code",
   "execution_count": 76,
   "id": "5f7aff15-faa6-4426-8842-548616c922ba",
   "metadata": {},
   "outputs": [
    {
     "ename": "SyntaxError",
     "evalue": "unterminated string literal (detected at line 1) (1599343846.py, line 1)",
     "output_type": "error",
     "traceback": [
      "\u001b[1;36m  Cell \u001b[1;32mIn[76], line 1\u001b[1;36m\u001b[0m\n\u001b[1;33m    fruits[3]=\"pineapple'\u001b[0m\n\u001b[1;37m              ^\u001b[0m\n\u001b[1;31mSyntaxError\u001b[0m\u001b[1;31m:\u001b[0m unterminated string literal (detected at line 1)\n"
     ]
    }
   ],
   "source": [
    "fruits[3]=\"pineapple'"
   ]
  },
  {
   "cell_type": "code",
   "execution_count": 78,
   "id": "007d77ae-7f85-474f-aa68-5ad9c85efa19",
   "metadata": {},
   "outputs": [],
   "source": [
    "# the items inn the tuple will not change but the item in the list will change .. also we can making changeable by making th elist in the tuple"
   ]
  },
  {
   "cell_type": "markdown",
   "id": "15ef7337-8425-4ec6-a92a-765d9a8ebbdc",
   "metadata": {},
   "source": [
    "# Unpacking of tuple"
   ]
  },
  {
   "cell_type": "code",
   "execution_count": 81,
   "id": "ed68a02a-02d2-46c9-bf26-9c54719adbc6",
   "metadata": {},
   "outputs": [
    {
     "name": "stdout",
     "output_type": "stream",
     "text": [
      "['guvava', 'mango']\n",
      "banana\n",
      "papaya\n",
      "cherry\n",
      "apple\n"
     ]
    }
   ],
   "source": [
    "for i in fruits:\n",
    "    print(i)"
   ]
  },
  {
   "cell_type": "code",
   "execution_count": 83,
   "id": "6f834589-142d-4dae-99fd-de98dd3cedf3",
   "metadata": {},
   "outputs": [
    {
     "data": {
      "text/plain": [
       "1"
      ]
     },
     "execution_count": 83,
     "metadata": {},
     "output_type": "execute_result"
    }
   ],
   "source": [
    "fruits.count('papaya')"
   ]
  },
  {
   "cell_type": "code",
   "execution_count": 87,
   "id": "fa1e8800-d201-4ec3-b232-5dacc1926082",
   "metadata": {},
   "outputs": [
    {
     "data": {
      "text/plain": [
       "2"
      ]
     },
     "execution_count": 87,
     "metadata": {},
     "output_type": "execute_result"
    }
   ],
   "source": [
    "fruits.index('papaya')"
   ]
  },
  {
   "cell_type": "code",
   "execution_count": 89,
   "id": "a967fa4c-ae6a-47e5-8401-0c7233705e44",
   "metadata": {},
   "outputs": [],
   "source": [
    "price=(120,140,200)"
   ]
  },
  {
   "cell_type": "code",
   "execution_count": 91,
   "id": "658a846a-cc65-45fd-b0ad-2917d5b01318",
   "metadata": {},
   "outputs": [],
   "source": [
    "fruits_price=fruits+price"
   ]
  },
  {
   "cell_type": "code",
   "execution_count": 93,
   "id": "dc371592-ac23-4e14-ac10-70f1a9aa220b",
   "metadata": {},
   "outputs": [
    {
     "data": {
      "text/plain": [
       "(['guvava', 'mango'], 'banana', 'papaya', 'cherry', 'apple', 120, 140, 200)"
      ]
     },
     "execution_count": 93,
     "metadata": {},
     "output_type": "execute_result"
    }
   ],
   "source": [
    "fruits_price"
   ]
  },
  {
   "cell_type": "code",
   "execution_count": 95,
   "id": "e81bf560-ff0a-4e1d-9048-eef62481f453",
   "metadata": {},
   "outputs": [
    {
     "data": {
      "text/plain": [
       "0"
      ]
     },
     "execution_count": 95,
     "metadata": {},
     "output_type": "execute_result"
    }
   ],
   "source": [
    "fruits_price.index(['guvava', 'mango'])"
   ]
  },
  {
   "cell_type": "markdown",
   "id": "c54aa1cf-1094-4820-ae59-8fc6814eb196",
   "metadata": {},
   "source": [
    "# Dictionary is set to the data in key: value pair format"
   ]
  },
  {
   "cell_type": "code",
   "execution_count": 124,
   "id": "775fe9c9-e2af-4dc2-9158-c11f4f53403d",
   "metadata": {},
   "outputs": [],
   "source": [
    "fruits={'Apple':120,\n",
    "        'Mango':80,\n",
    "        'Orange':100,\n",
    "        'Melon':40,\n",
    "       }"
   ]
  },
  {
   "cell_type": "code",
   "execution_count": 126,
   "id": "f3e9e3d0-499b-4e44-a2af-443dcc804bd6",
   "metadata": {},
   "outputs": [
    {
     "data": {
      "text/plain": [
       "{'Apple': 120, 'Mango': 80, 'Orange': 100, 'Melon': 40}"
      ]
     },
     "execution_count": 126,
     "metadata": {},
     "output_type": "execute_result"
    }
   ],
   "source": [
    "fruits"
   ]
  },
  {
   "cell_type": "markdown",
   "id": "8ff1fe55-a95d-4f8f-bc6b-9c7532a91ad8",
   "metadata": {},
   "source": [
    "# Update dictionary "
   ]
  },
  {
   "cell_type": "code",
   "execution_count": 128,
   "id": "4f7829d9-5b1d-42b2-af1c-dad18ac0c8c1",
   "metadata": {},
   "outputs": [],
   "source": [
    "fruits['Apple']=140"
   ]
  },
  {
   "cell_type": "code",
   "execution_count": 130,
   "id": "78a471e8-7aa6-4707-87d5-46b3e910136a",
   "metadata": {},
   "outputs": [
    {
     "data": {
      "text/plain": [
       "{'Apple': 140, 'Mango': 80, 'Orange': 100, 'Melon': 40}"
      ]
     },
     "execution_count": 130,
     "metadata": {},
     "output_type": "execute_result"
    }
   ],
   "source": [
    "fruits"
   ]
  },
  {
   "cell_type": "markdown",
   "id": "0045684f-92ae-4c34-ae1f-ae621ee38a93",
   "metadata": {},
   "source": [
    "# Accessing data items from  Dictionary(only key value will be printed)"
   ]
  },
  {
   "cell_type": "code",
   "execution_count": 133,
   "id": "f2b08675-b4c2-4853-8c5e-8b9a69e2f7d4",
   "metadata": {},
   "outputs": [
    {
     "name": "stdout",
     "output_type": "stream",
     "text": [
      "Apple\n",
      "Mango\n",
      "Orange\n",
      "Melon\n"
     ]
    }
   ],
   "source": [
    "for i in fruits:\n",
    "    print(i)"
   ]
  },
  {
   "cell_type": "markdown",
   "id": "5c414db4-0c15-49ed-9b12-4f4640d076f8",
   "metadata": {},
   "source": [
    "# Accessing values of Dictionary"
   ]
  },
  {
   "cell_type": "code",
   "execution_count": 138,
   "id": "cbb0ec50-d4e2-417b-b81b-1b954c5c2cb5",
   "metadata": {},
   "outputs": [
    {
     "name": "stdout",
     "output_type": "stream",
     "text": [
      "140\n",
      "80\n",
      "100\n",
      "40\n"
     ]
    }
   ],
   "source": [
    "for i in fruits:\n",
    "    print(fruits[i])"
   ]
  },
  {
   "cell_type": "markdown",
   "id": "4fa18adc-1f3a-4e4e-b9a5-c74a432514e8",
   "metadata": {},
   "source": [
    "# Accessing Value as well as Key from the Dictionary"
   ]
  },
  {
   "cell_type": "code",
   "execution_count": 156,
   "id": "f9d2e8ea-e29c-4cc2-b874-e79c5d55ee94",
   "metadata": {},
   "outputs": [
    {
     "name": "stdout",
     "output_type": "stream",
     "text": [
      "Apple 140\n",
      "Mango 80\n",
      "Orange 100\n",
      "Melon 40\n"
     ]
    }
   ],
   "source": [
    "for key, value in fruits.items():\n",
    "    print(key,value)"
   ]
  },
  {
   "cell_type": "code",
   "execution_count": 158,
   "id": "d640b55c-2e2f-44c7-aa51-e9dca61d9f2a",
   "metadata": {},
   "outputs": [
    {
     "data": {
      "text/plain": [
       "dict_keys(['Apple', 'Mango', 'Orange', 'Melon'])"
      ]
     },
     "execution_count": 158,
     "metadata": {},
     "output_type": "execute_result"
    }
   ],
   "source": [
    "fruits.keys()"
   ]
  },
  {
   "cell_type": "code",
   "execution_count": 160,
   "id": "9aa9feb7-3bf1-4a7e-8d9c-0494da7a656c",
   "metadata": {},
   "outputs": [
    {
     "data": {
      "text/plain": [
       "dict_values([140, 80, 100, 40])"
      ]
     },
     "execution_count": 160,
     "metadata": {},
     "output_type": "execute_result"
    }
   ],
   "source": [
    "fruits.values()"
   ]
  },
  {
   "cell_type": "code",
   "execution_count": 164,
   "id": "207d588b-c192-46dd-bf93-5603cce3762d",
   "metadata": {},
   "outputs": [
    {
     "data": {
      "text/plain": [
       "dict_items([('Apple', 140), ('Mango', 80), ('Orange', 100), ('Melon', 40)])"
      ]
     },
     "execution_count": 164,
     "metadata": {},
     "output_type": "execute_result"
    }
   ],
   "source": [
    "fruits.items()"
   ]
  },
  {
   "cell_type": "markdown",
   "id": "1e5a9cdf-aa8c-4562-b296-f1a8a7ed23a6",
   "metadata": {},
   "source": [
    "# Creating empty dictionary"
   ]
  },
  {
   "cell_type": "code",
   "execution_count": 167,
   "id": "abbb5783-6fc8-46f1-b6c3-c7d054eaa465",
   "metadata": {},
   "outputs": [],
   "source": [
    "empty={}"
   ]
  },
  {
   "cell_type": "code",
   "execution_count": 169,
   "id": "54839d90-7295-43ef-bda6-1a957d921e2c",
   "metadata": {},
   "outputs": [
    {
     "data": {
      "text/plain": [
       "{}"
      ]
     },
     "execution_count": 169,
     "metadata": {},
     "output_type": "execute_result"
    }
   ],
   "source": [
    "empty"
   ]
  },
  {
   "cell_type": "code",
   "execution_count": 181,
   "id": "fd2ac15b-94d6-4da6-90bb-2b7a9486612d",
   "metadata": {},
   "outputs": [
    {
     "name": "stdin",
     "output_type": "stream",
     "text": [
      "Enter your name Kanika Budhiraja\n"
     ]
    },
    {
     "name": "stdout",
     "output_type": "stream",
     "text": [
      "{'K': 1, 'a': 1, 'n': 1, 'i': 1, 'k': 1, ' ': 1, 'B': 1, 'u': 1, 'd': 1, 'h': 1, 'r': 1, 'j': 1}\n"
     ]
    }
   ],
   "source": [
    "name = input(\"Enter your name\")\n",
    "freq ={}\n",
    "for i in name:\n",
    "    if i not in freq:\n",
    "        freq[i]=1\n",
    "    else:\n",
    "        freq[i]=+1\n",
    "print(freq)"
   ]
  },
  {
   "cell_type": "code",
   "execution_count": null,
   "id": "365a2405-1fd6-41a3-82b1-3107dcfc1d52",
   "metadata": {},
   "outputs": [],
   "source": []
  }
 ],
 "metadata": {
  "kernelspec": {
   "display_name": "Python 3 (ipykernel)",
   "language": "python",
   "name": "python3"
  },
  "language_info": {
   "codemirror_mode": {
    "name": "ipython",
    "version": 3
   },
   "file_extension": ".py",
   "mimetype": "text/x-python",
   "name": "python",
   "nbconvert_exporter": "python",
   "pygments_lexer": "ipython3",
   "version": "3.11.7"
  }
 },
 "nbformat": 4,
 "nbformat_minor": 5
}
