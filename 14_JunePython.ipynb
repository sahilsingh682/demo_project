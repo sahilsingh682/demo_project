{
 "cells": [
  {
   "cell_type": "markdown",
   "id": "a400197c-0545-4647-b2e5-a85e12ed2723",
   "metadata": {},
   "source": [
    "# Looping Statement"
   ]
  },
  {
   "cell_type": "code",
   "execution_count": 10,
   "id": "399f5038-ae82-4c86-9180-9d2dbe9758a4",
   "metadata": {},
   "outputs": [
    {
     "name": "stdout",
     "output_type": "stream",
     "text": [
      "1\n",
      "2\n",
      "3\n",
      "4\n",
      "5\n",
      "6\n",
      "7\n",
      "8\n",
      "9\n",
      "10\n"
     ]
    }
   ],
   "source": [
    "i=1\n",
    "while i<=10:\n",
    "    print(i)\n",
    "    i+=1"
   ]
  },
  {
   "cell_type": "markdown",
   "id": "2a9f6675-0124-4100-8321-b286736e4e41",
   "metadata": {},
   "source": [
    "# Seprator"
   ]
  },
  {
   "cell_type": "code",
   "execution_count": 13,
   "id": "4e6586d3-85fa-45ea-bed1-29d651f4e1cc",
   "metadata": {},
   "outputs": [
    {
     "name": "stdout",
     "output_type": "stream",
     "text": [
      "1,2,3,4,5,6,7,8,9,10,"
     ]
    }
   ],
   "source": [
    "i=1\n",
    "while i<=10:\n",
    "    print(i ,end=\",\")\n",
    "    i+=1\n"
   ]
  },
  {
   "cell_type": "code",
   "execution_count": 3,
   "id": "d0e69e6e-a71a-4857-b41a-028f8dbc266b",
   "metadata": {},
   "outputs": [
    {
     "name": "stdout",
     "output_type": "stream",
     "text": [
      "2,4,6,8,10,12,14,16,18,20,22,24,26,28,30,32,34,36,38,40,42,44,46,48,50,52,54,56,58,60,62,64,66,68,70,72,74,76,78,80,82,84,86,88,90,92,94,96,98,100,"
     ]
    }
   ],
   "source": [
    "a=1\n",
    "while a <= 100:\n",
    "    if a%2==0:\n",
    "        print(a, end=\",\")\n",
    "    a += 1"
   ]
  },
  {
   "cell_type": "markdown",
   "id": "73a8d88b-9a79-4bf5-bddb-bf7847bda65f",
   "metadata": {},
   "source": [
    "# range() function"
   ]
  },
  {
   "cell_type": "code",
   "execution_count": 1,
   "id": "7c00ba30-a713-4aa6-b7ff-97c10170194a",
   "metadata": {},
   "outputs": [
    {
     "name": "stdout",
     "output_type": "stream",
     "text": [
      "range(0, 4)\n"
     ]
    }
   ],
   "source": [
    "print(range(4))"
   ]
  },
  {
   "cell_type": "code",
   "execution_count": 11,
   "id": "6d26c13c-6785-421c-a878-571da6f491ee",
   "metadata": {},
   "outputs": [
    {
     "name": "stdout",
     "output_type": "stream",
     "text": [
      "1\n",
      "2\n",
      "3\n",
      "4\n",
      "5\n",
      "6\n",
      "7\n",
      "8\n",
      "9\n",
      "10\n"
     ]
    }
   ],
   "source": [
    "for i in range(1,11):\n",
    "    print(i)"
   ]
  },
  {
   "cell_type": "code",
   "execution_count": 13,
   "id": "49528d44-a33c-4874-891b-4f3f036036af",
   "metadata": {},
   "outputs": [
    {
     "name": "stdout",
     "output_type": "stream",
     "text": [
      "0\n",
      "2\n",
      "4\n",
      "6\n",
      "8\n",
      "10\n",
      "12\n",
      "14\n",
      "16\n",
      "18\n",
      "20\n",
      "22\n",
      "24\n",
      "26\n",
      "28\n",
      "30\n",
      "32\n",
      "34\n",
      "36\n",
      "38\n",
      "40\n",
      "42\n",
      "44\n",
      "46\n",
      "48\n",
      "50\n"
     ]
    }
   ],
   "source": [
    "for i in range(0,51,2):\n",
    "    print(i)"
   ]
  },
  {
   "cell_type": "code",
   "execution_count": 17,
   "id": "1986f784-3b73-4df8-b716-5c26a16a296e",
   "metadata": {},
   "outputs": [
    {
     "name": "stdout",
     "output_type": "stream",
     "text": [
      "10\n",
      "9\n",
      "8\n",
      "7\n",
      "6\n",
      "5\n",
      "4\n",
      "3\n",
      "2\n",
      "1\n"
     ]
    }
   ],
   "source": [
    "for i in range(10,0,-1):\n",
    "        print(i)\n"
   ]
  },
  {
   "cell_type": "code",
   "execution_count": 39,
   "id": "dcc65f06-4479-4b5e-b11e-ffec7e7a9245",
   "metadata": {},
   "outputs": [
    {
     "name": "stdout",
     "output_type": "stream",
     "text": [
      "1\n",
      "3\n",
      "5\n",
      "7\n",
      "9\n"
     ]
    }
   ],
   "source": [
    "for i in range(1,10,2):\n",
    "    print(i)\n",
    "        "
   ]
  },
  {
   "cell_type": "code",
   "execution_count": 43,
   "id": "518a0abc-6cec-4e1b-855e-1cdf47150730",
   "metadata": {},
   "outputs": [
    {
     "name": "stdout",
     "output_type": "stream",
     "text": [
      "# # # # \n",
      "# # # # \n",
      "# # # # \n",
      "# # # # \n"
     ]
    }
   ],
   "source": [
    "for i in range(1,5):\n",
    "    for i in range(1,5):\n",
    "        print(\"#\", end=\" \")\n",
    "    print()"
   ]
  },
  {
   "cell_type": "markdown",
   "id": "ed205c81-6d78-418c-894b-742424ec2383",
   "metadata": {},
   "source": [
    "# List same as array"
   ]
  },
  {
   "cell_type": "code",
   "execution_count": 55,
   "id": "f90a30d9-8c9b-4f32-937f-00bc30240f34",
   "metadata": {},
   "outputs": [
    {
     "data": {
      "text/plain": [
       "['kanika', 'Raghav', 'sagar', 'Rohit', 'Vaibhav', 'Kannu', 'sagar']"
      ]
     },
     "execution_count": 55,
     "metadata": {},
     "output_type": "execute_result"
    }
   ],
   "source": [
    "students = ['kanika' , 'Raghav','sagar' ,'Rohit','Vaibhav','Kannu','sagar']\n",
    "students"
   ]
  },
  {
   "cell_type": "markdown",
   "id": "7add6544-9854-4b7a-a681-4aa9ffe9880a",
   "metadata": {},
   "source": [
    " # count()- returns the number of item present in list"
   ]
  },
  {
   "cell_type": "code",
   "execution_count": 57,
   "id": "ec8c18ad-44fe-4ada-9608-1da349927e44",
   "metadata": {},
   "outputs": [
    {
     "data": {
      "text/plain": [
       "2"
      ]
     },
     "execution_count": 57,
     "metadata": {},
     "output_type": "execute_result"
    }
   ],
   "source": [
    "students.count(\"sagar\")"
   ]
  },
  {
   "cell_type": "markdown",
   "id": "66d151f4-dfbd-40fa-b3e3-23aaf6d4d375",
   "metadata": {},
   "source": [
    "# index()- returns the index of given items in list"
   ]
  },
  {
   "cell_type": "code",
   "execution_count": 62,
   "id": "752cce68-61ba-4253-83a1-ea5acb7ae351",
   "metadata": {},
   "outputs": [
    {
     "data": {
      "text/plain": [
       "5"
      ]
     },
     "execution_count": 62,
     "metadata": {},
     "output_type": "execute_result"
    }
   ],
   "source": [
    "students.index(\"Kannu\") #indexing starts from zero same as array in the c"
   ]
  },
  {
   "cell_type": "markdown",
   "id": "59192c5f-1028-4dc3-8d16-b9152f57cfee",
   "metadata": {},
   "source": [
    "# insert()- it inserts the item in the list at a given index"
   ]
  },
  {
   "cell_type": "code",
   "execution_count": 66,
   "id": "1a038494-80bd-4fcc-98df-d558eadb1f82",
   "metadata": {},
   "outputs": [],
   "source": [
    "students.insert(2, \"Divya\")"
   ]
  },
  {
   "cell_type": "code",
   "execution_count": 68,
   "id": "f231bd24-52f2-4497-9919-6c04667af9f6",
   "metadata": {},
   "outputs": [
    {
     "data": {
      "text/plain": [
       "['kanika', 'Raghav', 'Divya', 'sagar', 'Rohit', 'Vaibhav', 'Kannu', 'sagar']"
      ]
     },
     "execution_count": 68,
     "metadata": {},
     "output_type": "execute_result"
    }
   ],
   "source": [
    "students"
   ]
  },
  {
   "cell_type": "markdown",
   "id": "e985e50b-0233-48e1-8121-80684866ce79",
   "metadata": {},
   "source": [
    "# pop()- it removes the last item of the list\n"
   ]
  },
  {
   "cell_type": "code",
   "execution_count": 71,
   "id": "2922472e-b6f6-4676-ab3e-aad911009263",
   "metadata": {},
   "outputs": [],
   "source": [
    "drop= students.pop()"
   ]
  },
  {
   "cell_type": "code",
   "execution_count": 73,
   "id": "e10c88c1-a3e6-4b58-b35d-a47df1c46f08",
   "metadata": {},
   "outputs": [
    {
     "data": {
      "text/plain": [
       "'sagar'"
      ]
     },
     "execution_count": 73,
     "metadata": {},
     "output_type": "execute_result"
    }
   ],
   "source": [
    "drop"
   ]
  },
  {
   "cell_type": "code",
   "execution_count": 75,
   "id": "ad835dae-ba20-4e2a-9b78-28d7e1ff1e8f",
   "metadata": {},
   "outputs": [
    {
     "data": {
      "text/plain": [
       "['kanika', 'Raghav', 'Divya', 'sagar', 'Rohit', 'Vaibhav', 'Kannu']"
      ]
     },
     "execution_count": 75,
     "metadata": {},
     "output_type": "execute_result"
    }
   ],
   "source": [
    "students"
   ]
  },
  {
   "cell_type": "markdown",
   "id": "77dc0aeb-5fee-4022-ad99-489e94061440",
   "metadata": {},
   "source": [
    "# remove()- it removes the given data item from the list"
   ]
  },
  {
   "cell_type": "code",
   "execution_count": 86,
   "id": "3c8c11c3-0d49-4623-a9f7-b622caa91f4a",
   "metadata": {},
   "outputs": [],
   "source": [
    "students.remove(\"kanika\")"
   ]
  },
  {
   "cell_type": "code",
   "execution_count": 88,
   "id": "8f158cf5-4c5c-44ec-88c7-cace011cc8f6",
   "metadata": {},
   "outputs": [
    {
     "data": {
      "text/plain": [
       "['Raghav', 'Divya', 'sagar', 'Rohit', 'Vaibhav', 'Kannu']"
      ]
     },
     "execution_count": 88,
     "metadata": {},
     "output_type": "execute_result"
    }
   ],
   "source": [
    "students"
   ]
  },
  {
   "cell_type": "markdown",
   "id": "f0d7aa93-6640-49df-8e56-ef8cda8b5b24",
   "metadata": {},
   "source": [
    "# sort()- it return the sorted list of item in ascending order or in the descending order"
   ]
  },
  {
   "cell_type": "code",
   "execution_count": 91,
   "id": "8aa7fb88-2442-46e1-899d-20ff0f11d464",
   "metadata": {},
   "outputs": [],
   "source": [
    "students.sort()"
   ]
  },
  {
   "cell_type": "code",
   "execution_count": 99,
   "id": "eb5096c3-e3f7-4519-b428-d0292019d042",
   "metadata": {},
   "outputs": [
    {
     "data": {
      "text/plain": [
       "['sagar', 'Vaibhav', 'Rohit', 'Raghav', 'Kannu', 'Divya']"
      ]
     },
     "execution_count": 99,
     "metadata": {},
     "output_type": "execute_result"
    }
   ],
   "source": [
    "students"
   ]
  },
  {
   "cell_type": "code",
   "execution_count": 95,
   "id": "b5415b39-3605-4ff0-a8e9-b97ae3376b8c",
   "metadata": {},
   "outputs": [],
   "source": [
    "\n",
    "students.sort(reverse=True)"
   ]
  },
  {
   "cell_type": "code",
   "execution_count": 97,
   "id": "67641760-d25e-4f7b-8d20-c9880c0bec8c",
   "metadata": {},
   "outputs": [
    {
     "data": {
      "text/plain": [
       "['sagar', 'Vaibhav', 'Rohit', 'Raghav', 'Kannu', 'Divya']"
      ]
     },
     "execution_count": 97,
     "metadata": {},
     "output_type": "execute_result"
    }
   ],
   "source": [
    "students"
   ]
  },
  {
   "cell_type": "markdown",
   "id": "7b93e461-28d5-4988-bec8-a1e91617dfc2",
   "metadata": {},
   "source": [
    "# append()-  It adds the given item at the end of the list"
   ]
  },
  {
   "cell_type": "code",
   "execution_count": 102,
   "id": "77ff2a72-fe46-498f-bdf1-b7877bab1710",
   "metadata": {},
   "outputs": [],
   "source": [
    "students.append(\"Love\")"
   ]
  },
  {
   "cell_type": "code",
   "execution_count": 104,
   "id": "625a2df4-fb50-49bf-ac7e-0737521b786d",
   "metadata": {},
   "outputs": [
    {
     "data": {
      "text/plain": [
       "['sagar', 'Vaibhav', 'Rohit', 'Raghav', 'Kannu', 'Divya', 'Love']"
      ]
     },
     "execution_count": 104,
     "metadata": {},
     "output_type": "execute_result"
    }
   ],
   "source": [
    "students"
   ]
  },
  {
   "cell_type": "markdown",
   "id": "b41f66d9-2a68-4883-afda-ff51db765824",
   "metadata": {},
   "source": [
    "# extends() - It adds data item at the end of the list"
   ]
  },
  {
   "cell_type": "code",
   "execution_count": 109,
   "id": "e0600ce9-3384-48a3-86d1-4c0ca0a49454",
   "metadata": {},
   "outputs": [],
   "source": [
    "surname=['sharma', 'budhiraja' ,'dhankhar', 'gupta']"
   ]
  },
  {
   "cell_type": "code",
   "execution_count": 111,
   "id": "088f6b1b-a913-4267-ae9f-967418dc1115",
   "metadata": {},
   "outputs": [],
   "source": [
    "students.extend(surname)"
   ]
  },
  {
   "cell_type": "code",
   "execution_count": 113,
   "id": "7ead4607-91ce-4575-ba43-78cc23b49661",
   "metadata": {},
   "outputs": [
    {
     "data": {
      "text/plain": [
       "['sagar',\n",
       " 'Vaibhav',\n",
       " 'Rohit',\n",
       " 'Raghav',\n",
       " 'Kannu',\n",
       " 'Divya',\n",
       " 'Love',\n",
       " 'sharma',\n",
       " 'budhiraja',\n",
       " 'dhankhar',\n",
       " 'gupta']"
      ]
     },
     "execution_count": 113,
     "metadata": {},
     "output_type": "execute_result"
    }
   ],
   "source": [
    "students"
   ]
  },
  {
   "cell_type": "code",
   "execution_count": 125,
   "id": "25f6983a-36a3-495c-bb77-a41b0d403b25",
   "metadata": {},
   "outputs": [],
   "source": [
    "students.append(surname)"
   ]
  },
  {
   "cell_type": "code",
   "execution_count": 127,
   "id": "60b455ab-4d26-454a-ae2d-27085e13866e",
   "metadata": {},
   "outputs": [
    {
     "data": {
      "text/plain": [
       "['sagar',\n",
       " 'Vaibhav',\n",
       " 'Rohit',\n",
       " 'Raghav',\n",
       " 'Kannu',\n",
       " 'Divya',\n",
       " 'Love',\n",
       " 'sharma',\n",
       " 'budhiraja',\n",
       " 'dhankhar',\n",
       " 'gupta',\n",
       " ['sharma', 'budhiraja', 'dhankhar', 'gupta']]"
      ]
     },
     "execution_count": 127,
     "metadata": {},
     "output_type": "execute_result"
    }
   ],
   "source": [
    "students"
   ]
  },
  {
   "cell_type": "code",
   "execution_count": 129,
   "id": "e44af182-37d1-4f74-9119-87cfb0643158",
   "metadata": {},
   "outputs": [],
   "source": [
    "students.append(['gupta','malik'])"
   ]
  },
  {
   "cell_type": "code",
   "execution_count": 131,
   "id": "4a8d70d1-2160-4e46-a1c5-efe5f57e9855",
   "metadata": {},
   "outputs": [
    {
     "data": {
      "text/plain": [
       "['sagar',\n",
       " 'Vaibhav',\n",
       " 'Rohit',\n",
       " 'Raghav',\n",
       " 'Kannu',\n",
       " 'Divya',\n",
       " 'Love',\n",
       " 'sharma',\n",
       " 'budhiraja',\n",
       " 'dhankhar',\n",
       " 'gupta',\n",
       " ['sharma', 'budhiraja', 'dhankhar', 'gupta'],\n",
       " ['gupta', 'malik']]"
      ]
     },
     "execution_count": 131,
     "metadata": {},
     "output_type": "execute_result"
    }
   ],
   "source": [
    "students"
   ]
  },
  {
   "cell_type": "markdown",
   "id": "ce418cad-b94e-4574-be53-083d79c4dc6c",
   "metadata": {},
   "source": [
    " # For concatination of two list"
   ]
  },
  {
   "cell_type": "code",
   "execution_count": 136,
   "id": "eaf829d6-fd18-402e-85bb-880271190876",
   "metadata": {},
   "outputs": [],
   "source": [
    "l1= [1,2,3]\n",
    "l2=[4,5,6]"
   ]
  },
  {
   "cell_type": "code",
   "execution_count": 138,
   "id": "e31ac0fd-7181-4327-b945-e9c78ee08155",
   "metadata": {},
   "outputs": [],
   "source": [
    "l3=l1+l2"
   ]
  },
  {
   "cell_type": "code",
   "execution_count": 140,
   "id": "cc75efce-50d3-45da-98ab-c10abaf04642",
   "metadata": {},
   "outputs": [
    {
     "data": {
      "text/plain": [
       "[1, 2, 3, 4, 5, 6]"
      ]
     },
     "execution_count": 140,
     "metadata": {},
     "output_type": "execute_result"
    }
   ],
   "source": [
    "l3"
   ]
  },
  {
   "cell_type": "markdown",
   "id": "0243f211-587c-4085-bd3d-c2535816e97d",
   "metadata": {},
   "source": [
    "# Slicing of list"
   ]
  },
  {
   "cell_type": "code",
   "execution_count": 143,
   "id": "5ca556bc-ad77-472d-8974-2fed1b07ef01",
   "metadata": {},
   "outputs": [
    {
     "data": {
      "text/plain": [
       "['sagar', 'Vaibhav', 'Rohit', 'Raghav']"
      ]
     },
     "execution_count": 143,
     "metadata": {},
     "output_type": "execute_result"
    }
   ],
   "source": [
    "students[0:4]"
   ]
  },
  {
   "cell_type": "code",
   "execution_count": 147,
   "id": "2ce9a569-c53e-451a-9da7-ba2ffca4f5e4",
   "metadata": {},
   "outputs": [
    {
     "data": {
      "text/plain": [
       "['gupta', 'malik']"
      ]
     },
     "execution_count": 147,
     "metadata": {},
     "output_type": "execute_result"
    }
   ],
   "source": [
    "students[-1]"
   ]
  },
  {
   "cell_type": "code",
   "execution_count": 149,
   "id": "dc99eae6-4360-4af6-bf51-43cdc8e1432a",
   "metadata": {},
   "outputs": [],
   "source": [
    "number=[1,2,3,4,5,6,7,8]"
   ]
  },
  {
   "cell_type": "code",
   "execution_count": 151,
   "id": "2cd303cd-66cc-4650-8eb2-cb9c52fb6d3d",
   "metadata": {},
   "outputs": [
    {
     "data": {
      "text/plain": [
       "8"
      ]
     },
     "execution_count": 151,
     "metadata": {},
     "output_type": "execute_result"
    }
   ],
   "source": [
    "number[-1]"
   ]
  },
  {
   "cell_type": "raw",
   "id": "42a8979f-f91d-4415-89d2-4cf309420e52",
   "metadata": {},
   "source": [
    "number[4]"
   ]
  },
  {
   "cell_type": "code",
   "execution_count": 177,
   "id": "b21f1085-3b54-4bf8-9f9f-8ec36e25fd94",
   "metadata": {},
   "outputs": [
    {
     "data": {
      "text/plain": [
       "[-1]"
      ]
     },
     "execution_count": 177,
     "metadata": {},
     "output_type": "execute_result"
    }
   ],
   "source": [
    "number[::5]"
   ]
  },
  {
   "cell_type": "code",
   "execution_count": 181,
   "id": "575b987d-e552-4bb1-800f-33cb9eef02b8",
   "metadata": {},
   "outputs": [
    {
     "data": {
      "text/plain": [
       "[]"
      ]
     },
     "execution_count": 181,
     "metadata": {},
     "output_type": "execute_result"
    }
   ],
   "source": [
    "number[1:5]"
   ]
  },
  {
   "cell_type": "code",
   "execution_count": 186,
   "id": "625479ab-e03d-4090-82ef-8cb2025f4a87",
   "metadata": {},
   "outputs": [],
   "source": [
    "friends=['Kanika','Kannu','Jiya','Samarth','Kajal']"
   ]
  },
  {
   "cell_type": "code",
   "execution_count": 188,
   "id": "37d83932-e5e2-4b23-a05b-a9561d94efed",
   "metadata": {},
   "outputs": [
    {
     "name": "stdout",
     "output_type": "stream",
     "text": [
      "Happy Birthday to Kanika\n",
      "Happy Birthday to Kannu\n",
      "Happy Birthday to Jiya\n",
      "Happy Birthday to Samarth\n",
      "Happy Birthday to Kajal\n"
     ]
    }
   ],
   "source": [
    "for i in friends:\n",
    "    print(\"Happy Birthday to\" ,i)"
   ]
  },
  {
   "cell_type": "code",
   "execution_count": null,
   "id": "562e31d3-67ae-4f9b-a3e7-f16b86e3143d",
   "metadata": {},
   "outputs": [],
   "source": []
  }
 ],
 "metadata": {
  "kernelspec": {
   "display_name": "Python 3 (ipykernel)",
   "language": "python",
   "name": "python3"
  },
  "language_info": {
   "codemirror_mode": {
    "name": "ipython",
    "version": 3
   },
   "file_extension": ".py",
   "mimetype": "text/x-python",
   "name": "python",
   "nbconvert_exporter": "python",
   "pygments_lexer": "ipython3",
   "version": "3.11.7"
  }
 },
 "nbformat": 4,
 "nbformat_minor": 5
}
