{
 "cells": [
  {
   "cell_type": "markdown",
   "id": "37e1b6b0-4b6a-4fa4-a30e-c6646cbd6f08",
   "metadata": {},
   "source": [
    "# Slicing 2-d array"
   ]
  },
  {
   "cell_type": "code",
   "execution_count": 643,
   "id": "5a532349-200f-4051-baf5-6af0fa59b137",
   "metadata": {},
   "outputs": [],
   "source": [
    "import numpy as np"
   ]
  },
  {
   "cell_type": "code",
   "execution_count": 644,
   "id": "92d15743-b68a-4060-ab5d-0889f13a5c9e",
   "metadata": {},
   "outputs": [],
   "source": [
    "arr = np.array([[1,2,3,4],[5,6,7,8],[9,10,11,12]])"
   ]
  },
  {
   "cell_type": "code",
   "execution_count": 645,
   "id": "d9745965-65a9-4702-97fb-c7ead3e22a72",
   "metadata": {},
   "outputs": [
    {
     "name": "stdout",
     "output_type": "stream",
     "text": [
      "[[ 1  2  3  4]\n",
      " [ 5  6  7  8]\n",
      " [ 9 10 11 12]]\n"
     ]
    }
   ],
   "source": [
    "print(arr)"
   ]
  },
  {
   "cell_type": "code",
   "execution_count": 646,
   "id": "113d9aa8-a6eb-4fa0-a2c9-7b8267ea8ace",
   "metadata": {},
   "outputs": [
    {
     "data": {
      "text/plain": [
       "(3, 4)"
      ]
     },
     "execution_count": 646,
     "metadata": {},
     "output_type": "execute_result"
    }
   ],
   "source": [
    "arr.shape"
   ]
  },
  {
   "cell_type": "markdown",
   "id": "b168effc-8fa1-4a58-bfaf-8cab86290758",
   "metadata": {},
   "source": [
    "# Accessing specific elements of 2-d array- array[rows,columns]"
   ]
  },
  {
   "cell_type": "code",
   "execution_count": 648,
   "id": "e30bfd90-7bc0-41f8-96e2-a24c277334c3",
   "metadata": {},
   "outputs": [
    {
     "data": {
      "text/plain": [
       "8"
      ]
     },
     "execution_count": 648,
     "metadata": {},
     "output_type": "execute_result"
    }
   ],
   "source": [
    "arr[1,3]"
   ]
  },
  {
   "cell_type": "code",
   "execution_count": 649,
   "id": "fd897366-8613-4319-8022-7e4533953513",
   "metadata": {},
   "outputs": [
    {
     "data": {
      "text/plain": [
       "array([ 4,  8, 12])"
      ]
     },
     "execution_count": 649,
     "metadata": {},
     "output_type": "execute_result"
    }
   ],
   "source": [
    "arr[:,3]"
   ]
  },
  {
   "cell_type": "code",
   "execution_count": 650,
   "id": "e40a470a-9a21-42ff-bf10-693bb6a60dda",
   "metadata": {},
   "outputs": [
    {
     "data": {
      "text/plain": [
       "array([ 3,  7, 11])"
      ]
     },
     "execution_count": 650,
     "metadata": {},
     "output_type": "execute_result"
    }
   ],
   "source": [
    "arr[:,2]"
   ]
  },
  {
   "cell_type": "code",
   "execution_count": 651,
   "id": "808fd319-d205-4923-b439-4848896d907c",
   "metadata": {},
   "outputs": [
    {
     "data": {
      "text/plain": [
       "array([[ 2,  3],\n",
       "       [ 6,  7],\n",
       "       [10, 11]])"
      ]
     },
     "execution_count": 651,
     "metadata": {},
     "output_type": "execute_result"
    }
   ],
   "source": [
    "arr[:,1:3]"
   ]
  },
  {
   "cell_type": "code",
   "execution_count": 652,
   "id": "f000b47c-c8f1-408d-99ef-d6c9465210d6",
   "metadata": {},
   "outputs": [
    {
     "name": "stdout",
     "output_type": "stream",
     "text": [
      "[[ 1  2  3  4]\n",
      " [ 5  6  7  8]\n",
      " [ 9 10 11 12]]\n"
     ]
    }
   ],
   "source": [
    "print(arr)"
   ]
  },
  {
   "cell_type": "code",
   "execution_count": 653,
   "id": "1abf1305-7464-49b5-9879-20307f1f541d",
   "metadata": {},
   "outputs": [
    {
     "data": {
      "text/plain": [
       "array([[2, 3],\n",
       "       [6, 7]])"
      ]
     },
     "execution_count": 653,
     "metadata": {},
     "output_type": "execute_result"
    }
   ],
   "source": [
    "arr[0:2,1:3]"
   ]
  },
  {
   "cell_type": "code",
   "execution_count": 654,
   "id": "5088e34f-b37d-4004-ab39-d0b23781016f",
   "metadata": {},
   "outputs": [
    {
     "data": {
      "text/plain": [
       "array([[6, 7, 8]])"
      ]
     },
     "execution_count": 654,
     "metadata": {},
     "output_type": "execute_result"
    }
   ],
   "source": [
    "arr[1:2,1:4]"
   ]
  },
  {
   "cell_type": "markdown",
   "id": "bce07b99-f803-4de8-b7e9-e9c05b1c1f25",
   "metadata": {},
   "source": [
    "# Creating all zeroes matrix"
   ]
  },
  {
   "cell_type": "code",
   "execution_count": 656,
   "id": "6961d555-f704-4fb6-8652-7a3255c429e6",
   "metadata": {},
   "outputs": [],
   "source": [
    "a= np.zeros((3,4), dtype=\"int64\")"
   ]
  },
  {
   "cell_type": "code",
   "execution_count": 657,
   "id": "8d2ead68-49b0-4340-a898-c1d6c8bab2a4",
   "metadata": {},
   "outputs": [
    {
     "name": "stdout",
     "output_type": "stream",
     "text": [
      "[[0 0 0 0]\n",
      " [0 0 0 0]\n",
      " [0 0 0 0]]\n"
     ]
    }
   ],
   "source": [
    "print(a)"
   ]
  },
  {
   "cell_type": "code",
   "execution_count": 658,
   "id": "2488701d-a7de-4f08-8c5c-7f6f6e395ffc",
   "metadata": {},
   "outputs": [],
   "source": [
    "a = np.zeros((3,4), dtype=\"float64\")"
   ]
  },
  {
   "cell_type": "code",
   "execution_count": 659,
   "id": "f43aaa96-cf8d-4019-8ae9-c97bfd77099f",
   "metadata": {},
   "outputs": [
    {
     "name": "stdout",
     "output_type": "stream",
     "text": [
      "[[0. 0. 0. 0.]\n",
      " [0. 0. 0. 0.]\n",
      " [0. 0. 0. 0.]]\n"
     ]
    }
   ],
   "source": [
    "print(a)"
   ]
  },
  {
   "cell_type": "markdown",
   "id": "38daaa47-05e0-4502-ad74-b00357ea2375",
   "metadata": {},
   "source": [
    "# Creating all 1s Matrix"
   ]
  },
  {
   "cell_type": "code",
   "execution_count": 661,
   "id": "a948f4b0-9a44-4c9b-bc7a-e17216d7a8d7",
   "metadata": {},
   "outputs": [],
   "source": [
    "b= np.ones((4,5) ,dtype=\"int32\")"
   ]
  },
  {
   "cell_type": "markdown",
   "id": "d42c70c1-1582-4e2a-b3cc-1ce2826cd96e",
   "metadata": {},
   "source": [
    "# print(b)"
   ]
  },
  {
   "cell_type": "code",
   "execution_count": 663,
   "id": "eb58d0b0-426c-479b-83d7-bad16c14b1de",
   "metadata": {},
   "outputs": [],
   "source": [
    "b[:,0:3]=10"
   ]
  },
  {
   "cell_type": "code",
   "execution_count": 664,
   "id": "50029a1c-ac4c-4fd5-98e4-775a0243ec72",
   "metadata": {},
   "outputs": [
    {
     "name": "stdout",
     "output_type": "stream",
     "text": [
      "[[10 10 10  1  1]\n",
      " [10 10 10  1  1]\n",
      " [10 10 10  1  1]\n",
      " [10 10 10  1  1]]\n"
     ]
    }
   ],
   "source": [
    "print(b)"
   ]
  },
  {
   "cell_type": "code",
   "execution_count": 665,
   "id": "f0b70251-1846-4bea-85c1-5835b03f119e",
   "metadata": {},
   "outputs": [],
   "source": [
    "b[0:2, 3:5]=4"
   ]
  },
  {
   "cell_type": "code",
   "execution_count": 666,
   "id": "8ab03f65-b441-4a2e-822d-b4af470cd3cf",
   "metadata": {},
   "outputs": [
    {
     "name": "stdout",
     "output_type": "stream",
     "text": [
      "[[10 10 10  4  4]\n",
      " [10 10 10  4  4]\n",
      " [10 10 10  1  1]\n",
      " [10 10 10  1  1]]\n"
     ]
    }
   ],
   "source": [
    "print(b)"
   ]
  },
  {
   "cell_type": "code",
   "execution_count": 667,
   "id": "8d312d2f-4ad8-4968-ace0-e1f624b4fad0",
   "metadata": {},
   "outputs": [],
   "source": [
    "b[2:4 , 3:5] = 5"
   ]
  },
  {
   "cell_type": "code",
   "execution_count": 668,
   "id": "fea075be-300b-46a1-89e6-e71c9e7b34e0",
   "metadata": {},
   "outputs": [
    {
     "name": "stdout",
     "output_type": "stream",
     "text": [
      "[[10 10 10  4  4]\n",
      " [10 10 10  4  4]\n",
      " [10 10 10  5  5]\n",
      " [10 10 10  5  5]]\n"
     ]
    }
   ],
   "source": [
    "print(b)"
   ]
  },
  {
   "cell_type": "code",
   "execution_count": 669,
   "id": "2602731e-1d08-41f9-a738-598e831c7f98",
   "metadata": {},
   "outputs": [],
   "source": [
    "c= np.full (b.shape ,99)"
   ]
  },
  {
   "cell_type": "code",
   "execution_count": 670,
   "id": "6255e1b6-fa09-4441-9d75-26cdb766c04b",
   "metadata": {},
   "outputs": [
    {
     "name": "stdout",
     "output_type": "stream",
     "text": [
      "[[99 99 99 99 99]\n",
      " [99 99 99 99 99]\n",
      " [99 99 99 99 99]\n",
      " [99 99 99 99 99]]\n"
     ]
    }
   ],
   "source": [
    "print(c)"
   ]
  },
  {
   "cell_type": "code",
   "execution_count": 671,
   "id": "bde7edc0-77b8-4a5f-a727-cb60d346ef44",
   "metadata": {},
   "outputs": [],
   "source": [
    "d= np.full_like(c,5)"
   ]
  },
  {
   "cell_type": "code",
   "execution_count": 672,
   "id": "065da2d1-47e9-472c-ba1a-fb3c90114e2a",
   "metadata": {},
   "outputs": [
    {
     "name": "stdout",
     "output_type": "stream",
     "text": [
      "[[5 5 5 5 5]\n",
      " [5 5 5 5 5]\n",
      " [5 5 5 5 5]\n",
      " [5 5 5 5 5]]\n"
     ]
    }
   ],
   "source": [
    "print(d)"
   ]
  },
  {
   "cell_type": "code",
   "execution_count": 673,
   "id": "1a4351f2-c01e-4946-b484-37fb615a9580",
   "metadata": {},
   "outputs": [],
   "source": [
    "n1 = np.ones((3,3), dtype=\"int32\")"
   ]
  },
  {
   "cell_type": "code",
   "execution_count": 674,
   "id": "13c17e95-aa9f-434d-8877-eca01ef17bda",
   "metadata": {},
   "outputs": [
    {
     "name": "stdout",
     "output_type": "stream",
     "text": [
      "[[1 1 1]\n",
      " [1 1 1]\n",
      " [1 1 1]]\n"
     ]
    }
   ],
   "source": [
    "print(n1)"
   ]
  },
  {
   "cell_type": "code",
   "execution_count": 675,
   "id": "fba6773f-f63b-405d-98a3-262350e570c8",
   "metadata": {},
   "outputs": [],
   "source": [
    "n2 = np.full_like(n1,2)"
   ]
  },
  {
   "cell_type": "code",
   "execution_count": 676,
   "id": "e33434c7-73b3-4efb-8577-fd025132e907",
   "metadata": {},
   "outputs": [
    {
     "name": "stdout",
     "output_type": "stream",
     "text": [
      "[[2 2 2]\n",
      " [2 2 2]\n",
      " [2 2 2]]\n"
     ]
    }
   ],
   "source": [
    "print(n2)"
   ]
  },
  {
   "cell_type": "code",
   "execution_count": 677,
   "id": "7479838c-7b34-4966-830a-3a6d46ba6e9d",
   "metadata": {},
   "outputs": [],
   "source": [
    "n3=n1+n2"
   ]
  },
  {
   "cell_type": "code",
   "execution_count": 678,
   "id": "fb7bef3a-9088-4309-be39-4fc3af1df097",
   "metadata": {},
   "outputs": [
    {
     "name": "stdout",
     "output_type": "stream",
     "text": [
      "[[3 3 3]\n",
      " [3 3 3]\n",
      " [3 3 3]]\n"
     ]
    }
   ],
   "source": [
    "print(n3)"
   ]
  },
  {
   "cell_type": "code",
   "execution_count": 679,
   "id": "4e53787a-946b-4e57-b2d8-59e3d51bb49f",
   "metadata": {},
   "outputs": [],
   "source": [
    "n3=n1*n2"
   ]
  },
  {
   "cell_type": "code",
   "execution_count": 680,
   "id": "1eb8a5cf-d49e-4f43-ad1a-ae87a296ed4b",
   "metadata": {},
   "outputs": [
    {
     "name": "stdout",
     "output_type": "stream",
     "text": [
      "[[2 2 2]\n",
      " [2 2 2]\n",
      " [2 2 2]]\n"
     ]
    }
   ],
   "source": [
    "print(n3)"
   ]
  },
  {
   "cell_type": "code",
   "execution_count": 681,
   "id": "f00b2541-2c2d-414d-89cc-cf1d8dc5c66d",
   "metadata": {},
   "outputs": [],
   "source": [
    "n = n3*n2"
   ]
  },
  {
   "cell_type": "code",
   "execution_count": 682,
   "id": "cdf2da5c-bea5-47b1-a4d1-b6326172bc79",
   "metadata": {},
   "outputs": [
    {
     "name": "stdout",
     "output_type": "stream",
     "text": [
      "[[4 4 4]\n",
      " [4 4 4]\n",
      " [4 4 4]]\n"
     ]
    }
   ],
   "source": [
    "print(n)"
   ]
  },
  {
   "cell_type": "markdown",
   "id": "620f48df-1ef3-436e-abf0-99d194d8e8a5",
   "metadata": {},
   "source": [
    "# Creating 3-d array"
   ]
  },
  {
   "cell_type": "code",
   "execution_count": 684,
   "id": "7b7df676-de7d-4509-bc52-d48e06c3e7b8",
   "metadata": {},
   "outputs": [],
   "source": [
    "arr = np.array([[[1,2,3],[4,5,6]],[[7,8,9],[10,11,12]]])"
   ]
  },
  {
   "cell_type": "code",
   "execution_count": 685,
   "id": "9f287af1-9143-4307-a3ec-4ed82bd09c60",
   "metadata": {},
   "outputs": [
    {
     "name": "stdout",
     "output_type": "stream",
     "text": [
      "[[[ 1  2  3]\n",
      "  [ 4  5  6]]\n",
      "\n",
      " [[ 7  8  9]\n",
      "  [10 11 12]]]\n"
     ]
    }
   ],
   "source": [
    "print(arr)"
   ]
  },
  {
   "cell_type": "code",
   "execution_count": 686,
   "id": "cddf2d62-118f-48e4-84f4-0e1c54888322",
   "metadata": {},
   "outputs": [
    {
     "data": {
      "text/plain": [
       "5"
      ]
     },
     "execution_count": 686,
     "metadata": {},
     "output_type": "execute_result"
    }
   ],
   "source": [
    "arr[0,1,1]"
   ]
  },
  {
   "cell_type": "code",
   "execution_count": 687,
   "id": "6d00c910-e7b7-4960-bc1b-afa521dcb9a0",
   "metadata": {},
   "outputs": [
    {
     "data": {
      "text/plain": [
       "array([[2, 3],\n",
       "       [5, 6]])"
      ]
     },
     "execution_count": 687,
     "metadata": {},
     "output_type": "execute_result"
    }
   ],
   "source": [
    "arr[0,:, 1:3]"
   ]
  },
  {
   "cell_type": "code",
   "execution_count": 688,
   "id": "ac2716d6-41ff-48a3-8154-3889820b526e",
   "metadata": {},
   "outputs": [
    {
     "data": {
      "text/plain": [
       "array([[[ 4,  5,  6]],\n",
       "\n",
       "       [[10, 11, 12]]])"
      ]
     },
     "execution_count": 688,
     "metadata": {},
     "output_type": "execute_result"
    }
   ],
   "source": [
    "arr[:,1:3]"
   ]
  },
  {
   "cell_type": "code",
   "execution_count": 689,
   "id": "e1fdbecc-3d6a-4d68-9fa0-9e7b40eb42a3",
   "metadata": {},
   "outputs": [
    {
     "data": {
      "text/plain": [
       "array([[[ 2,  3],\n",
       "        [ 5,  6]],\n",
       "\n",
       "       [[ 8,  9],\n",
       "        [11, 12]]])"
      ]
     },
     "execution_count": 689,
     "metadata": {},
     "output_type": "execute_result"
    }
   ],
   "source": [
    "arr[:,:,1:3]"
   ]
  },
  {
   "cell_type": "code",
   "execution_count": 690,
   "id": "02253e9a-0790-47f9-83a7-636ee354db55",
   "metadata": {},
   "outputs": [],
   "source": [
    "arr[:,:,1:3] = 10"
   ]
  },
  {
   "cell_type": "code",
   "execution_count": 691,
   "id": "3808b0d2-5a4d-4e4f-9f14-229bb077019b",
   "metadata": {},
   "outputs": [
    {
     "name": "stdout",
     "output_type": "stream",
     "text": [
      "[[[ 1 10 10]\n",
      "  [ 4 10 10]]\n",
      "\n",
      " [[ 7 10 10]\n",
      "  [10 10 10]]]\n"
     ]
    }
   ],
   "source": [
    "print(arr)"
   ]
  },
  {
   "cell_type": "code",
   "execution_count": 692,
   "id": "ee1cc838-ea89-4a4a-bf4c-33a699d50f0c",
   "metadata": {},
   "outputs": [],
   "source": [
    "a = np.array([1,2,3,4,5,6,7,8,9,10,11,12])"
   ]
  },
  {
   "cell_type": "code",
   "execution_count": 693,
   "id": "08df81bd-7b63-417e-aa3c-d8f59de4464d",
   "metadata": {},
   "outputs": [
    {
     "name": "stdout",
     "output_type": "stream",
     "text": [
      "[ 1  2  3  4  5  6  7  8  9 10 11 12]\n"
     ]
    }
   ],
   "source": [
    "print(a)"
   ]
  },
  {
   "cell_type": "code",
   "execution_count": 694,
   "id": "05dbfb45-eb3a-489f-8ad5-72e39decd517",
   "metadata": {},
   "outputs": [],
   "source": [
    "b = a.reshape(2,6)"
   ]
  },
  {
   "cell_type": "code",
   "execution_count": 695,
   "id": "4d183f81-45cd-4e95-91de-9432bdfb848c",
   "metadata": {},
   "outputs": [
    {
     "name": "stdout",
     "output_type": "stream",
     "text": [
      "[[ 1  2  3  4  5  6]\n",
      " [ 7  8  9 10 11 12]]\n"
     ]
    }
   ],
   "source": [
    "print(b)"
   ]
  },
  {
   "cell_type": "code",
   "execution_count": 696,
   "id": "ce980000-550c-4be1-9d9b-8b3c7770ae1c",
   "metadata": {},
   "outputs": [],
   "source": [
    "b = a.reshape(3,4)"
   ]
  },
  {
   "cell_type": "code",
   "execution_count": 697,
   "id": "aa9a7e4b-1bb4-4da4-90b6-ef2e84892299",
   "metadata": {},
   "outputs": [
    {
     "name": "stdout",
     "output_type": "stream",
     "text": [
      "[[ 1  2  3  4]\n",
      " [ 5  6  7  8]\n",
      " [ 9 10 11 12]]\n"
     ]
    }
   ],
   "source": [
    "print(b)"
   ]
  },
  {
   "cell_type": "code",
   "execution_count": 698,
   "id": "9dd995f6-f677-4616-b9a4-86283e2b6dce",
   "metadata": {},
   "outputs": [],
   "source": [
    "d = a.reshape(2,3,2)"
   ]
  },
  {
   "cell_type": "code",
   "execution_count": 699,
   "id": "2b081b58-7c33-4ab8-8e2b-dc67b5575cd6",
   "metadata": {},
   "outputs": [
    {
     "name": "stdout",
     "output_type": "stream",
     "text": [
      "[[[ 1  2]\n",
      "  [ 3  4]\n",
      "  [ 5  6]]\n",
      "\n",
      " [[ 7  8]\n",
      "  [ 9 10]\n",
      "  [11 12]]]\n"
     ]
    }
   ],
   "source": [
    "print(d)"
   ]
  },
  {
   "cell_type": "markdown",
   "id": "1047da8a-5e01-40c8-8848-500f8e22d66c",
   "metadata": {},
   "source": [
    "# Copying the array"
   ]
  },
  {
   "cell_type": "code",
   "execution_count": 701,
   "id": "6815f4c4-75d3-4733-82c1-b3d88898f740",
   "metadata": {},
   "outputs": [
    {
     "name": "stdout",
     "output_type": "stream",
     "text": [
      "[ 1  2  3  4  5  6  7  8  9 10 11 12]\n"
     ]
    }
   ],
   "source": [
    "x = a.copy()\n",
    "print(x)"
   ]
  },
  {
   "cell_type": "markdown",
   "id": "901fd710-6a01-49af-9926-4ba4aa90c676",
   "metadata": {},
   "source": [
    " # copy vs view"
   ]
  },
  {
   "cell_type": "code",
   "execution_count": 703,
   "id": "43a73a34-f0b0-4c83-a2da-d498e56ac7c1",
   "metadata": {},
   "outputs": [],
   "source": [
    "x[3:6]= 10"
   ]
  },
  {
   "cell_type": "code",
   "execution_count": 704,
   "id": "96b3ef29-78d0-4212-980f-2f9c6edf0811",
   "metadata": {},
   "outputs": [
    {
     "name": "stdout",
     "output_type": "stream",
     "text": [
      "[ 1  2  3 10 10 10  7  8  9 10 11 12]\n"
     ]
    }
   ],
   "source": [
    "print(x)"
   ]
  },
  {
   "cell_type": "code",
   "execution_count": 705,
   "id": "94d58eaf-de82-4a17-b85b-d3c79d23991a",
   "metadata": {},
   "outputs": [
    {
     "name": "stdout",
     "output_type": "stream",
     "text": [
      "[ 1  2  3  4  5  6  7  8  9 10 11 12]\n"
     ]
    }
   ],
   "source": [
    "print(a)"
   ]
  },
  {
   "cell_type": "code",
   "execution_count": 706,
   "id": "397ff8f7-5bfb-40bb-9b2f-ce2d1d5a24ce",
   "metadata": {},
   "outputs": [],
   "source": [
    "y = a.view()"
   ]
  },
  {
   "cell_type": "code",
   "execution_count": 707,
   "id": "e0eb9466-ba13-441c-8e28-57e1b7b3ab05",
   "metadata": {},
   "outputs": [
    {
     "name": "stdout",
     "output_type": "stream",
     "text": [
      "[ 1  2  3  4  5  6  7  8  9 10 11 12]\n"
     ]
    }
   ],
   "source": [
    "print(y)"
   ]
  },
  {
   "cell_type": "code",
   "execution_count": 708,
   "id": "c15b8460-e1ca-4f7c-bc90-d54ddec5f31f",
   "metadata": {},
   "outputs": [],
   "source": [
    "y[4:10]=99"
   ]
  },
  {
   "cell_type": "code",
   "execution_count": 709,
   "id": "760ad633-053c-404f-b437-f3bac7470bc1",
   "metadata": {},
   "outputs": [
    {
     "name": "stdout",
     "output_type": "stream",
     "text": [
      "[ 1  2  3  4 99 99 99 99 99 99 11 12]\n"
     ]
    }
   ],
   "source": [
    "print(y)"
   ]
  },
  {
   "cell_type": "code",
   "execution_count": 710,
   "id": "1c906371-1925-4813-bb3f-cc723ef23ac4",
   "metadata": {},
   "outputs": [
    {
     "name": "stdout",
     "output_type": "stream",
     "text": [
      "[ 1  2  3  4 99 99 99 99 99 99 11 12]\n"
     ]
    }
   ],
   "source": [
    "print(a)"
   ]
  },
  {
   "cell_type": "markdown",
   "id": "030d4edf-c076-4244-9079-d90b9ed80042",
   "metadata": {},
   "source": [
    "# Iterating Array's elements"
   ]
  },
  {
   "cell_type": "code",
   "execution_count": 712,
   "id": "496c9eaf-92c8-4fa0-83b1-8b6299b07c43",
   "metadata": {},
   "outputs": [
    {
     "name": "stdout",
     "output_type": "stream",
     "text": [
      "1\n",
      "2\n",
      "3\n",
      "4\n",
      "99\n",
      "99\n",
      "99\n",
      "99\n",
      "99\n",
      "99\n",
      "11\n",
      "12\n"
     ]
    }
   ],
   "source": [
    "for i in a :\n",
    "    print(i)"
   ]
  },
  {
   "cell_type": "code",
   "execution_count": 713,
   "id": "c9adc4eb-d98c-44b6-8cf8-ea58beab9a41",
   "metadata": {},
   "outputs": [
    {
     "name": "stdout",
     "output_type": "stream",
     "text": [
      "3\n",
      "4\n",
      "5\n",
      "6\n",
      "101\n",
      "101\n",
      "101\n",
      "101\n",
      "101\n",
      "101\n",
      "13\n",
      "14\n"
     ]
    }
   ],
   "source": [
    "for i in a:\n",
    "    print(i+2)"
   ]
  },
  {
   "cell_type": "markdown",
   "id": "ac6edeb6-432d-4622-9b74-94a3a1e412b8",
   "metadata": {},
   "source": [
    "# Iteration in 2-d array"
   ]
  },
  {
   "cell_type": "code",
   "execution_count": 715,
   "id": "129550f9-cf75-40c7-a913-210fad19dacb",
   "metadata": {},
   "outputs": [],
   "source": [
    "b = a.reshape(4,3)"
   ]
  },
  {
   "cell_type": "code",
   "execution_count": 716,
   "id": "226e37df-fde1-4003-84b2-8d523ebc1aea",
   "metadata": {},
   "outputs": [
    {
     "name": "stdout",
     "output_type": "stream",
     "text": [
      "[1 2 3]\n",
      "[ 4 99 99]\n",
      "[99 99 99]\n",
      "[99 11 12]\n"
     ]
    }
   ],
   "source": [
    "for i in b:\n",
    "    print(i)"
   ]
  },
  {
   "cell_type": "code",
   "execution_count": 717,
   "id": "a31b53cb-67b4-459a-8f3f-54e959fd261f",
   "metadata": {},
   "outputs": [],
   "source": [
    "a = np.array([1,2,3,4,5])"
   ]
  },
  {
   "cell_type": "code",
   "execution_count": 718,
   "id": "cec8ed7a-3497-4c7d-9e6b-e3c4cf82bbd0",
   "metadata": {},
   "outputs": [],
   "source": [
    "b = np.array([6,7,8,9,10])"
   ]
  },
  {
   "cell_type": "code",
   "execution_count": 719,
   "id": "8b0ce811-9fc7-4dd0-996c-06931478587f",
   "metadata": {},
   "outputs": [],
   "source": [
    "c= np.concatenate((a,b) , axis=0)"
   ]
  },
  {
   "cell_type": "code",
   "execution_count": 720,
   "id": "b3e7d932-9fa8-4db6-87c0-8e001ebf3375",
   "metadata": {},
   "outputs": [
    {
     "name": "stdout",
     "output_type": "stream",
     "text": [
      "[ 1  2  3  4  5  6  7  8  9 10]\n"
     ]
    }
   ],
   "source": [
    "print(c)"
   ]
  },
  {
   "cell_type": "markdown",
   "id": "25563cec-55b4-4980-be70-a5fdb229e331",
   "metadata": {},
   "source": [
    "# joining 2-d array "
   ]
  },
  {
   "cell_type": "code",
   "execution_count": 722,
   "id": "cc8312c0-061d-4e7f-8d26-624203293667",
   "metadata": {},
   "outputs": [],
   "source": [
    "x= np.array([[1,2,3],[4,5,6]])"
   ]
  },
  {
   "cell_type": "code",
   "execution_count": 723,
   "id": "ee4a3bd9-4fe5-4031-addc-a8b30afe21b7",
   "metadata": {},
   "outputs": [],
   "source": [
    "y = np.array([[7,8,9],[10,11,12]])"
   ]
  },
  {
   "cell_type": "code",
   "execution_count": 724,
   "id": "03cdcd31-b27e-4e06-8818-664497558dda",
   "metadata": {},
   "outputs": [],
   "source": [
    "z= np.concatenate((x,y),axis=0)"
   ]
  },
  {
   "cell_type": "code",
   "execution_count": 725,
   "id": "c2d791c9-7875-47d8-bab9-40a9a9854f25",
   "metadata": {},
   "outputs": [
    {
     "name": "stdout",
     "output_type": "stream",
     "text": [
      "[[ 1  2  3]\n",
      " [ 4  5  6]\n",
      " [ 7  8  9]\n",
      " [10 11 12]]\n"
     ]
    }
   ],
   "source": [
    "print(z)"
   ]
  },
  {
   "cell_type": "code",
   "execution_count": 726,
   "id": "db893d2b-5e22-4741-8f7a-ae772973bbc5",
   "metadata": {},
   "outputs": [],
   "source": [
    "w = np.concatenate((x,y), axis=1)"
   ]
  },
  {
   "cell_type": "code",
   "execution_count": 727,
   "id": "4c6b4b99-f629-4e86-8155-e011e840cbf9",
   "metadata": {},
   "outputs": [
    {
     "name": "stdout",
     "output_type": "stream",
     "text": [
      "[[ 1  2  3  7  8  9]\n",
      " [ 4  5  6 10 11 12]]\n"
     ]
    }
   ],
   "source": [
    "print(w)"
   ]
  },
  {
   "cell_type": "markdown",
   "id": "a3771555-cdf9-4832-91d4-dfd616307f0a",
   "metadata": {},
   "source": [
    "# axis= 0 --> rows, axis=1--> columns"
   ]
  },
  {
   "cell_type": "markdown",
   "id": "dc0db0d8-8a57-4a3e-b59d-123cdcbacc99",
   "metadata": {},
   "source": [
    "# sorting an array"
   ]
  },
  {
   "cell_type": "raw",
   "id": "41ee911c-808f-4e3c-a3e0-513a2366881b",
   "metadata": {},
   "source": [
    "arr = np.array([3,98,23,11,78,90,56,32,43])"
   ]
  },
  {
   "cell_type": "code",
   "execution_count": 733,
   "id": "85ec74c5-3282-40f4-9cab-8ed4525ed297",
   "metadata": {},
   "outputs": [],
   "source": [
    "arr2 = np.sort(arr)"
   ]
  },
  {
   "cell_type": "code",
   "execution_count": 735,
   "id": "f9532188-2620-4be0-b92e-3a62453fd4fb",
   "metadata": {},
   "outputs": [
    {
     "name": "stdout",
     "output_type": "stream",
     "text": [
      "[[[ 1 10 10]\n",
      "  [ 4 10 10]]\n",
      "\n",
      " [[ 7 10 10]\n",
      "  [10 10 10]]]\n"
     ]
    }
   ],
   "source": [
    "print(arr2)"
   ]
  },
  {
   "cell_type": "markdown",
   "id": "48c7aca9-6f40-4478-81ff-da202e929f29",
   "metadata": {},
   "source": [
    "# sorting 2-d array"
   ]
  },
  {
   "cell_type": "code",
   "execution_count": 753,
   "id": "4046ecf6-c644-41bf-a19a-404966dd18e7",
   "metadata": {},
   "outputs": [],
   "source": [
    "a = arr.reshape(3,4)"
   ]
  },
  {
   "cell_type": "code",
   "execution_count": 755,
   "id": "b1abdaf1-59d3-4e88-9104-4cc32191c420",
   "metadata": {},
   "outputs": [
    {
     "name": "stdout",
     "output_type": "stream",
     "text": [
      "[[ 1 10 10  4]\n",
      " [10 10  7 10]\n",
      " [10 10 10 10]]\n"
     ]
    }
   ],
   "source": [
    "print(a)"
   ]
  },
  {
   "cell_type": "code",
   "execution_count": 763,
   "id": "0c6dabc1-bfcc-4fd0-b3d9-07a109baceb8",
   "metadata": {},
   "outputs": [],
   "source": [
    "b = np.sort(a)"
   ]
  },
  {
   "cell_type": "code",
   "execution_count": 765,
   "id": "588384d8-c860-48fc-ad5d-d606f7b61f71",
   "metadata": {},
   "outputs": [
    {
     "name": "stdout",
     "output_type": "stream",
     "text": [
      "[[ 1  4 10 10]\n",
      " [ 7 10 10 10]\n",
      " [10 10 10 10]]\n"
     ]
    }
   ],
   "source": [
    "print(b)"
   ]
  },
  {
   "cell_type": "code",
   "execution_count": null,
   "id": "1c6bda1a-8c9c-4b06-8457-f406267ddff8",
   "metadata": {},
   "outputs": [],
   "source": []
  }
 ],
 "metadata": {
  "kernelspec": {
   "display_name": "Python 3 (ipykernel)",
   "language": "python",
   "name": "python3"
  },
  "language_info": {
   "codemirror_mode": {
    "name": "ipython",
    "version": 3
   },
   "file_extension": ".py",
   "mimetype": "text/x-python",
   "name": "python",
   "nbconvert_exporter": "python",
   "pygments_lexer": "ipython3",
   "version": "3.11.7"
  }
 },
 "nbformat": 4,
 "nbformat_minor": 5
}
