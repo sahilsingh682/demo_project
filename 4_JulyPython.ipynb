{
 "cells": [
  {
   "cell_type": "code",
   "execution_count": 6,
   "id": "2ce27634-f1a2-4530-ac21-6e420143365d",
   "metadata": {},
   "outputs": [],
   "source": [
    "#MERGING dATAFRAME\n",
    "# inner -- intersection\n",
    "# outer --Union\n",
    "# left\n",
    "# right\n",
    "# cross"
   ]
  },
  {
   "cell_type": "code",
   "execution_count": 15,
   "id": "6624af35-c686-4930-9dcc-d71f8713217b",
   "metadata": {},
   "outputs": [],
   "source": [
    "import pandas as pd\n",
    "import numpy as np"
   ]
  },
  {
   "cell_type": "code",
   "execution_count": 17,
   "id": "ebc1645b-b69c-48c3-ba40-5fd02187a2a7",
   "metadata": {},
   "outputs": [
    {
     "data": {
      "text/plain": [
       "{'emp_id': [1001, 1002, 1003, 1004],\n",
       " 'name': ['Kanika', 'Manvey', 'kajal', 'Priya'],\n",
       " 'age': [18, 19, 19, 20]}"
      ]
     },
     "execution_count": 17,
     "metadata": {},
     "output_type": "execute_result"
    }
   ],
   "source": [
    "dict1 = {\n",
    "    'emp_id':[1001,1002,1003,1004],\n",
    "    'name':['Kanika','Manvey','kajal','Priya'],\n",
    "    'age':[18,19,19,20]\n",
    "}\n",
    "dict1"
   ]
  },
  {
   "cell_type": "code",
   "execution_count": 19,
   "id": "f069940c-79cb-41d1-9242-a008f4283733",
   "metadata": {},
   "outputs": [
    {
     "data": {
      "text/html": [
       "<div>\n",
       "<style scoped>\n",
       "    .dataframe tbody tr th:only-of-type {\n",
       "        vertical-align: middle;\n",
       "    }\n",
       "\n",
       "    .dataframe tbody tr th {\n",
       "        vertical-align: top;\n",
       "    }\n",
       "\n",
       "    .dataframe thead th {\n",
       "        text-align: right;\n",
       "    }\n",
       "</style>\n",
       "<table border=\"1\" class=\"dataframe\">\n",
       "  <thead>\n",
       "    <tr style=\"text-align: right;\">\n",
       "      <th></th>\n",
       "      <th>emp_id</th>\n",
       "      <th>name</th>\n",
       "      <th>age</th>\n",
       "    </tr>\n",
       "  </thead>\n",
       "  <tbody>\n",
       "    <tr>\n",
       "      <th>0</th>\n",
       "      <td>1001</td>\n",
       "      <td>Kanika</td>\n",
       "      <td>18</td>\n",
       "    </tr>\n",
       "    <tr>\n",
       "      <th>1</th>\n",
       "      <td>1002</td>\n",
       "      <td>Manvey</td>\n",
       "      <td>19</td>\n",
       "    </tr>\n",
       "    <tr>\n",
       "      <th>2</th>\n",
       "      <td>1003</td>\n",
       "      <td>kajal</td>\n",
       "      <td>19</td>\n",
       "    </tr>\n",
       "    <tr>\n",
       "      <th>3</th>\n",
       "      <td>1004</td>\n",
       "      <td>Priya</td>\n",
       "      <td>20</td>\n",
       "    </tr>\n",
       "  </tbody>\n",
       "</table>\n",
       "</div>"
      ],
      "text/plain": [
       "   emp_id    name  age\n",
       "0    1001  Kanika   18\n",
       "1    1002  Manvey   19\n",
       "2    1003   kajal   19\n",
       "3    1004   Priya   20"
      ]
     },
     "execution_count": 19,
     "metadata": {},
     "output_type": "execute_result"
    }
   ],
   "source": [
    "df1= pd.DataFrame(dict1)\n",
    "df1"
   ]
  },
  {
   "cell_type": "code",
   "execution_count": 74,
   "id": "22b14812-b7d4-4034-bf18-8fc59927c189",
   "metadata": {},
   "outputs": [
    {
     "data": {
      "text/plain": [
       "{'emp_id': [1001, 1002, 1005, 1006],\n",
       " 'sal': [200000, 40000, 30000, 12000],\n",
       " 'address': ['Pune', 'Dubai', 'Chandigarh']}"
      ]
     },
     "execution_count": 74,
     "metadata": {},
     "output_type": "execute_result"
    }
   ],
   "source": [
    "dict2 ={\n",
    "    'emp_id':[1001,1002,1005,1006],\n",
    "    'sal':[200000,40000,30000,12000],\n",
    "    'address':['Pune','Dubai','Chandigarh']\n",
    "}\n",
    "dict2"
   ]
  },
  {
   "cell_type": "code",
   "execution_count": 76,
   "id": "94c85565-8e95-4401-9871-7ad75812c74c",
   "metadata": {},
   "outputs": [
    {
     "ename": "ValueError",
     "evalue": "All arrays must be of the same length",
     "output_type": "error",
     "traceback": [
      "\u001b[1;31m---------------------------------------------------------------------------\u001b[0m",
      "\u001b[1;31mValueError\u001b[0m                                Traceback (most recent call last)",
      "Cell \u001b[1;32mIn[76], line 1\u001b[0m\n\u001b[1;32m----> 1\u001b[0m df2 \u001b[38;5;241m=\u001b[39m pd\u001b[38;5;241m.\u001b[39mDataFrame(dict2)\n\u001b[0;32m      2\u001b[0m df2\n",
      "File \u001b[1;32m~\\anaconda3\\Lib\\site-packages\\pandas\\core\\frame.py:733\u001b[0m, in \u001b[0;36mDataFrame.__init__\u001b[1;34m(self, data, index, columns, dtype, copy)\u001b[0m\n\u001b[0;32m    727\u001b[0m     mgr \u001b[38;5;241m=\u001b[39m \u001b[38;5;28mself\u001b[39m\u001b[38;5;241m.\u001b[39m_init_mgr(\n\u001b[0;32m    728\u001b[0m         data, axes\u001b[38;5;241m=\u001b[39m{\u001b[38;5;124m\"\u001b[39m\u001b[38;5;124mindex\u001b[39m\u001b[38;5;124m\"\u001b[39m: index, \u001b[38;5;124m\"\u001b[39m\u001b[38;5;124mcolumns\u001b[39m\u001b[38;5;124m\"\u001b[39m: columns}, dtype\u001b[38;5;241m=\u001b[39mdtype, copy\u001b[38;5;241m=\u001b[39mcopy\n\u001b[0;32m    729\u001b[0m     )\n\u001b[0;32m    731\u001b[0m \u001b[38;5;28;01melif\u001b[39;00m \u001b[38;5;28misinstance\u001b[39m(data, \u001b[38;5;28mdict\u001b[39m):\n\u001b[0;32m    732\u001b[0m     \u001b[38;5;66;03m# GH#38939 de facto copy defaults to False only in non-dict cases\u001b[39;00m\n\u001b[1;32m--> 733\u001b[0m     mgr \u001b[38;5;241m=\u001b[39m dict_to_mgr(data, index, columns, dtype\u001b[38;5;241m=\u001b[39mdtype, copy\u001b[38;5;241m=\u001b[39mcopy, typ\u001b[38;5;241m=\u001b[39mmanager)\n\u001b[0;32m    734\u001b[0m \u001b[38;5;28;01melif\u001b[39;00m \u001b[38;5;28misinstance\u001b[39m(data, ma\u001b[38;5;241m.\u001b[39mMaskedArray):\n\u001b[0;32m    735\u001b[0m     \u001b[38;5;28;01mfrom\u001b[39;00m \u001b[38;5;21;01mnumpy\u001b[39;00m\u001b[38;5;21;01m.\u001b[39;00m\u001b[38;5;21;01mma\u001b[39;00m \u001b[38;5;28;01mimport\u001b[39;00m mrecords\n",
      "File \u001b[1;32m~\\anaconda3\\Lib\\site-packages\\pandas\\core\\internals\\construction.py:503\u001b[0m, in \u001b[0;36mdict_to_mgr\u001b[1;34m(data, index, columns, dtype, typ, copy)\u001b[0m\n\u001b[0;32m    499\u001b[0m     \u001b[38;5;28;01melse\u001b[39;00m:\n\u001b[0;32m    500\u001b[0m         \u001b[38;5;66;03m# dtype check to exclude e.g. range objects, scalars\u001b[39;00m\n\u001b[0;32m    501\u001b[0m         arrays \u001b[38;5;241m=\u001b[39m [x\u001b[38;5;241m.\u001b[39mcopy() \u001b[38;5;28;01mif\u001b[39;00m \u001b[38;5;28mhasattr\u001b[39m(x, \u001b[38;5;124m\"\u001b[39m\u001b[38;5;124mdtype\u001b[39m\u001b[38;5;124m\"\u001b[39m) \u001b[38;5;28;01melse\u001b[39;00m x \u001b[38;5;28;01mfor\u001b[39;00m x \u001b[38;5;129;01min\u001b[39;00m arrays]\n\u001b[1;32m--> 503\u001b[0m \u001b[38;5;28;01mreturn\u001b[39;00m arrays_to_mgr(arrays, columns, index, dtype\u001b[38;5;241m=\u001b[39mdtype, typ\u001b[38;5;241m=\u001b[39mtyp, consolidate\u001b[38;5;241m=\u001b[39mcopy)\n",
      "File \u001b[1;32m~\\anaconda3\\Lib\\site-packages\\pandas\\core\\internals\\construction.py:114\u001b[0m, in \u001b[0;36marrays_to_mgr\u001b[1;34m(arrays, columns, index, dtype, verify_integrity, typ, consolidate)\u001b[0m\n\u001b[0;32m    111\u001b[0m \u001b[38;5;28;01mif\u001b[39;00m verify_integrity:\n\u001b[0;32m    112\u001b[0m     \u001b[38;5;66;03m# figure out the index, if necessary\u001b[39;00m\n\u001b[0;32m    113\u001b[0m     \u001b[38;5;28;01mif\u001b[39;00m index \u001b[38;5;129;01mis\u001b[39;00m \u001b[38;5;28;01mNone\u001b[39;00m:\n\u001b[1;32m--> 114\u001b[0m         index \u001b[38;5;241m=\u001b[39m _extract_index(arrays)\n\u001b[0;32m    115\u001b[0m     \u001b[38;5;28;01melse\u001b[39;00m:\n\u001b[0;32m    116\u001b[0m         index \u001b[38;5;241m=\u001b[39m ensure_index(index)\n",
      "File \u001b[1;32m~\\anaconda3\\Lib\\site-packages\\pandas\\core\\internals\\construction.py:677\u001b[0m, in \u001b[0;36m_extract_index\u001b[1;34m(data)\u001b[0m\n\u001b[0;32m    675\u001b[0m lengths \u001b[38;5;241m=\u001b[39m \u001b[38;5;28mlist\u001b[39m(\u001b[38;5;28mset\u001b[39m(raw_lengths))\n\u001b[0;32m    676\u001b[0m \u001b[38;5;28;01mif\u001b[39;00m \u001b[38;5;28mlen\u001b[39m(lengths) \u001b[38;5;241m>\u001b[39m \u001b[38;5;241m1\u001b[39m:\n\u001b[1;32m--> 677\u001b[0m     \u001b[38;5;28;01mraise\u001b[39;00m \u001b[38;5;167;01mValueError\u001b[39;00m(\u001b[38;5;124m\"\u001b[39m\u001b[38;5;124mAll arrays must be of the same length\u001b[39m\u001b[38;5;124m\"\u001b[39m)\n\u001b[0;32m    679\u001b[0m \u001b[38;5;28;01mif\u001b[39;00m have_dicts:\n\u001b[0;32m    680\u001b[0m     \u001b[38;5;28;01mraise\u001b[39;00m \u001b[38;5;167;01mValueError\u001b[39;00m(\n\u001b[0;32m    681\u001b[0m         \u001b[38;5;124m\"\u001b[39m\u001b[38;5;124mMixing dicts with non-Series may lead to ambiguous ordering.\u001b[39m\u001b[38;5;124m\"\u001b[39m\n\u001b[0;32m    682\u001b[0m     )\n",
      "\u001b[1;31mValueError\u001b[0m: All arrays must be of the same length"
     ]
    }
   ],
   "source": [
    "df2 = pd.DataFrame(dict2)\n",
    "df2"
   ]
  },
  {
   "cell_type": "markdown",
   "id": "7da9a7c6-5b2e-4995-9e14-47f49e6555e1",
   "metadata": {},
   "source": [
    "# inner merge"
   ]
  },
  {
   "cell_type": "code",
   "execution_count": 26,
   "id": "892f7f91-a44b-498d-b5fa-cff3dcaffccb",
   "metadata": {},
   "outputs": [
    {
     "ename": "NameError",
     "evalue": "name 'df2' is not defined",
     "output_type": "error",
     "traceback": [
      "\u001b[1;31m---------------------------------------------------------------------------\u001b[0m",
      "\u001b[1;31mNameError\u001b[0m                                 Traceback (most recent call last)",
      "Cell \u001b[1;32mIn[26], line 1\u001b[0m\n\u001b[1;32m----> 1\u001b[0m pd\u001b[38;5;241m.\u001b[39mmerge(df1,df2, on\u001b[38;5;241m=\u001b[39m\u001b[38;5;124m'\u001b[39m\u001b[38;5;124memp_id\u001b[39m\u001b[38;5;124m'\u001b[39m)\n",
      "\u001b[1;31mNameError\u001b[0m: name 'df2' is not defined"
     ]
    }
   ],
   "source": [
    "pd.merge(df1,df2, on='emp_id')"
   ]
  },
  {
   "cell_type": "markdown",
   "id": "492c2b2c-778e-4ad2-80ef-fa4b6e6c6d9d",
   "metadata": {},
   "source": [
    "# outer merge"
   ]
  },
  {
   "cell_type": "code",
   "execution_count": 29,
   "id": "f82d8632-c126-4589-a3a7-2382e64c9118",
   "metadata": {},
   "outputs": [
    {
     "ename": "NameError",
     "evalue": "name 'df2' is not defined",
     "output_type": "error",
     "traceback": [
      "\u001b[1;31m---------------------------------------------------------------------------\u001b[0m",
      "\u001b[1;31mNameError\u001b[0m                                 Traceback (most recent call last)",
      "Cell \u001b[1;32mIn[29], line 1\u001b[0m\n\u001b[1;32m----> 1\u001b[0m pd\u001b[38;5;241m.\u001b[39mmerge(df1,df2, how\u001b[38;5;241m=\u001b[39m\u001b[38;5;124m'\u001b[39m\u001b[38;5;124mouter\u001b[39m\u001b[38;5;124m'\u001b[39m,on\u001b[38;5;241m=\u001b[39m\u001b[38;5;124m'\u001b[39m\u001b[38;5;124memp_id\u001b[39m\u001b[38;5;124m'\u001b[39m)\n",
      "\u001b[1;31mNameError\u001b[0m: name 'df2' is not defined"
     ]
    }
   ],
   "source": [
    "pd.merge(df1,df2, how='outer',on='emp_id')"
   ]
  },
  {
   "cell_type": "markdown",
   "id": "56719a18-ab78-40c9-b983-eb4b5e871c9b",
   "metadata": {},
   "source": [
    "# left merge"
   ]
  },
  {
   "cell_type": "code",
   "execution_count": 32,
   "id": "4acecf65-0414-4563-b49f-b4a2e472b648",
   "metadata": {},
   "outputs": [
    {
     "ename": "NameError",
     "evalue": "name 'df2' is not defined",
     "output_type": "error",
     "traceback": [
      "\u001b[1;31m---------------------------------------------------------------------------\u001b[0m",
      "\u001b[1;31mNameError\u001b[0m                                 Traceback (most recent call last)",
      "Cell \u001b[1;32mIn[32], line 1\u001b[0m\n\u001b[1;32m----> 1\u001b[0m pd\u001b[38;5;241m.\u001b[39mmerge(df1,df2, how\u001b[38;5;241m=\u001b[39m\u001b[38;5;124m'\u001b[39m\u001b[38;5;124mleft\u001b[39m\u001b[38;5;124m'\u001b[39m,on \u001b[38;5;241m=\u001b[39m\u001b[38;5;124m'\u001b[39m\u001b[38;5;124memp_id\u001b[39m\u001b[38;5;124m'\u001b[39m ,suffixes \u001b[38;5;241m=\u001b[39m (\u001b[38;5;124m'\u001b[39m\u001b[38;5;124m_x\u001b[39m\u001b[38;5;124m'\u001b[39m, \u001b[38;5;124m'\u001b[39m\u001b[38;5;124m_y\u001b[39m\u001b[38;5;124m'\u001b[39m))\n",
      "\u001b[1;31mNameError\u001b[0m: name 'df2' is not defined"
     ]
    }
   ],
   "source": [
    "pd.merge(df1,df2, how='left',on ='emp_id' ,suffixes = ('_x', '_y'))"
   ]
  },
  {
   "cell_type": "code",
   "execution_count": 34,
   "id": "232733e2-34c6-44db-b1dc-349cc1c2ff1f",
   "metadata": {},
   "outputs": [
    {
     "ename": "NameError",
     "evalue": "name 'df2' is not defined",
     "output_type": "error",
     "traceback": [
      "\u001b[1;31m---------------------------------------------------------------------------\u001b[0m",
      "\u001b[1;31mNameError\u001b[0m                                 Traceback (most recent call last)",
      "Cell \u001b[1;32mIn[34], line 1\u001b[0m\n\u001b[1;32m----> 1\u001b[0m pd\u001b[38;5;241m.\u001b[39mmerge(df1,df2,how\u001b[38;5;241m=\u001b[39m\u001b[38;5;124m'\u001b[39m\u001b[38;5;124mright\u001b[39m\u001b[38;5;124m'\u001b[39m,on\u001b[38;5;241m=\u001b[39m\u001b[38;5;124m'\u001b[39m\u001b[38;5;124memp_id\u001b[39m\u001b[38;5;124m'\u001b[39m, suffixes \u001b[38;5;241m=\u001b[39m(\u001b[38;5;124m\"\u001b[39m\u001b[38;5;124m_x\u001b[39m\u001b[38;5;124m\"\u001b[39m ,\u001b[38;5;124m\"\u001b[39m\u001b[38;5;124m_y\u001b[39m\u001b[38;5;124m\"\u001b[39m))\n",
      "\u001b[1;31mNameError\u001b[0m: name 'df2' is not defined"
     ]
    }
   ],
   "source": [
    "pd.merge(df1,df2,how='right',on='emp_id', suffixes =(\"_x\" ,\"_y\"))"
   ]
  },
  {
   "cell_type": "markdown",
   "id": "b4468db4-065d-403f-97a8-4397ac16b044",
   "metadata": {},
   "source": [
    "# right merge up"
   ]
  },
  {
   "cell_type": "markdown",
   "id": "26e1847b-fb85-4827-8ae2-bdd886acb9b6",
   "metadata": {},
   "source": [
    "# cross merge"
   ]
  },
  {
   "cell_type": "code",
   "execution_count": 38,
   "id": "93641c6c-7991-4c87-9883-be1b49f37c9b",
   "metadata": {},
   "outputs": [
    {
     "ename": "NameError",
     "evalue": "name 'df2' is not defined",
     "output_type": "error",
     "traceback": [
      "\u001b[1;31m---------------------------------------------------------------------------\u001b[0m",
      "\u001b[1;31mNameError\u001b[0m                                 Traceback (most recent call last)",
      "Cell \u001b[1;32mIn[38], line 1\u001b[0m\n\u001b[1;32m----> 1\u001b[0m pd\u001b[38;5;241m.\u001b[39mmerge(df1,df2, how\u001b[38;5;241m=\u001b[39m\u001b[38;5;124m'\u001b[39m\u001b[38;5;124mcross\u001b[39m\u001b[38;5;124m'\u001b[39m)\n",
      "\u001b[1;31mNameError\u001b[0m: name 'df2' is not defined"
     ]
    }
   ],
   "source": [
    "pd.merge(df1,df2, how='cross')"
   ]
  },
  {
   "cell_type": "code",
   "execution_count": null,
   "id": "4f071337-da4e-4924-adbb-398193eb4a8c",
   "metadata": {},
   "outputs": [],
   "source": []
  },
  {
   "cell_type": "code",
   "execution_count": 41,
   "id": "0921e105-91b0-4af5-8ca0-07c467844aa5",
   "metadata": {},
   "outputs": [],
   "source": [
    "import datetime as dt"
   ]
  },
  {
   "cell_type": "code",
   "execution_count": 43,
   "id": "97977ce2-0050-47a0-82c5-1f545626e29f",
   "metadata": {},
   "outputs": [],
   "source": [
    "today = dt.date(2024 , 7, 4)"
   ]
  },
  {
   "cell_type": "code",
   "execution_count": 45,
   "id": "30bbfe97-a30e-4758-af67-d5eab2eb4636",
   "metadata": {},
   "outputs": [
    {
     "data": {
      "text/plain": [
       "datetime.date(2024, 7, 4)"
      ]
     },
     "execution_count": 45,
     "metadata": {},
     "output_type": "execute_result"
    }
   ],
   "source": [
    "today"
   ]
  },
  {
   "cell_type": "code",
   "execution_count": 47,
   "id": "a9e73cdd-64e3-495d-a33e-6fb86d096d09",
   "metadata": {},
   "outputs": [
    {
     "data": {
      "text/plain": [
       "4"
      ]
     },
     "execution_count": 47,
     "metadata": {},
     "output_type": "execute_result"
    }
   ],
   "source": [
    "today.day"
   ]
  },
  {
   "cell_type": "code",
   "execution_count": 49,
   "id": "9fd9c0c4-11a1-4393-9758-8cd6baba2cae",
   "metadata": {},
   "outputs": [
    {
     "data": {
      "text/plain": [
       "7"
      ]
     },
     "execution_count": 49,
     "metadata": {},
     "output_type": "execute_result"
    }
   ],
   "source": [
    "today.month"
   ]
  },
  {
   "cell_type": "code",
   "execution_count": 51,
   "id": "4592d9e3-9265-4462-8801-781cb535f8b7",
   "metadata": {},
   "outputs": [
    {
     "data": {
      "text/plain": [
       "2024"
      ]
     },
     "execution_count": 51,
     "metadata": {},
     "output_type": "execute_result"
    }
   ],
   "source": [
    "today.year"
   ]
  },
  {
   "cell_type": "code",
   "execution_count": 53,
   "id": "097a2b72-12a3-4685-9af3-e88a8d22521d",
   "metadata": {},
   "outputs": [],
   "source": [
    "today = dt.datetime(2024,7,4,10,38,45)"
   ]
  },
  {
   "cell_type": "code",
   "execution_count": 55,
   "id": "9cf77f9e-440a-4697-abab-09abd14dd38b",
   "metadata": {},
   "outputs": [
    {
     "data": {
      "text/plain": [
       "datetime.datetime(2024, 7, 4, 10, 38, 45)"
      ]
     },
     "execution_count": 55,
     "metadata": {},
     "output_type": "execute_result"
    }
   ],
   "source": [
    "today"
   ]
  },
  {
   "cell_type": "code",
   "execution_count": 57,
   "id": "71b5efc6-c58b-4edc-80d5-93e9b02084e2",
   "metadata": {},
   "outputs": [
    {
     "data": {
      "text/plain": [
       "Timestamp('2024-07-04 10:41:30')"
      ]
     },
     "execution_count": 57,
     "metadata": {},
     "output_type": "execute_result"
    }
   ],
   "source": [
    "pd.Timestamp(\"2024/07/04 10:41:30\")"
   ]
  },
  {
   "cell_type": "code",
   "execution_count": 59,
   "id": "c44116fa-20c6-4507-b834-742d5d6b3a3f",
   "metadata": {},
   "outputs": [],
   "source": [
    "dateindex=pd.DatetimeIndex(['2024/07/04','2024/07/03','2024/07/02','2024/07/01'])"
   ]
  },
  {
   "cell_type": "code",
   "execution_count": 61,
   "id": "53bfa5dc-bfa4-4eaa-87c1-b4d79b19b05b",
   "metadata": {},
   "outputs": [],
   "source": [
    "temp=[35,37,38,39]"
   ]
  },
  {
   "cell_type": "code",
   "execution_count": 63,
   "id": "7fb0325c-ac79-41ff-a4e0-140e6973758d",
   "metadata": {},
   "outputs": [],
   "source": [
    "temp_day= pd.Series(data = dateindex, index = temp)"
   ]
  },
  {
   "cell_type": "code",
   "execution_count": 65,
   "id": "c8a9b2c1-e336-4155-8207-4195e50d7e6d",
   "metadata": {},
   "outputs": [
    {
     "name": "stdout",
     "output_type": "stream",
     "text": [
      "35   2024-07-04\n",
      "37   2024-07-03\n",
      "38   2024-07-02\n",
      "39   2024-07-01\n",
      "dtype: datetime64[ns]\n"
     ]
    }
   ],
   "source": [
    "print(temp_day)"
   ]
  },
  {
   "cell_type": "code",
   "execution_count": null,
   "id": "7bd166e2-a065-434f-9a25-14e52b2b6430",
   "metadata": {},
   "outputs": [],
   "source": []
  },
  {
   "cell_type": "code",
   "execution_count": 68,
   "id": "1e8ae49b-1b67-43b7-a9b2-0642e52aa95f",
   "metadata": {},
   "outputs": [
    {
     "name": "stderr",
     "output_type": "stream",
     "text": [
      "C:\\Users\\kanik\\AppData\\Local\\Temp\\ipykernel_11164\\3853082976.py:1: UserWarning: The argument 'infer_datetime_format' is deprecated and will be removed in a future version. A strict version of it is now the default, see https://pandas.pydata.org/pdeps/0004-consistent-to-datetime-parsing.html. You can safely remove this argument.\n",
      "  pd.to_datetime(['july 4 2024' ,'2024/07/4' ,'6th dec 2023' ,'today'],infer_datetime_format= True , errors = 'ignore')\n",
      "C:\\Users\\kanik\\AppData\\Local\\Temp\\ipykernel_11164\\3853082976.py:1: UserWarning: Could not infer format, so each element will be parsed individually, falling back to `dateutil`. To ensure parsing is consistent and as-expected, please specify a format.\n",
      "  pd.to_datetime(['july 4 2024' ,'2024/07/4' ,'6th dec 2023' ,'today'],infer_datetime_format= True , errors = 'ignore')\n"
     ]
    },
    {
     "data": {
      "text/plain": [
       "DatetimeIndex([       '2024-07-04 00:00:00',        '2024-07-04 00:00:00',\n",
       "                      '2023-12-06 00:00:00', '2024-07-04 11:14:18.021901'],\n",
       "              dtype='datetime64[ns]', freq=None)"
      ]
     },
     "execution_count": 68,
     "metadata": {},
     "output_type": "execute_result"
    }
   ],
   "source": [
    "pd.to_datetime(['july 4 2024' ,'2024/07/4' ,'6th dec 2023' ,'today'],infer_datetime_format= True , errors = 'ignore')"
   ]
  },
  {
   "cell_type": "code",
   "execution_count": 81,
   "id": "5b4287c6-1ce1-4515-a5c9-d7dd5063087a",
   "metadata": {},
   "outputs": [
    {
     "data": {
      "text/plain": [
       "DatetimeIndex(['1947-08-15', '1947-08-16', '1947-08-17', '1947-08-18',\n",
       "               '1947-08-19', '1947-08-20', '1947-08-21', '1947-08-22',\n",
       "               '1947-08-23', '1947-08-24',\n",
       "               ...\n",
       "               '2024-12-06', '2024-12-07', '2024-12-08', '2024-12-09',\n",
       "               '2024-12-10', '2024-12-11', '2024-12-12', '2024-12-13',\n",
       "               '2024-12-14', '2024-12-15'],\n",
       "              dtype='datetime64[ns]', length=28248, freq='D')"
      ]
     },
     "execution_count": 81,
     "metadata": {},
     "output_type": "execute_result"
    }
   ],
   "source": [
    "pd.date_range(start='1947/08/15', end='2024/12/15', freq='D')"
   ]
  },
  {
   "cell_type": "code",
   "execution_count": null,
   "id": "bf6d2516-3dbd-4ca4-bab7-8eeb0e6929b6",
   "metadata": {},
   "outputs": [],
   "source": [
    "pd.date_range(start='2024/07/04',e"
   ]
  },
  {
   "cell_type": "code",
   "execution_count": null,
   "id": "01f058c9-02ea-44ea-9e77-fd3a9f8bc3f3",
   "metadata": {},
   "outputs": [],
   "source": []
  },
  {
   "cell_type": "code",
   "execution_count": null,
   "id": "9a0e840e-4b32-45bb-8b51-2c465f0fbeb0",
   "metadata": {},
   "outputs": [],
   "source": []
  }
 ],
 "metadata": {
  "kernelspec": {
   "display_name": "Python 3 (ipykernel)",
   "language": "python",
   "name": "python3"
  },
  "language_info": {
   "codemirror_mode": {
    "name": "ipython",
    "version": 3
   },
   "file_extension": ".py",
   "mimetype": "text/x-python",
   "name": "python",
   "nbconvert_exporter": "python",
   "pygments_lexer": "ipython3",
   "version": "3.11.7"
  }
 },
 "nbformat": 4,
 "nbformat_minor": 5
}
