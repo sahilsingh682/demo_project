{
 "cells": [
  {
   "cell_type": "markdown",
   "id": "be0ce262-41fb-4ee7-bbbd-4a0879926d88",
   "metadata": {},
   "source": [
    "# Creating Array Using List"
   ]
  },
  {
   "cell_type": "code",
   "execution_count": 42,
   "id": "466834fd-986e-4142-88b9-5790d49351e2",
   "metadata": {},
   "outputs": [],
   "source": [
    "import numpy as np"
   ]
  },
  {
   "cell_type": "code",
   "execution_count": 48,
   "id": "bade2b1a-a291-4b28-996e-b3ff4da475bc",
   "metadata": {},
   "outputs": [],
   "source": [
    "arr = np.array([1,2,3,4,5])"
   ]
  },
  {
   "cell_type": "code",
   "execution_count": 50,
   "id": "3f81292b-aa6e-45b1-bf66-3dadda5fb154",
   "metadata": {},
   "outputs": [
    {
     "data": {
      "text/plain": [
       "array([1, 2, 3, 4, 5])"
      ]
     },
     "execution_count": 50,
     "metadata": {},
     "output_type": "execute_result"
    }
   ],
   "source": [
    "arr"
   ]
  },
  {
   "cell_type": "markdown",
   "id": "51f321cf-5aef-4d0a-b664-b7cb0db5b86b",
   "metadata": {},
   "source": [
    "# Creating Array Using Tuple"
   ]
  },
  {
   "cell_type": "code",
   "execution_count": 52,
   "id": "52f63986-7b33-4724-bc51-b78f9f269b44",
   "metadata": {},
   "outputs": [],
   "source": [
    "arr1 = np.array((1,2,3,4,5))"
   ]
  },
  {
   "cell_type": "code",
   "execution_count": 54,
   "id": "01415675-30ed-4362-a5b0-acaa9b9b418e",
   "metadata": {},
   "outputs": [
    {
     "data": {
      "text/plain": [
       "array([1, 2, 3, 4, 5])"
      ]
     },
     "execution_count": 54,
     "metadata": {},
     "output_type": "execute_result"
    }
   ],
   "source": [
    "arr1"
   ]
  },
  {
   "cell_type": "code",
   "execution_count": 56,
   "id": "a8e31dcf-b6a6-4815-a3c7-c2fb0749b475",
   "metadata": {},
   "outputs": [
    {
     "data": {
      "text/plain": [
       "(5,)"
      ]
     },
     "execution_count": 56,
     "metadata": {},
     "output_type": "execute_result"
    }
   ],
   "source": [
    "arr1.shape"
   ]
  },
  {
   "cell_type": "code",
   "execution_count": 58,
   "id": "b229b0c3-3b91-4761-a33c-b16d5532b47f",
   "metadata": {},
   "outputs": [
    {
     "data": {
      "text/plain": [
       "(5,)"
      ]
     },
     "execution_count": 58,
     "metadata": {},
     "output_type": "execute_result"
    }
   ],
   "source": [
    "arr.shape"
   ]
  },
  {
   "cell_type": "code",
   "execution_count": 60,
   "id": "445849bc-7a3e-425a-bf02-f0f23f35e5f0",
   "metadata": {},
   "outputs": [
    {
     "data": {
      "text/plain": [
       "numpy.ndarray"
      ]
     },
     "execution_count": 60,
     "metadata": {},
     "output_type": "execute_result"
    }
   ],
   "source": [
    "type(arr1)"
   ]
  },
  {
   "cell_type": "markdown",
   "id": "23f62458-c66c-46ec-9694-a4b04024defb",
   "metadata": {},
   "source": [
    "# Acessing Element of 1d array"
   ]
  },
  {
   "cell_type": "code",
   "execution_count": 63,
   "id": "6bc0ba2c-7696-43f1-a9be-7b0ce7e4adfb",
   "metadata": {},
   "outputs": [
    {
     "data": {
      "text/plain": [
       "1"
      ]
     },
     "execution_count": 63,
     "metadata": {},
     "output_type": "execute_result"
    }
   ],
   "source": [
    "arr[0]"
   ]
  },
  {
   "cell_type": "code",
   "execution_count": 65,
   "id": "2aaf891e-ccf0-418d-ad4f-e83fe84d374a",
   "metadata": {},
   "outputs": [
    {
     "data": {
      "text/plain": [
       "5"
      ]
     },
     "execution_count": 65,
     "metadata": {},
     "output_type": "execute_result"
    }
   ],
   "source": [
    "arr[-1]"
   ]
  },
  {
   "cell_type": "markdown",
   "id": "a5e183a9-fde7-4a61-8236-5d7e5c8eb8a6",
   "metadata": {},
   "source": [
    "# Slicing 1-d array"
   ]
  },
  {
   "cell_type": "code",
   "execution_count": 71,
   "id": "1e47ca4b-093e-414c-bc89-f516a18f86c3",
   "metadata": {},
   "outputs": [
    {
     "data": {
      "text/plain": [
       "array([1, 2, 3])"
      ]
     },
     "execution_count": 71,
     "metadata": {},
     "output_type": "execute_result"
    }
   ],
   "source": [
    "arr[0:3]"
   ]
  },
  {
   "cell_type": "code",
   "execution_count": 77,
   "id": "362c2d91-e558-4f06-a52d-7e5ef3a79a10",
   "metadata": {},
   "outputs": [
    {
     "data": {
      "text/plain": [
       "array([3, 4])"
      ]
     },
     "execution_count": 77,
     "metadata": {},
     "output_type": "execute_result"
    }
   ],
   "source": [
    "arr[-3:-1]"
   ]
  },
  {
   "cell_type": "code",
   "execution_count": 83,
   "id": "49dbef0d-9531-43a1-95d5-ad9f6eb88de9",
   "metadata": {},
   "outputs": [
    {
     "data": {
      "text/plain": [
       "array([1, 2, 3, 4, 5])"
      ]
     },
     "execution_count": 83,
     "metadata": {},
     "output_type": "execute_result"
    }
   ],
   "source": [
    "arr[:5]"
   ]
  },
  {
   "cell_type": "code",
   "execution_count": 85,
   "id": "5145d855-3b63-49aa-b6f0-bd92f8d8d70d",
   "metadata": {},
   "outputs": [
    {
     "data": {
      "text/plain": [
       "array([3, 4, 5])"
      ]
     },
     "execution_count": 85,
     "metadata": {},
     "output_type": "execute_result"
    }
   ],
   "source": [
    "arr[2:]"
   ]
  },
  {
   "cell_type": "code",
   "execution_count": 89,
   "id": "e8015bbe-039c-4b4a-a827-d8b4cabd3311",
   "metadata": {},
   "outputs": [],
   "source": [
    "marks = np.array([1,2,3,4,5,6,7,8,9,10])"
   ]
  },
  {
   "cell_type": "code",
   "execution_count": 91,
   "id": "f35d0fe8-6c02-469f-a65f-de4667adc061",
   "metadata": {},
   "outputs": [
    {
     "data": {
      "text/plain": [
       "array([1, 2, 3, 4, 5])"
      ]
     },
     "execution_count": 91,
     "metadata": {},
     "output_type": "execute_result"
    }
   ],
   "source": [
    "marks[:5]"
   ]
  },
  {
   "cell_type": "code",
   "execution_count": 93,
   "id": "213dc081-f1ad-4513-b6f7-31ab806a5dd3",
   "metadata": {},
   "outputs": [
    {
     "data": {
      "text/plain": [
       "array([ 6,  7,  8,  9, 10])"
      ]
     },
     "execution_count": 93,
     "metadata": {},
     "output_type": "execute_result"
    }
   ],
   "source": [
    "marks[5:]"
   ]
  },
  {
   "cell_type": "code",
   "execution_count": 95,
   "id": "1bbb2447-8548-43b1-ae17-ea709aa3f835",
   "metadata": {},
   "outputs": [
    {
     "data": {
      "text/plain": [
       "array([7, 8])"
      ]
     },
     "execution_count": 95,
     "metadata": {},
     "output_type": "execute_result"
    }
   ],
   "source": [
    "marks[-4:-2]"
   ]
  },
  {
   "cell_type": "markdown",
   "id": "9717796d-09f4-451d-9536-088051266fee",
   "metadata": {},
   "source": [
    "# Creating 2-d Array"
   ]
  },
  {
   "cell_type": "code",
   "execution_count": 106,
   "id": "c2129d10-43da-441d-96fa-0e5680a6f5d2",
   "metadata": {},
   "outputs": [],
   "source": [
    "array2 = np.array([[1,2,3,4],[5,6,7,8]])"
   ]
  },
  {
   "cell_type": "code",
   "execution_count": 108,
   "id": "62432cdc-a6c1-4586-9e52-291aafa0f3b7",
   "metadata": {},
   "outputs": [
    {
     "data": {
      "text/plain": [
       "array([[1, 2, 3, 4],\n",
       "       [5, 6, 7, 8]])"
      ]
     },
     "execution_count": 108,
     "metadata": {},
     "output_type": "execute_result"
    }
   ],
   "source": [
    "array2"
   ]
  },
  {
   "cell_type": "code",
   "execution_count": 110,
   "id": "a73dd896-2b0d-4c0b-9166-34b2710c7e4f",
   "metadata": {},
   "outputs": [
    {
     "data": {
      "text/plain": [
       "(2, 4)"
      ]
     },
     "execution_count": 110,
     "metadata": {},
     "output_type": "execute_result"
    }
   ],
   "source": [
    "array2.shape"
   ]
  },
  {
   "cell_type": "markdown",
   "id": "54c77dca-351f-434b-9702-8ad3667dfa19",
   "metadata": {},
   "source": [
    "# Creating 2-d using Tuple"
   ]
  },
  {
   "cell_type": "code",
   "execution_count": 113,
   "id": "1dba80db-bbed-4e53-9574-d9da86981156",
   "metadata": {},
   "outputs": [],
   "source": [
    "arr2 = np.array(((1,2,3),(4,5,6)))"
   ]
  },
  {
   "cell_type": "code",
   "execution_count": 115,
   "id": "61dd5d14-cf1e-417a-bfca-f27dff065a4f",
   "metadata": {},
   "outputs": [
    {
     "data": {
      "text/plain": [
       "array([[1, 2, 3],\n",
       "       [4, 5, 6]])"
      ]
     },
     "execution_count": 115,
     "metadata": {},
     "output_type": "execute_result"
    }
   ],
   "source": [
    "arr2"
   ]
  },
  {
   "cell_type": "code",
   "execution_count": 119,
   "id": "ea6577fa-6ea8-44ff-853b-e3b86a899b05",
   "metadata": {},
   "outputs": [
    {
     "data": {
      "text/plain": [
       "numpy.ndarray"
      ]
     },
     "execution_count": 119,
     "metadata": {},
     "output_type": "execute_result"
    }
   ],
   "source": [
    "type(array2)"
   ]
  },
  {
   "cell_type": "code",
   "execution_count": 121,
   "id": "2d366a93-6adc-4c00-b587-c0075aed23ba",
   "metadata": {},
   "outputs": [
    {
     "data": {
      "text/plain": [
       "array([[1, 2, 3, 4],\n",
       "       [5, 6, 7, 8]])"
      ]
     },
     "execution_count": 121,
     "metadata": {},
     "output_type": "execute_result"
    }
   ],
   "source": [
    "array2"
   ]
  },
  {
   "cell_type": "code",
   "execution_count": 131,
   "id": "67ee9511-3ed4-457f-8c21-f97267f24279",
   "metadata": {},
   "outputs": [
    {
     "data": {
      "text/plain": [
       "6"
      ]
     },
     "execution_count": 131,
     "metadata": {},
     "output_type": "execute_result"
    }
   ],
   "source": [
    "array2[1][1]"
   ]
  },
  {
   "cell_type": "code",
   "execution_count": 145,
   "id": "58c943fa-f519-43ea-816a-b421de97fd65",
   "metadata": {},
   "outputs": [
    {
     "data": {
      "text/plain": [
       "array([[2, 3]])"
      ]
     },
     "execution_count": 145,
     "metadata": {},
     "output_type": "execute_result"
    }
   ],
   "source": [
    "array2[0:1, 1:3]"
   ]
  },
  {
   "cell_type": "code",
   "execution_count": null,
   "id": "1b9eec86-215d-4ed5-beea-65b72bf08beb",
   "metadata": {},
   "outputs": [],
   "source": []
  },
  {
   "cell_type": "code",
   "execution_count": null,
   "id": "dcb28bb6-d4c5-4f2f-b682-ae2f0a3e56cb",
   "metadata": {},
   "outputs": [],
   "source": []
  },
  {
   "cell_type": "code",
   "execution_count": null,
   "id": "25ed3191-df62-41e3-b972-fb6beed6b6f6",
   "metadata": {},
   "outputs": [],
   "source": []
  }
 ],
 "metadata": {
  "kernelspec": {
   "display_name": "Python 3 (ipykernel)",
   "language": "python",
   "name": "python3"
  },
  "language_info": {
   "codemirror_mode": {
    "name": "ipython",
    "version": 3
   },
   "file_extension": ".py",
   "mimetype": "text/x-python",
   "name": "python",
   "nbconvert_exporter": "python",
   "pygments_lexer": "ipython3",
   "version": "3.11.7"
  }
 },
 "nbformat": 4,
 "nbformat_minor": 5
}
