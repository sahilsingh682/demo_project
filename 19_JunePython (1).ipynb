{
 "cells": [
  {
   "cell_type": "markdown",
   "id": "13cd9717-dad0-4067-a1fa-3c908287e9f7",
   "metadata": {},
   "source": [
    "# Function"
   ]
  },
  {
   "cell_type": "code",
   "execution_count": 2,
   "id": "565f98e7-1a78-40c7-b295-7d64e1218373",
   "metadata": {},
   "outputs": [],
   "source": [
    "# It is block of code that runs when it is called"
   ]
  },
  {
   "cell_type": "markdown",
   "id": "a5b3c0a7-ea79-409d-9645-6fa4f359946c",
   "metadata": {},
   "source": [
    "# defining a function"
   ]
  },
  {
   "cell_type": "code",
   "execution_count": 5,
   "id": "8bf12370-f1f6-47ce-9c4a-8ec63f333724",
   "metadata": {},
   "outputs": [
    {
     "name": "stdout",
     "output_type": "stream",
     "text": [
      "Hello World!\n"
     ]
    }
   ],
   "source": [
    "def hello_world():\n",
    "    print(\"Hello World!\")\n",
    "hello_world()"
   ]
  },
  {
   "cell_type": "code",
   "execution_count": 11,
   "id": "51fcdcab-2dc1-406d-b2a4-cb24e2ccfae6",
   "metadata": {},
   "outputs": [
    {
     "name": "stdout",
     "output_type": "stream",
     "text": [
      "Hi! Kanika how are you?\n"
     ]
    }
   ],
   "source": [
    "def hello(name):\n",
    "    print(f\"Hi! {name} how are you?\")\n",
    "hello('Kanika')"
   ]
  },
  {
   "cell_type": "markdown",
   "id": "256c4cd9-984e-4ba3-8c39-50017e48dced",
   "metadata": {},
   "source": [
    "# Convert your Name(or any string) into Title case"
   ]
  },
  {
   "cell_type": "code",
   "execution_count": 25,
   "id": "03b6e4d2-9e70-44f0-b212-1ce0892e8383",
   "metadata": {},
   "outputs": [
    {
     "name": "stdin",
     "output_type": "stream",
     "text": [
      "Enter your first name kanika\n",
      "Enter your last name budhiraja\n"
     ]
    },
    {
     "name": "stdout",
     "output_type": "stream",
     "text": [
      "Kanika Budhiraja\n"
     ]
    }
   ],
   "source": [
    "def formatted_name(fname,lname):\n",
    "    formatted_fname=fname.title()\n",
    "    formatted_lname=lname.title()\n",
    "    print(formatted_fname, formatted_lname)\n",
    "first_name=input(\"Enter your first name\")\n",
    "last_name= input(\"Enter your last name\")\n",
    "formatted_name(first_name,last_name)"
   ]
  },
  {
   "cell_type": "markdown",
   "id": "cd4aa55d-fcdb-488a-9c2c-4bc1a851addd",
   "metadata": {},
   "source": [
    "# Arbitrary Argument * when you don't know How many argument will be passed by user at the time of function calling"
   ]
  },
  {
   "cell_type": "code",
   "execution_count": 29,
   "id": "af377364-f16f-4b10-9f5a-8ad8c3261223",
   "metadata": {},
   "outputs": [
    {
     "name": "stdout",
     "output_type": "stream",
     "text": [
      " Your eldest Kid is kanika\n"
     ]
    }
   ],
   "source": [
    "def family(*kids):\n",
    "    print(f\" Your eldest Kid is {kids[0]}\")\n",
    "family('kanika','Samarth','Kannu')"
   ]
  },
  {
   "cell_type": "code",
   "execution_count": 37,
   "id": "03fdbd02-d644-4f18-851d-6523026ef32e",
   "metadata": {},
   "outputs": [
    {
     "name": "stdout",
     "output_type": "stream",
     "text": [
      "Your first no is 7 and second no is 11 and addition is 18\n"
     ]
    }
   ],
   "source": [
    "def add(n1,n2):\n",
    "    print(f\"Your first no is {n1} and second no is {n2} and addition is {n1+n2}\")\n",
    "add(7,11)"
   ]
  },
  {
   "cell_type": "markdown",
   "id": "4cc111a4-b9c8-44e8-8814-5d34b6743e59",
   "metadata": {},
   "source": [
    "# Lambda function() --> It is an anonymous function which can have any number of argumnets but can have a single expression"
   ]
  },
  {
   "cell_type": "code",
   "execution_count": 44,
   "id": "aee87acd-c2fa-4cfc-97bc-a3bf7968b272",
   "metadata": {},
   "outputs": [
    {
     "name": "stdout",
     "output_type": "stream",
     "text": [
      "15\n"
     ]
    }
   ],
   "source": [
    "add = lambda x,y:x+y\n",
    "print(add(5,10))"
   ]
  },
  {
   "cell_type": "code",
   "execution_count": 46,
   "id": "65cc8fcb-3f9f-4b82-8aa4-2ee688a81a0d",
   "metadata": {},
   "outputs": [
    {
     "name": "stdout",
     "output_type": "stream",
     "text": [
      "30\n"
     ]
    }
   ],
   "source": [
    "add = lambda x,y,z:x+y+z\n",
    "print(add(5,10,15))"
   ]
  },
  {
   "cell_type": "code",
   "execution_count": 52,
   "id": "675c4f56-4237-4994-8da2-a9099a551671",
   "metadata": {},
   "outputs": [
    {
     "ename": "NameError",
     "evalue": "name 'fname' is not defined",
     "output_type": "error",
     "traceback": [
      "\u001b[1;31m---------------------------------------------------------------------------\u001b[0m",
      "\u001b[1;31mNameError\u001b[0m                                 Traceback (most recent call last)",
      "Cell \u001b[1;32mIn[52], line 5\u001b[0m\n\u001b[0;32m      3\u001b[0m     l_name\u001b[38;5;241m=\u001b[39mlname\u001b[38;5;241m.\u001b[39mtitle()\n\u001b[0;32m      4\u001b[0m     \u001b[38;5;28mprint\u001b[39m(f_name,l_name)\n\u001b[1;32m----> 5\u001b[0m fname\u001b[38;5;241m+\u001b[39m\u001b[38;5;28minput\u001b[39m(\u001b[38;5;124m\"\u001b[39m\u001b[38;5;124mEnter your first name\u001b[39m\u001b[38;5;124m\"\u001b[39m)\n\u001b[0;32m      6\u001b[0m lname\u001b[38;5;241m+\u001b[39m\u001b[38;5;28minput\u001b[39m(\u001b[38;5;124m\"\u001b[39m\u001b[38;5;124mEnter yout last name\u001b[39m\u001b[38;5;124m\"\u001b[39m)\n\u001b[0;32m      7\u001b[0m full_name(fname,lname)\n",
      "\u001b[1;31mNameError\u001b[0m: name 'fname' is not defined"
     ]
    }
   ],
   "source": [
    "def full_name(fname,lname):\n",
    "    f_name=fname.title()\n",
    "    l_name=lname.title()\n",
    "    print(f_name,l_name)\n",
    "fname+input(\"Enter your first name\")\n",
    "lname+input(\"Enter yout last name\")\n",
    "full_name(fname,lname)"
   ]
  },
  {
   "cell_type": "code",
   "execution_count": 58,
   "id": "8b0a524c-f6f1-471d-a2c7-70ac40231bf0",
   "metadata": {},
   "outputs": [
    {
     "name": "stdout",
     "output_type": "stream",
     "text": [
      "Mony Jhon Raj\n"
     ]
    }
   ],
   "source": [
    "def family(child1,child2,child3):\n",
    "    print(child1,child2,child3)\n",
    "family(child3=\"Raj\", child2=\"Jhon\",child1=\"Mony\")"
   ]
  },
  {
   "cell_type": "markdown",
   "id": "2eb45133-b647-4d95-86ef-4fa1cc7da76f",
   "metadata": {},
   "source": [
    "# default parameters --> It is used to pass a default argument if user forget to pass argument\n"
   ]
  },
  {
   "cell_type": "code",
   "execution_count": 70,
   "id": "3cb0ee66-0f79-4b6c-bf2e-641329063f71",
   "metadata": {},
   "outputs": [
    {
     "name": "stdout",
     "output_type": "stream",
     "text": [
      "my country name is :India\n",
      "my country name is :Brazil\n",
      "my country name is :England\n"
     ]
    }
   ],
   "source": [
    "def my_country(name = \"India\"):\n",
    "               print( f\"my country name is :{name}\")\n",
    "my_country()\n",
    "my_country(\"Brazil\")\n",
    "my_country(\"England\")"
   ]
  },
  {
   "cell_type": "markdown",
   "id": "528f340d-454c-43f4-ab47-9b29b4dda74c",
   "metadata": {},
   "source": [
    "# Return"
   ]
  },
  {
   "cell_type": "code",
   "execution_count": 74,
   "id": "37d2d1f2-1e17-439c-981e-904dd639b21d",
   "metadata": {},
   "outputs": [
    {
     "name": "stdout",
     "output_type": "stream",
     "text": [
      "15\n"
     ]
    }
   ],
   "source": [
    "def add(x,y):\n",
    "    return x+y\n",
    "result = add(5,10)\n",
    "print(result)"
   ]
  },
  {
   "cell_type": "code",
   "execution_count": null,
   "id": "38982598-5be2-4718-9d52-2546bacbd092",
   "metadata": {},
   "outputs": [],
   "source": []
  }
 ],
 "metadata": {
  "kernelspec": {
   "display_name": "Python 3 (ipykernel)",
   "language": "python",
   "name": "python3"
  },
  "language_info": {
   "codemirror_mode": {
    "name": "ipython",
    "version": 3
   },
   "file_extension": ".py",
   "mimetype": "text/x-python",
   "name": "python",
   "nbconvert_exporter": "python",
   "pygments_lexer": "ipython3",
   "version": "3.11.7"
  }
 },
 "nbformat": 4,
 "nbformat_minor": 5
}
