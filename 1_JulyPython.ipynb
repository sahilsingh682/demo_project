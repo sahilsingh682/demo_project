{
 "cells": [
  {
   "cell_type": "markdown",
   "id": "36e007db-b150-4765-96b1-063a1dea9d0f",
   "metadata": {},
   "source": [
    "# Make a dataframe. Shuffle teh data values. Slice columns maths,phy,chem using loc. Find the mean of tjree columns. Filter the name of students having mean og PCM >= 60"
   ]
  },
  {
   "cell_type": "code",
   "execution_count": 8,
   "id": "b8bba016-f319-4a78-a87c-2994df436a58",
   "metadata": {},
   "outputs": [],
   "source": [
    "import pandas as pd\n",
    "import numpy as np\n",
    "import random"
   ]
  },
  {
   "cell_type": "code",
   "execution_count": 20,
   "id": "c2005983-10cb-45bf-b2ba-65e72c968a2a",
   "metadata": {},
   "outputs": [
    {
     "name": "stdout",
     "output_type": "stream",
     "text": [
      "[[ 68  89  80  70  53]\n",
      " [ 60  49  45  66  72]\n",
      " [ 62  58  94  97  65]\n",
      " [ 41  96  75  99  79]\n",
      " [ 54  50  82  92  74]\n",
      " [ 46  56  98  63  61]\n",
      " [ 86  55  43  93  83]\n",
      " [ 42  59  48  84  81]\n",
      " [ 85  47  71 100  78]\n",
      " [ 91  88  44  87  73]\n",
      " [ 51  76  77  57  90]\n",
      " [ 95  52  67  64  69]]\n"
     ]
    }
   ],
   "source": [
    "mark = np.arange(41,101)\n",
    "random.shuffle(mark)\n",
    "mark= mark.reshape(12,5)\n",
    "print(mark)"
   ]
  },
  {
   "cell_type": "code",
   "execution_count": 22,
   "id": "978fde8d-5c52-4d78-956c-2fb909f508c7",
   "metadata": {},
   "outputs": [
    {
     "name": "stdout",
     "output_type": "stream",
     "text": [
      "[[ 68  89  80  70  53]\n",
      " [ 60  49  45  66  72]\n",
      " [ 62  58  94  97  65]\n",
      " [ 41  96  75  99  79]\n",
      " [ 54  50  82  92  74]\n",
      " [ 46  56  98  63  61]\n",
      " [ 86  55  43  93  83]\n",
      " [ 42  59  48  84  81]\n",
      " [ 85  47  71 100  78]\n",
      " [ 91  88  44  87  73]\n",
      " [ 51  76  77  57  90]\n",
      " [ 95  52  67  64  69]]\n"
     ]
    }
   ],
   "source": [
    "print(mark)"
   ]
  },
  {
   "cell_type": "code",
   "execution_count": 24,
   "id": "063f58f5-1fa1-4a6f-a904-36f5db329515",
   "metadata": {},
   "outputs": [],
   "source": [
    "names = ['a','b','c','d','e','f','g','h','i','j','k','l']\n",
    "subject=['hindi','english','maths','physics','chemistry']"
   ]
  },
  {
   "cell_type": "code",
   "execution_count": 26,
   "id": "929ed68a-1619-4c98-b036-cf44e386f644",
   "metadata": {},
   "outputs": [],
   "source": [
    "grade= pd.DataFrame(data=mark , index=names , columns=subject)"
   ]
  },
  {
   "cell_type": "code",
   "execution_count": 28,
   "id": "204d2ecd-c306-4f3a-bad6-e87b85455ba1",
   "metadata": {},
   "outputs": [
    {
     "data": {
      "text/html": [
       "<div>\n",
       "<style scoped>\n",
       "    .dataframe tbody tr th:only-of-type {\n",
       "        vertical-align: middle;\n",
       "    }\n",
       "\n",
       "    .dataframe tbody tr th {\n",
       "        vertical-align: top;\n",
       "    }\n",
       "\n",
       "    .dataframe thead th {\n",
       "        text-align: right;\n",
       "    }\n",
       "</style>\n",
       "<table border=\"1\" class=\"dataframe\">\n",
       "  <thead>\n",
       "    <tr style=\"text-align: right;\">\n",
       "      <th></th>\n",
       "      <th>hindi</th>\n",
       "      <th>english</th>\n",
       "      <th>maths</th>\n",
       "      <th>physics</th>\n",
       "      <th>chemistry</th>\n",
       "    </tr>\n",
       "  </thead>\n",
       "  <tbody>\n",
       "    <tr>\n",
       "      <th>a</th>\n",
       "      <td>68</td>\n",
       "      <td>89</td>\n",
       "      <td>80</td>\n",
       "      <td>70</td>\n",
       "      <td>53</td>\n",
       "    </tr>\n",
       "    <tr>\n",
       "      <th>b</th>\n",
       "      <td>60</td>\n",
       "      <td>49</td>\n",
       "      <td>45</td>\n",
       "      <td>66</td>\n",
       "      <td>72</td>\n",
       "    </tr>\n",
       "    <tr>\n",
       "      <th>c</th>\n",
       "      <td>62</td>\n",
       "      <td>58</td>\n",
       "      <td>94</td>\n",
       "      <td>97</td>\n",
       "      <td>65</td>\n",
       "    </tr>\n",
       "    <tr>\n",
       "      <th>d</th>\n",
       "      <td>41</td>\n",
       "      <td>96</td>\n",
       "      <td>75</td>\n",
       "      <td>99</td>\n",
       "      <td>79</td>\n",
       "    </tr>\n",
       "    <tr>\n",
       "      <th>e</th>\n",
       "      <td>54</td>\n",
       "      <td>50</td>\n",
       "      <td>82</td>\n",
       "      <td>92</td>\n",
       "      <td>74</td>\n",
       "    </tr>\n",
       "    <tr>\n",
       "      <th>f</th>\n",
       "      <td>46</td>\n",
       "      <td>56</td>\n",
       "      <td>98</td>\n",
       "      <td>63</td>\n",
       "      <td>61</td>\n",
       "    </tr>\n",
       "    <tr>\n",
       "      <th>g</th>\n",
       "      <td>86</td>\n",
       "      <td>55</td>\n",
       "      <td>43</td>\n",
       "      <td>93</td>\n",
       "      <td>83</td>\n",
       "    </tr>\n",
       "    <tr>\n",
       "      <th>h</th>\n",
       "      <td>42</td>\n",
       "      <td>59</td>\n",
       "      <td>48</td>\n",
       "      <td>84</td>\n",
       "      <td>81</td>\n",
       "    </tr>\n",
       "    <tr>\n",
       "      <th>i</th>\n",
       "      <td>85</td>\n",
       "      <td>47</td>\n",
       "      <td>71</td>\n",
       "      <td>100</td>\n",
       "      <td>78</td>\n",
       "    </tr>\n",
       "    <tr>\n",
       "      <th>j</th>\n",
       "      <td>91</td>\n",
       "      <td>88</td>\n",
       "      <td>44</td>\n",
       "      <td>87</td>\n",
       "      <td>73</td>\n",
       "    </tr>\n",
       "    <tr>\n",
       "      <th>k</th>\n",
       "      <td>51</td>\n",
       "      <td>76</td>\n",
       "      <td>77</td>\n",
       "      <td>57</td>\n",
       "      <td>90</td>\n",
       "    </tr>\n",
       "    <tr>\n",
       "      <th>l</th>\n",
       "      <td>95</td>\n",
       "      <td>52</td>\n",
       "      <td>67</td>\n",
       "      <td>64</td>\n",
       "      <td>69</td>\n",
       "    </tr>\n",
       "  </tbody>\n",
       "</table>\n",
       "</div>"
      ],
      "text/plain": [
       "   hindi  english  maths  physics  chemistry\n",
       "a     68       89     80       70         53\n",
       "b     60       49     45       66         72\n",
       "c     62       58     94       97         65\n",
       "d     41       96     75       99         79\n",
       "e     54       50     82       92         74\n",
       "f     46       56     98       63         61\n",
       "g     86       55     43       93         83\n",
       "h     42       59     48       84         81\n",
       "i     85       47     71      100         78\n",
       "j     91       88     44       87         73\n",
       "k     51       76     77       57         90\n",
       "l     95       52     67       64         69"
      ]
     },
     "execution_count": 28,
     "metadata": {},
     "output_type": "execute_result"
    }
   ],
   "source": [
    "grade"
   ]
  },
  {
   "cell_type": "code",
   "execution_count": null,
   "id": "cfe5005f-fd4c-4d70-a07c-dc853ee14f3a",
   "metadata": {},
   "outputs": [],
   "source": []
  }
 ],
 "metadata": {
  "kernelspec": {
   "display_name": "Python 3 (ipykernel)",
   "language": "python",
   "name": "python3"
  },
  "language_info": {
   "codemirror_mode": {
    "name": "ipython",
    "version": 3
   },
   "file_extension": ".py",
   "mimetype": "text/x-python",
   "name": "python",
   "nbconvert_exporter": "python",
   "pygments_lexer": "ipython3",
   "version": "3.11.7"
  }
 },
 "nbformat": 4,
 "nbformat_minor": 5
}
