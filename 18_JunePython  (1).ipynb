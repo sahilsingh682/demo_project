{
 "cells": [
  {
   "cell_type": "markdown",
   "id": "96e1f9d3-9979-406f-9512-9a1e24148782",
   "metadata": {},
   "source": [
    "# SET"
   ]
  },
  {
   "cell_type": "code",
   "execution_count": null,
   "id": "139f1cae-d695-4b45-a263-47690392ff0b",
   "metadata": {},
   "outputs": [],
   "source": [
    "#"
   ]
  },
  {
   "cell_type": "code",
   "execution_count": null,
   "id": "b24cbedc-a144-4797-8b50-a809388916bc",
   "metadata": {},
   "outputs": [],
   "source": []
  },
  {
   "cell_type": "code",
   "execution_count": null,
   "id": "0b8c5084-2a07-4852-9248-06c88c821660",
   "metadata": {},
   "outputs": [],
   "source": []
  },
  {
   "cell_type": "code",
   "execution_count": 15,
   "id": "c906b9be-a8fc-48a0-9d4b-9536c9df0c59",
   "metadata": {},
   "outputs": [],
   "source": [
    "#creating a set\n",
    "company={'tcs','wripo','ibm','satyam','blackrock','flipcart','google'}"
   ]
  },
  {
   "cell_type": "code",
   "execution_count": 17,
   "id": "12e7cd5d-9672-4c50-b2e9-a2fb2296e5a2",
   "metadata": {},
   "outputs": [
    {
     "name": "stdout",
     "output_type": "stream",
     "text": [
      "{'google', 'flipcart', 'blackrock', 'ibm', 'wripo', 'tcs', 'satyam'}\n"
     ]
    }
   ],
   "source": [
    "print(company)"
   ]
  },
  {
   "cell_type": "code",
   "execution_count": 19,
   "id": "def720a3-8490-4cc8-8949-f1ff58332b56",
   "metadata": {},
   "outputs": [
    {
     "ename": "TypeError",
     "evalue": "'set' object does not support item assignment",
     "output_type": "error",
     "traceback": [
      "\u001b[1;31m---------------------------------------------------------------------------\u001b[0m",
      "\u001b[1;31mTypeError\u001b[0m                                 Traceback (most recent call last)",
      "Cell \u001b[1;32mIn[19], line 1\u001b[0m\n\u001b[1;32m----> 1\u001b[0m set1[\u001b[38;5;241m0\u001b[39m]\u001b[38;5;241m=\u001b[39m\u001b[38;5;124m'\u001b[39m\u001b[38;5;124mamazon\u001b[39m\u001b[38;5;124m'\u001b[39m\n",
      "\u001b[1;31mTypeError\u001b[0m: 'set' object does not support item assignment"
     ]
    }
   ],
   "source": [
    "set1[0]='amazon'"
   ]
  },
  {
   "cell_type": "code",
   "execution_count": 21,
   "id": "874bf9ac-efee-4fdc-a47a-0f378049cbc8",
   "metadata": {},
   "outputs": [
    {
     "data": {
      "text/plain": [
       "set"
      ]
     },
     "execution_count": 21,
     "metadata": {},
     "output_type": "execute_result"
    }
   ],
   "source": [
    "type(company)"
   ]
  },
  {
   "cell_type": "code",
   "execution_count": 23,
   "id": "36c48ca3-d0f1-4331-ab9b-10c642c44dab",
   "metadata": {},
   "outputs": [],
   "source": [
    "top_companies=set(('tcs','wripo','ibm','satyam','blackrock','flipcart','google'))"
   ]
  },
  {
   "cell_type": "code",
   "execution_count": 25,
   "id": "922935d8-b05b-47e8-9dff-615c44c275ca",
   "metadata": {},
   "outputs": [
    {
     "name": "stdout",
     "output_type": "stream",
     "text": [
      "{'google', 'satyam', 'flipcart', 'wripo', 'blackrock', 'ibm', 'tcs'}\n"
     ]
    }
   ],
   "source": [
    "print(top_companies)"
   ]
  },
  {
   "cell_type": "code",
   "execution_count": 29,
   "id": "d3b6a962-d9b2-405a-9a9e-69933eb75e73",
   "metadata": {},
   "outputs": [
    {
     "data": {
      "text/plain": [
       "set"
      ]
     },
     "execution_count": 29,
     "metadata": {},
     "output_type": "execute_result"
    }
   ],
   "source": [
    "type(top_companies)"
   ]
  },
  {
   "cell_type": "markdown",
   "id": "d50e17ac-f4cc-449c-987a-2fee38d2c850",
   "metadata": {},
   "source": [
    "# Adding data items in set"
   ]
  },
  {
   "cell_type": "code",
   "execution_count": 32,
   "id": "ae804627-4ad0-451e-a922-992b69ef7621",
   "metadata": {},
   "outputs": [],
   "source": [
    "company.add(\"google\")"
   ]
  },
  {
   "cell_type": "code",
   "execution_count": 34,
   "id": "44afe97b-9f6f-4a38-8744-5330c4cfdaf3",
   "metadata": {},
   "outputs": [
    {
     "name": "stdout",
     "output_type": "stream",
     "text": [
      "{'google', 'flipcart', 'blackrock', 'ibm', 'wripo', 'tcs', 'satyam'}\n"
     ]
    }
   ],
   "source": [
    "print(company)"
   ]
  },
  {
   "cell_type": "code",
   "execution_count": 37,
   "id": "03ead8a0-c1fd-488b-9fde-3642d98e99d6",
   "metadata": {},
   "outputs": [
    {
     "ename": "TypeError",
     "evalue": "set.add() takes exactly one argument (2 given)",
     "output_type": "error",
     "traceback": [
      "\u001b[1;31m---------------------------------------------------------------------------\u001b[0m",
      "\u001b[1;31mTypeError\u001b[0m                                 Traceback (most recent call last)",
      "Cell \u001b[1;32mIn[37], line 1\u001b[0m\n\u001b[1;32m----> 1\u001b[0m company\u001b[38;5;241m.\u001b[39madd(\u001b[38;5;124m\"\u001b[39m\u001b[38;5;124mfacebook\u001b[39m\u001b[38;5;124m\"\u001b[39m,\u001b[38;5;124m\"\u001b[39m\u001b[38;5;124minstagram\u001b[39m\u001b[38;5;124m\"\u001b[39m)\n",
      "\u001b[1;31mTypeError\u001b[0m: set.add() takes exactly one argument (2 given)"
     ]
    }
   ],
   "source": [
    "company.add(\"facebook\",\"instagram\")"
   ]
  },
  {
   "cell_type": "code",
   "execution_count": 39,
   "id": "65f3d744-0f36-4a96-a762-be7dbb4b232f",
   "metadata": {},
   "outputs": [],
   "source": [
    "rank = {1,2,3,4,5}"
   ]
  },
  {
   "cell_type": "code",
   "execution_count": 41,
   "id": "30825fab-454e-4643-b2db-120f58f48469",
   "metadata": {},
   "outputs": [],
   "source": [
    "company.update(rank)"
   ]
  },
  {
   "cell_type": "code",
   "execution_count": 43,
   "id": "82d728a3-4415-4289-91a1-c8df90cf81e7",
   "metadata": {},
   "outputs": [
    {
     "name": "stdout",
     "output_type": "stream",
     "text": [
      "{'google', 1, 2, 3, 4, 5, 'satyam', 'flipcart', 'wripo', 'blackrock', 'ibm', 'tcs'}\n"
     ]
    }
   ],
   "source": [
    "print(company)"
   ]
  },
  {
   "cell_type": "code",
   "execution_count": 45,
   "id": "420ea779-5913-421a-bda4-4be84ce143e1",
   "metadata": {},
   "outputs": [],
   "source": [
    "fruits = {'banana','apple'}\n",
    "seasional_fruits={'guvava','grapes','mango'}"
   ]
  },
  {
   "cell_type": "code",
   "execution_count": 51,
   "id": "886c2419-c211-4f7a-b354-57dfdfef3ab1",
   "metadata": {},
   "outputs": [],
   "source": [
    "fruits.update(seasional_fruits)"
   ]
  },
  {
   "cell_type": "code",
   "execution_count": 53,
   "id": "237f4436-5b2d-4922-a512-608ac1d66eff",
   "metadata": {},
   "outputs": [
    {
     "name": "stdout",
     "output_type": "stream",
     "text": [
      "{'banana', 'guvava', 'apple', 'mango', 'grapes'}\n"
     ]
    }
   ],
   "source": [
    "print(fruits)"
   ]
  },
  {
   "cell_type": "markdown",
   "id": "4d95a097-7fe0-4b9e-abed-48bf695fe50a",
   "metadata": {},
   "source": [
    "# Removing items from set"
   ]
  },
  {
   "cell_type": "code",
   "execution_count": 56,
   "id": "6f6a9409-98eb-451d-802b-dfd069810b91",
   "metadata": {},
   "outputs": [],
   "source": [
    "fruits.remove(\"grapes\")"
   ]
  },
  {
   "cell_type": "code",
   "execution_count": 58,
   "id": "2430ea33-abd9-4978-9179-1f901e513eaf",
   "metadata": {},
   "outputs": [
    {
     "data": {
      "text/plain": [
       "{'apple', 'banana', 'guvava', 'mango'}"
      ]
     },
     "execution_count": 58,
     "metadata": {},
     "output_type": "execute_result"
    }
   ],
   "source": [
    "fruits"
   ]
  },
  {
   "cell_type": "code",
   "execution_count": 60,
   "id": "1b1d0e91-0900-4d9e-a5c0-70c6c424b820",
   "metadata": {},
   "outputs": [
    {
     "ename": "KeyError",
     "evalue": "'papaya'",
     "output_type": "error",
     "traceback": [
      "\u001b[1;31m---------------------------------------------------------------------------\u001b[0m",
      "\u001b[1;31mKeyError\u001b[0m                                  Traceback (most recent call last)",
      "Cell \u001b[1;32mIn[60], line 1\u001b[0m\n\u001b[1;32m----> 1\u001b[0m fruits\u001b[38;5;241m.\u001b[39mremove(\u001b[38;5;124m\"\u001b[39m\u001b[38;5;124mpapaya\u001b[39m\u001b[38;5;124m\"\u001b[39m)\n",
      "\u001b[1;31mKeyError\u001b[0m: 'papaya'"
     ]
    }
   ],
   "source": [
    "fruits.remove(\"papaya\")"
   ]
  },
  {
   "cell_type": "code",
   "execution_count": 62,
   "id": "5b1350c9-d6bb-4692-a56f-bfe7675b65fe",
   "metadata": {},
   "outputs": [],
   "source": [
    "#discard() - is used to remove the data items from list if the given data items is not present in list them it will not display any error"
   ]
  },
  {
   "cell_type": "code",
   "execution_count": 64,
   "id": "7271597e-cd58-49f8-9ec4-1b4035946119",
   "metadata": {},
   "outputs": [],
   "source": [
    "fruits.discard(\"apple\")"
   ]
  },
  {
   "cell_type": "code",
   "execution_count": 66,
   "id": "571480cd-665d-4478-a566-6b6f7967c2d4",
   "metadata": {},
   "outputs": [
    {
     "data": {
      "text/plain": [
       "{'banana', 'guvava', 'mango'}"
      ]
     },
     "execution_count": 66,
     "metadata": {},
     "output_type": "execute_result"
    }
   ],
   "source": [
    "fruits"
   ]
  },
  {
   "cell_type": "code",
   "execution_count": 72,
   "id": "e8800486-e12a-4de3-9d05-611f34cfc8df",
   "metadata": {},
   "outputs": [],
   "source": [
    "fruits.discard(\"papaya\")"
   ]
  },
  {
   "cell_type": "code",
   "execution_count": 74,
   "id": "5532704e-e345-4689-b3b3-566a32591d8b",
   "metadata": {},
   "outputs": [
    {
     "data": {
      "text/plain": [
       "{'banana', 'guvava', 'mango'}"
      ]
     },
     "execution_count": 74,
     "metadata": {},
     "output_type": "execute_result"
    }
   ],
   "source": [
    "fruits"
   ]
  },
  {
   "cell_type": "code",
   "execution_count": 76,
   "id": "1f45ce34-3ab5-42ef-a68a-d22d2c3b3a98",
   "metadata": {},
   "outputs": [],
   "source": [
    "drop = fruits.pop()"
   ]
  },
  {
   "cell_type": "code",
   "execution_count": 78,
   "id": "f73ac61d-68fd-424f-8cd7-19c980c8ffd2",
   "metadata": {},
   "outputs": [
    {
     "data": {
      "text/plain": [
       "'banana'"
      ]
     },
     "execution_count": 78,
     "metadata": {},
     "output_type": "execute_result"
    }
   ],
   "source": [
    "drop"
   ]
  },
  {
   "cell_type": "code",
   "execution_count": 80,
   "id": "1fb4d06a-fb45-4163-8f4f-f7569ec02c7b",
   "metadata": {},
   "outputs": [
    {
     "data": {
      "text/plain": [
       "{'guvava', 'mango'}"
      ]
     },
     "execution_count": 80,
     "metadata": {},
     "output_type": "execute_result"
    }
   ],
   "source": [
    "fruits"
   ]
  },
  {
   "cell_type": "code",
   "execution_count": 84,
   "id": "de92f010-50fb-4127-86de-36e79e059058",
   "metadata": {},
   "outputs": [
    {
     "name": "stdout",
     "output_type": "stream",
     "text": [
      "{'google', 1, 2, 3, 4, 5, 'satyam', 'flipcart', 'wripo', 'blackrock', 'ibm', 'tcs'}\n"
     ]
    }
   ],
   "source": [
    "print(company)"
   ]
  },
  {
   "cell_type": "code",
   "execution_count": 90,
   "id": "85bc348a-af44-4213-b5f2-0fbe3eb2a3ee",
   "metadata": {},
   "outputs": [],
   "source": [
    "drop2 = company.pop()"
   ]
  },
  {
   "cell_type": "code",
   "execution_count": 92,
   "id": "ab9aec24-755f-45ee-955d-c6613e599c73",
   "metadata": {},
   "outputs": [
    {
     "data": {
      "text/plain": [
       "1"
      ]
     },
     "execution_count": 92,
     "metadata": {},
     "output_type": "execute_result"
    }
   ],
   "source": [
    "drop2"
   ]
  },
  {
   "cell_type": "code",
   "execution_count": 94,
   "id": "fbdf671d-6c18-4fa7-9c38-0c5d29709fec",
   "metadata": {},
   "outputs": [
    {
     "data": {
      "text/plain": [
       "{2, 3, 4, 5, 'blackrock', 'flipcart', 'ibm', 'satyam', 'tcs', 'wripo'}"
      ]
     },
     "execution_count": 94,
     "metadata": {},
     "output_type": "execute_result"
    }
   ],
   "source": [
    "company"
   ]
  },
  {
   "cell_type": "code",
   "execution_count": 96,
   "id": "1a293c15-2501-42d8-bade-72b8b44ed033",
   "metadata": {},
   "outputs": [],
   "source": [
    "drop3= company.pop()"
   ]
  },
  {
   "cell_type": "code",
   "execution_count": 98,
   "id": "9b75ba68-da86-4e8c-9c05-5d004c4ba306",
   "metadata": {},
   "outputs": [
    {
     "data": {
      "text/plain": [
       "2"
      ]
     },
     "execution_count": 98,
     "metadata": {},
     "output_type": "execute_result"
    }
   ],
   "source": [
    "drop3"
   ]
  },
  {
   "cell_type": "code",
   "execution_count": 100,
   "id": "8348f559-498f-4047-ba08-aa1768acfbfa",
   "metadata": {},
   "outputs": [
    {
     "data": {
      "text/plain": [
       "{3, 4, 5, 'blackrock', 'flipcart', 'ibm', 'satyam', 'tcs', 'wripo'}"
      ]
     },
     "execution_count": 100,
     "metadata": {},
     "output_type": "execute_result"
    }
   ],
   "source": [
    "company"
   ]
  },
  {
   "cell_type": "markdown",
   "id": "651bccd7-5035-4412-94f9-12b554a6a79c",
   "metadata": {},
   "source": [
    "# Join"
   ]
  },
  {
   "cell_type": "code",
   "execution_count": 103,
   "id": "816bf7eb-5be8-4149-bedc-56b0c5d279a3",
   "metadata": {},
   "outputs": [],
   "source": [
    "s1={1,2,3,4,5,6}\n",
    "s2={5,6,7,8}\n",
    "s3={8,9,10,11}"
   ]
  },
  {
   "cell_type": "markdown",
   "id": "a28ce7ed-95ac-4b29-ae79-fa690143943a",
   "metadata": {},
   "source": [
    "# Union"
   ]
  },
  {
   "cell_type": "code",
   "execution_count": 106,
   "id": "fe57d464-2a95-4f91-b06e-ba9a4a2b7451",
   "metadata": {},
   "outputs": [
    {
     "data": {
      "text/plain": [
       "{1, 2, 3, 4, 5, 6, 7, 8}"
      ]
     },
     "execution_count": 106,
     "metadata": {},
     "output_type": "execute_result"
    }
   ],
   "source": [
    "s1.union(s2)"
   ]
  },
  {
   "cell_type": "code",
   "execution_count": 108,
   "id": "90a5383f-32d2-4cb2-9ee7-222757aaa9a3",
   "metadata": {},
   "outputs": [
    {
     "data": {
      "text/plain": [
       "{1, 2, 3, 4, 5, 6, 8, 9, 10, 11}"
      ]
     },
     "execution_count": 108,
     "metadata": {},
     "output_type": "execute_result"
    }
   ],
   "source": [
    "s1.union(s2) and s1.union(s3)"
   ]
  },
  {
   "cell_type": "code",
   "execution_count": 110,
   "id": "3269cec9-8acc-4962-8120-adb0e477b15f",
   "metadata": {},
   "outputs": [
    {
     "data": {
      "text/plain": [
       "{1, 2, 3, 4, 5, 6, 7, 8, 9, 10, 11}"
      ]
     },
     "execution_count": 110,
     "metadata": {},
     "output_type": "execute_result"
    }
   ],
   "source": [
    "s1.union(s2,s3)"
   ]
  },
  {
   "cell_type": "code",
   "execution_count": 112,
   "id": "195381e1-5a8d-40a3-a8ed-7a70d246afe4",
   "metadata": {},
   "outputs": [],
   "source": [
    "set1 = {'nitin','prince','sahil'}\n",
    "set2 = {'uttam','vivek','jatin'}\n",
    "set3 = {'kanika','manvi','garima'}"
   ]
  },
  {
   "cell_type": "code",
   "execution_count": 114,
   "id": "2de56163-5554-4c4f-a435-06e63d8270c9",
   "metadata": {},
   "outputs": [],
   "source": [
    "name = set1 | set2 | set3"
   ]
  },
  {
   "cell_type": "code",
   "execution_count": 116,
   "id": "f98ecbb7-6da6-4d45-af9e-82d6b0bcb865",
   "metadata": {},
   "outputs": [
    {
     "name": "stdout",
     "output_type": "stream",
     "text": [
      "{'sahil', 'manvi', 'garima', 'nitin', 'uttam', 'prince', 'vivek', 'kanika', 'jatin'}\n"
     ]
    }
   ],
   "source": [
    "print(name)"
   ]
  },
  {
   "cell_type": "code",
   "execution_count": 138,
   "id": "153414a4-47bc-49f7-ba16-51471888236d",
   "metadata": {},
   "outputs": [],
   "source": [
    "set4 = {'nitin','prince','sahil','kanika'}\n",
    "set5 = {'uttam','vivek','jatin','vivek','nitin'}\n",
    "set6 = {'kanika','manvi','garima','jatin','nitin'}"
   ]
  },
  {
   "cell_type": "code",
   "execution_count": 140,
   "id": "8c9ac683-024a-4813-97fc-eb789d0406eb",
   "metadata": {},
   "outputs": [
    {
     "data": {
      "text/plain": [
       "{'jatin', 'nitin'}"
      ]
     },
     "execution_count": 140,
     "metadata": {},
     "output_type": "execute_result"
    }
   ],
   "source": [
    "set5.intersection(set6)"
   ]
  },
  {
   "cell_type": "code",
   "execution_count": 142,
   "id": "bfa68c2f-73e5-4f67-a4be-93b1ae06299c",
   "metadata": {},
   "outputs": [],
   "source": [
    "common_name = set4 & set5 & set6"
   ]
  },
  {
   "cell_type": "code",
   "execution_count": 144,
   "id": "233c9db3-6b69-4a2e-a0ea-64a10459c20c",
   "metadata": {},
   "outputs": [
    {
     "data": {
      "text/plain": [
       "{'nitin'}"
      ]
     },
     "execution_count": 144,
     "metadata": {},
     "output_type": "execute_result"
    }
   ],
   "source": [
    "common_name"
   ]
  },
  {
   "cell_type": "markdown",
   "id": "26ab784a-4c83-4de0-835a-6ab61a8378e6",
   "metadata": {},
   "source": [
    "# difference"
   ]
  },
  {
   "cell_type": "code",
   "execution_count": 147,
   "id": "eb2e45a8-3411-4eea-9832-62591acf0934",
   "metadata": {},
   "outputs": [],
   "source": [
    "dif = set4 - set5"
   ]
  },
  {
   "cell_type": "code",
   "execution_count": 149,
   "id": "48a9aab9-0ee3-4724-9145-71274ec36415",
   "metadata": {},
   "outputs": [
    {
     "name": "stdout",
     "output_type": "stream",
     "text": [
      "{'prince', 'sahil', 'kanika'}\n"
     ]
    }
   ],
   "source": [
    "print(dif)"
   ]
  },
  {
   "cell_type": "code",
   "execution_count": null,
   "id": "8c0d763d-19ea-4746-98b9-33137813a396",
   "metadata": {},
   "outputs": [],
   "source": []
  }
 ],
 "metadata": {
  "kernelspec": {
   "display_name": "Python 3 (ipykernel)",
   "language": "python",
   "name": "python3"
  },
  "language_info": {
   "codemirror_mode": {
    "name": "ipython",
    "version": 3
   },
   "file_extension": ".py",
   "mimetype": "text/x-python",
   "name": "python",
   "nbconvert_exporter": "python",
   "pygments_lexer": "ipython3",
   "version": "3.11.7"
  }
 },
 "nbformat": 4,
 "nbformat_minor": 5
}
